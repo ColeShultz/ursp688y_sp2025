{
 "cells": [
  {
   "cell_type": "markdown",
   "id": "13b62af4-9c03-46d7-805c-cebadd28185e",
   "metadata": {
    "editable": true,
    "id": "13b62af4-9c03-46d7-805c-cebadd28185e",
    "tags": []
   },
   "source": [
    "Urban Data Science & Smart Cities <br>\n",
    "URSP688Y Spring 2025<br>\n",
    "Instructor: Chester Harvey <br>\n",
    "Urban Studies & Planning <br>\n",
    "National Center for Smart Growth <br>\n",
    "University of Maryland"
   ]
  },
  {
   "cell_type": "markdown",
   "id": "b7d7937e-5289-44bb-ac8b-1e0b03a74e0b",
   "metadata": {
    "id": "b7d7937e-5289-44bb-ac8b-1e0b03a74e0b"
   },
   "source": [
    "# Demo 7 - Geospatial Data\n",
    "\n",
    "- Coordinate systems\n",
    "- Points from XY\n",
    "- Loading shapefiles and geojsons\n",
    "- Proximity analysis\n",
    "    - Measuring distance\n",
    "    - Buffering\n",
    "- Overlay analysis\n",
    "- Spatial joining"
   ]
  },
  {
   "cell_type": "markdown",
   "id": "67311c8c-b72a-48a6-a9a0-3f9c5bfe3c1b",
   "metadata": {},
   "source": [
    "## Geospatial data fundamentals\n",
    "- Basic geometry types:\n",
    "    - Points\n",
    "    - Linestrings\n",
    "    - Polygons\n",
    "\n",
    "<img alt=\"points, lines, and polygons\" width=500 src=\"https://datacarpentry.org/organization-geospatial/fig/dc-spatial-vector/pnt_line_poly.png\">\n",
    "\n",
    "- Spatial analysis (with vector data) is essentially just Euclidean geometry (remember the Pythagorean theorem?)\n",
    "\n",
    "<img alt=\"pythagorean theorem\" width=500 src=\"https://www.katesmathlessons.com/uploads/1/6/1/0/1610286/published/how-to-use-the-pythagorean-theorem-to-find-distance-between-points-on-coordinate-plane-2.png?1595954050\">"
   ]
  },
  {
   "cell_type": "markdown",
   "id": "57edb1da-320c-4de9-9b67-6dc50af18ada",
   "metadata": {},
   "source": [
    "## Geospatial data are everywhere\n",
    "\n",
    "DC affordable housing: https://opendata.dc.gov/datasets/DCGIS::affordable-housing/about"
   ]
  },
  {
   "cell_type": "code",
   "execution_count": null,
   "id": "7458b417-33b5-4f78-8e29-93e6c0075ab4",
   "metadata": {},
   "outputs": [],
   "source": [
    "# Install Geopandas\n",
    "\n",
    "# ! conda install -y geopandas"
   ]
  },
  {
   "cell_type": "code",
   "execution_count": null,
   "id": "c6803f96-73af-497a-bd12-d3dec85df8b6",
   "metadata": {},
   "outputs": [],
   "source": [
    "# Import dependencies\n",
    "import pandas as pd\n",
    "import geopandas as gpd"
   ]
  },
  {
   "cell_type": "markdown",
   "id": "51ae40bb-962f-40cf-ae99-79f0f54f2b07",
   "metadata": {},
   "source": [
    "## Make points from CSV"
   ]
  },
  {
   "cell_type": "code",
   "execution_count": null,
   "id": "d0da9117-f2c5-4d4f-bd66-88305a243bd0",
   "metadata": {},
   "outputs": [],
   "source": [
    "# ! Load CSV"
   ]
  },
  {
   "cell_type": "code",
   "execution_count": null,
   "id": "e43cd9c1-45da-4d2a-bf43-d32dfbe31140",
   "metadata": {},
   "outputs": [],
   "source": [
    "# ! Use gpd.points_from_xy to make geometries"
   ]
  },
  {
   "cell_type": "code",
   "execution_count": null,
   "id": "567d14fe-61fc-48d6-90e0-1be4ed4960f4",
   "metadata": {},
   "outputs": [],
   "source": [
    "# ! Use geometries to make a geodataframe with CRS"
   ]
  },
  {
   "cell_type": "code",
   "execution_count": null,
   "id": "2bc2e609-0386-45a2-bf36-26aeb70f46c6",
   "metadata": {},
   "outputs": [],
   "source": [
    "# ! Plot geodataframe"
   ]
  },
  {
   "cell_type": "markdown",
   "id": "d0018da9-96a1-47af-859a-22b4ee7d0126",
   "metadata": {},
   "source": [
    "## Measuring proximity\n",
    "\n",
    "### How far is each affordable housing project from Metro Center?\n",
    "- Map projections"
   ]
  },
  {
   "cell_type": "code",
   "execution_count": null,
   "id": "6ab1419d-dd1b-47f7-8cdf-da181db3a480",
   "metadata": {},
   "outputs": [],
   "source": [
    "# Let's start by reloading the data with more descriptive variable names so we don't get confused\n",
    "projects_df = pd.read_csv('Affordable_Housing.csv')\n",
    "projects_gdf = gpd.GeoDataFrame(projects_df, geometry=gpd.points_from_xy(projects_df['LONGITUDE'], projects_df['LATITUDE']), crs=4326)\n",
    "\n",
    "metro_center_lon = -77.0312124\n",
    "metro_center_lat = 38.898202\n",
    "metro_center_gdf = gpd.GeoDataFrame(geometry=gpd.points_from_xy([metro_center_lon], [metro_center_lat]), crs=4326)"
   ]
  },
  {
   "cell_type": "code",
   "execution_count": null,
   "id": "89d8b51c-3d50-4a72-b429-d140a4c05197",
   "metadata": {},
   "outputs": [],
   "source": [
    "# What's wrong here?\n",
    "projects_gdf.distance(metro_center_gdf.geometry.iloc[0])"
   ]
  },
  {
   "attachments": {},
   "cell_type": "markdown",
   "id": "11e8f525-97db-467b-b801-fa02b051c661",
   "metadata": {},
   "source": [
    "## UTM Zones\n",
    "\n",
    "[Universal Transverse Mercator](https://en.wikipedia.org/wiki/Universal_Transverse_Mercator_coordinate_system) Zones\n",
    "\n",
    "The UTM system divides the globe into 120 zones, 60 each in the northern and southern hemispheres. It uses Transverse Mercator projections to minimize shape and distance distortion for localized measurements within each zone.\n",
    "\n",
    "<img alt=\"utm slices\" width=500 src=\"https://gisgeography.com/wp-content/uploads/2016/05/UTM-Zones-Globe-2.png\">\n",
    "\n",
    "<img alt=\"utm standard line\" width=500 src=\"https://gisgeography.com/wp-content/uploads/2016/05/Universe-Transverse-Mercator-Cylinder.png\">"
   ]
  },
  {
   "cell_type": "markdown",
   "id": "aed5ba65-3310-4ed0-9046-127247ac73b7",
   "metadata": {},
   "source": [
    "1. [What UTM zone am I in?](https://mangomap.com/robertyoung/maps/69585/what-utm-zone-am-i-in-#)\n",
    "2. [What is the EPSG code for that zone?](https://www.google.com/search?q=epsg+code+for+UTM18N&rlz=1C5GCCM_en&oq=epsg+code+for+UTM18N&gs_lcrp=EgZjaHJvbWUyBggAEEUYOTIHCAEQIRigATIHCAIQIRigATIHCAMQIRigATIHCAQQIRigATIHCAUQIRigATIHCAYQIRiPAjIHCAcQIRiPAtIBCDcxMDJqMGo3qAIAsAIA&sourceid=chrome&ie=UTF-8)"
   ]
  },
  {
   "cell_type": "code",
   "execution_count": null,
   "id": "a948dd9b-d749-414d-b21d-b3b319405fc4",
   "metadata": {},
   "outputs": [],
   "source": [
    "# Reproject into the local UTM zone\n",
    "utm18n = # ! Look up EPSG code for UTM zone for Washington DC\n",
    "\n",
    "# ! Project both projects and metro center geodataframes into utm\n",
    "\n",
    "# ! Calculate distance between each project and metro center"
   ]
  },
  {
   "cell_type": "code",
   "execution_count": null,
   "id": "66d838e2-b7a8-4ea4-8b48-1102b09c136e",
   "metadata": {},
   "outputs": [],
   "source": [
    "# ! Get projects that are within a mile of metro center"
   ]
  },
  {
   "cell_type": "code",
   "execution_count": null,
   "id": "020839f8-034b-463f-bff3-6d7cdc1c0d37",
   "metadata": {},
   "outputs": [],
   "source": [
    "# ! Map projects with .explore()"
   ]
  },
  {
   "cell_type": "markdown",
   "id": "af693c93-87c2-4c7e-a95d-ddcd18bc2251",
   "metadata": {},
   "source": [
    "### Which projects are within 1 mile of Metro Center or Columbia Heights?\n",
    "\n",
    "#### Another approach: Buffer and spatial join"
   ]
  },
  {
   "cell_type": "code",
   "execution_count": null,
   "id": "8eb9e5f1-aa2f-46ee-92c4-481b601f5e56",
   "metadata": {},
   "outputs": [],
   "source": [
    "# Define multiple locations\n",
    "metro_locations = {\n",
    "    'Metro Center': {\n",
    "        'lon': -77.0312124, \n",
    "        'lat': 38.898202\n",
    "    },\n",
    "    'Columbia Heights': {\n",
    "        'lon': -77.0350154, \n",
    "        'lat': 38.92890\n",
    "    },\n",
    "}\n",
    "\n",
    "# Convert to a geodataframe\n",
    "metro_locations_df = pd.DataFrame.from_dict(metro_locations, orient='index')\n",
    "metro_locations_points = gpd.points_from_xy(metro_locations_df['lon'], metro_locations_df['lat'])\n",
    "metro_locations_gdf = gpd.GeoDataFrame(metro_locations_df, geometry=metro_locations_points, crs=4326)\n",
    "metro_locations_gdf = metro_locations_gdf.to_crs(utm18n)"
   ]
  },
  {
   "cell_type": "code",
   "execution_count": null,
   "id": "6733df1a-6aae-4a3d-b60c-95e7fab3de6e",
   "metadata": {},
   "outputs": [],
   "source": [
    "# Buffer metro locations\n",
    "metro_locations_buffer = metro_locations_gdf.buffer(threshold_dist)"
   ]
  },
  {
   "cell_type": "code",
   "execution_count": null,
   "id": "1cae53e7-78b9-4726-a270-dbdbfa5a79a9",
   "metadata": {},
   "outputs": [],
   "source": [
    "metro_locations_buffer.explore(tiles='CartoDB positron')"
   ]
  },
  {
   "cell_type": "code",
   "execution_count": null,
   "id": "868e5806-2c6f-48bb-84be-a4c8a0063941",
   "metadata": {},
   "outputs": [],
   "source": [
    "metro_locations_buffer_gdf = gpd.GeoDataFrame(geometry=metro_locations_buffer)\n",
    "metro_locations_buffer_gdf"
   ]
  },
  {
   "cell_type": "code",
   "execution_count": null,
   "id": "aff4deaa-90ad-4279-a855-2d1ade80d08f",
   "metadata": {},
   "outputs": [],
   "source": [
    "projects_near_metro = gpd.sjoin(projects_gdf, metro_locations_buffer_gdf)"
   ]
  },
  {
   "cell_type": "code",
   "execution_count": null,
   "id": "59d337e6-c761-45c7-9f99-2d84f09d50ac",
   "metadata": {},
   "outputs": [],
   "source": [
    "projects_near_metro.head()"
   ]
  },
  {
   "cell_type": "code",
   "execution_count": null,
   "id": "bf3565ca-ddce-428a-955e-15f52c6c2d1d",
   "metadata": {},
   "outputs": [],
   "source": [
    "projects_near_metro = projects_near_metro.rename(columns={'index_right':'near_metro'})"
   ]
  },
  {
   "cell_type": "code",
   "execution_count": null,
   "id": "04107dc1-2d5b-4553-a73e-09884e4c6ba9",
   "metadata": {},
   "outputs": [],
   "source": [
    "projects_near_metro['near_metro'].value_counts()"
   ]
  },
  {
   "cell_type": "code",
   "execution_count": null,
   "id": "34798418-2a8b-44e3-9694-d07a0a44b296",
   "metadata": {},
   "outputs": [],
   "source": [
    "projects_near_metro.explore(column='near_metro', tiles='CartoDB positron')"
   ]
  },
  {
   "cell_type": "markdown",
   "id": "3b5f0459-f60d-4464-93ae-a51304b407e9",
   "metadata": {},
   "source": [
    "## Overlay\n",
    "\n",
    "### How many projects are in each census tract?\n",
    "\n",
    "- [Population by Tract from Census Reporter](https://censusreporter.org/data/table/?table=B01003&geo_ids=16000US1150000,140|16000US1150000&primary_geo_id=16000US1150000)"
   ]
  },
  {
   "cell_type": "code",
   "execution_count": null,
   "id": "7507c1bd-2b27-4f0d-824a-9c6d5cdc94ff",
   "metadata": {},
   "outputs": [],
   "source": [
    "# Load tract polygons from geojson\n",
    "tracts_gdf = gpd.read_file('acs2023_5yr_B01003_14000US11001007409.geojson')\n",
    "# Project into local UTM\n",
    "tracts_gdf = tracts_gdf.to_crs(utm18n)\n",
    "# Only keep records that are tracts (there's pesky one for all of Washington DC)\n",
    "tracts_gdf = tracts_gdf[tracts_gdf.geoid.str.len() == 18]"
   ]
  },
  {
   "cell_type": "code",
   "execution_count": null,
   "id": "d449c417-3581-49dc-a2cc-9bbefabaab96",
   "metadata": {},
   "outputs": [],
   "source": [
    "tracts_gdf.plot()"
   ]
  },
  {
   "cell_type": "code",
   "execution_count": null,
   "id": "cc3a19b2-b7e7-4bc3-9314-5eb1b4e81eb6",
   "metadata": {},
   "outputs": [],
   "source": [
    "# Ensure projects and tracts are in the same projection (CRS: coordinate reference system)\n",
    "assert projects_gdf.crs == tracts_gdf.crs"
   ]
  },
  {
   "cell_type": "code",
   "execution_count": null,
   "id": "a0813d62-f241-4eba-b320-36da8949aa34",
   "metadata": {},
   "outputs": [],
   "source": [
    "# Spatially join projects to tracts\n",
    "tracts_with_projects_gdf = gpd.sjoin(tracts_gdf, projects_gdf, how='left')"
   ]
  },
  {
   "cell_type": "code",
   "execution_count": null,
   "id": "ab915900-6a53-4d07-a8e9-6bd81a266093",
   "metadata": {},
   "outputs": [],
   "source": [
    "tracts_with_projects_gdf.head()"
   ]
  },
  {
   "cell_type": "code",
   "execution_count": null,
   "id": "8c77350b-93b0-49ce-9b1a-19b82078e9e3",
   "metadata": {},
   "outputs": [],
   "source": [
    "# Count unique projects in each tract\n",
    "project_counts = tracts_with_projects_gdf.groupby('geoid').index_right.nunique()\n",
    "\n",
    "project_counts"
   ]
  },
  {
   "cell_type": "code",
   "execution_count": null,
   "id": "673a9a80-90e7-455f-a55f-eca67f0d6b98",
   "metadata": {},
   "outputs": [],
   "source": [
    "# Join counts onto tracts\n",
    "tracts_with_counts_gdf = tracts_gdf.merge(project_counts, left_on='geoid', right_index=True)"
   ]
  },
  {
   "cell_type": "code",
   "execution_count": null,
   "id": "508d1d0d-3a03-4126-8147-a5960db4df4e",
   "metadata": {},
   "outputs": [],
   "source": [
    "tracts_with_counts_gdf.head()"
   ]
  },
  {
   "cell_type": "code",
   "execution_count": null,
   "id": "cddde2f3-f183-4fab-9fb4-5aacae40af36",
   "metadata": {},
   "outputs": [],
   "source": [
    "# Cleanup columns\n",
    "columns = {\n",
    "    'geoid':'geoid',\n",
    "    'B01003001':'population',\n",
    "    'index_right':'projects',\n",
    "    'geometry':'geometry'\n",
    "}\n",
    "tracts_with_counts_gdf = tracts_with_counts_gdf[columns.keys()].rename(columns=columns)"
   ]
  },
  {
   "cell_type": "code",
   "execution_count": null,
   "id": "a199bdb4-d3a7-4868-a751-721be856f38d",
   "metadata": {},
   "outputs": [],
   "source": [
    "tracts_with_counts_gdf.head()"
   ]
  },
  {
   "cell_type": "code",
   "execution_count": null,
   "id": "bd5dd781-fd2e-4a32-b869-098d91b263ec",
   "metadata": {},
   "outputs": [],
   "source": [
    "tracts_with_counts_gdf.plot(column='projects')"
   ]
  },
  {
   "cell_type": "code",
   "execution_count": null,
   "id": "35a2fb52-361f-431a-8874-15016063ada0",
   "metadata": {},
   "outputs": [],
   "source": [
    "# Calculate projects per population\n",
    "tracts_with_counts_gdf['projects_per_population'] = tracts_with_counts_gdf['projects'] / tracts_with_counts_gdf['population']"
   ]
  },
  {
   "cell_type": "code",
   "execution_count": null,
   "id": "457d4b7d-c308-48d1-a71d-6aa83322a902",
   "metadata": {},
   "outputs": [],
   "source": [
    "tracts_with_counts_gdf.plot(column='projects_per_population')"
   ]
  },
  {
   "cell_type": "markdown",
   "id": "8dd8e8f9-3280-4599-82ef-c18232a9d994",
   "metadata": {},
   "source": [
    "### How many units are in each census tract?"
   ]
  },
  {
   "cell_type": "code",
   "execution_count": null,
   "id": "1fab8ac5-6a71-445e-8ade-d9ae1deba45f",
   "metadata": {},
   "outputs": [],
   "source": [
    "# Use a the general 'agg' method to aggregate multiple columns at once by different methods\n",
    "project_stats = tracts_with_projects_gdf.groupby('geoid').agg({\n",
    "    'index_right': 'nunique',\n",
    "    'TOTAL_AFFORDABLE_UNITS': 'sum',\n",
    "})\n",
    "\n",
    "tracts_with_counts_gdf = tracts_gdf.merge(project_stats, left_on='geoid', right_index=True)\n",
    "\n",
    "columns = {\n",
    "    'geoid':'geoid',\n",
    "    'B01003001':'population',\n",
    "    'index_right':'projects',\n",
    "    'TOTAL_AFFORDABLE_UNITS': 'units',\n",
    "    'geometry':'geometry',\n",
    "}\n",
    "tracts_with_counts_gdf = tracts_with_counts_gdf[columns.keys()].rename(columns=columns)"
   ]
  },
  {
   "cell_type": "code",
   "execution_count": null,
   "id": "852030bc-73d2-4ae0-bc8f-64b943cc4da6",
   "metadata": {},
   "outputs": [],
   "source": [
    "tracts_with_counts_gdf.plot(column='units')"
   ]
  }
 ],
 "metadata": {
  "colab": {
   "provenance": []
  },
  "kernelspec": {
   "display_name": "Python 3 (ipykernel)",
   "language": "python",
   "name": "python3"
  },
  "language_info": {
   "codemirror_mode": {
    "name": "ipython",
    "version": 3
   },
   "file_extension": ".py",
   "mimetype": "text/x-python",
   "name": "python",
   "nbconvert_exporter": "python",
   "pygments_lexer": "ipython3",
   "version": "3.13.1"
  }
 },
 "nbformat": 4,
 "nbformat_minor": 5
}
