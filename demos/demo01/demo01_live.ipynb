{
  "cells": [
    {
      "cell_type": "markdown",
      "id": "13b62af4-9c03-46d7-805c-cebadd28185e",
      "metadata": {
        "editable": true,
        "tags": [],
        "id": "13b62af4-9c03-46d7-805c-cebadd28185e"
      },
      "source": [
        "Urban Data Science & Smart Cities <br>\n",
        "URSP688Y Spring 2025<br>\n",
        "Instructor: Chester Harvey <br>\n",
        "Urban Studies & Planning <br>\n",
        "National Center for Smart Growth <br>\n",
        "University of Maryland"
      ]
    },
    {
      "cell_type": "markdown",
      "id": "b7d7937e-5289-44bb-ac8b-1e0b03a74e0b",
      "metadata": {
        "id": "b7d7937e-5289-44bb-ac8b-1e0b03a74e0b"
      },
      "source": [
        "# Demo 1 - Programming fundamentals\n",
        "\n",
        "- Pseudocode\n",
        "- Notebooks\n",
        "- Intro to programming (with Python)\n",
        "    - Why Python?\n",
        "    - Variables\n",
        "    - Syntax vs. style\n",
        "    - Basic data types\n",
        "    - Conditions and loops\n",
        "    - Errors and debugging"
      ]
    },
    {
      "cell_type": "markdown",
      "source": [
        "# Pseudocode"
      ],
      "metadata": {
        "id": "EQ6DSKGe-tDe"
      },
      "id": "EQ6DSKGe-tDe"
    },
    {
      "cell_type": "code",
      "source": [
        "# How many housing units could be built\n",
        "# on state land near major transit stations?\n",
        "\n",
        "# State land --> Polygons of state owned parcels\n",
        "# Transit stations --> Points of bus stations and train stations\n",
        "# What is major transit? --> Stations with service <= 15mins\n",
        "# What is near? --> 1/2 mile (walkable within 15 minutes)\n",
        "# Density --> 40\n",
        "\n",
        "# 1. Buffer transit stations by half mile\n",
        "\n",
        "\n",
        "# 2. Find overlap the half mile buffer?\n",
        "\n",
        "\n",
        "# 3. Calculate area of those parcels\n",
        "\n",
        "\n",
        "# 4. Multiply the area by the density\n",
        "\n",
        "\n",
        "# 5. Round to nearest integer\n",
        "\n",
        "\n",
        "# Output: Number of housing units (integer)"
      ],
      "metadata": {
        "id": "QJv5wiLXFNFZ"
      },
      "id": "QJv5wiLXFNFZ",
      "execution_count": 1,
      "outputs": []
    },
    {
      "cell_type": "markdown",
      "source": [
        "## Intro to Python Programming\n",
        "\n",
        "### Python is:  \n",
        "  - A scripting language\n",
        "    - *fairly* human-readable (not just 0s and 1s)\n",
        "  - Used for a wide range of applications\n",
        "    - Scientific programming (R is also a popular scientific language, but not nearly as widely used for production software)\n",
        "    - Production software development\n",
        "  - Open source\n",
        "    - Free to use and adapt for your own purposes\n",
        "  - *Very* large support community\n",
        "    - Google is your best friend\n",
        "  - Highly extensible\n",
        "    - Many freely-available packages with pre-built tools\n",
        "    - You can modify existing packages\n",
        "    - You can write your own custom package\n",
        "  - Multi-platform\n",
        "    - Run on a Mac, PC, Linux, Unix, in the cloud, etc."
      ],
      "metadata": {
        "id": "snwBf2fF_Krk"
      },
      "id": "snwBf2fF_Krk"
    },
    {
      "cell_type": "markdown",
      "source": [
        "### Syntax\n",
        "\n",
        "How code is written as a language that is understandable by a computer.\n",
        "\n",
        "Code has to follow grammatical rules, just like any language.\n",
        "\n",
        "### Some basic syntax\n",
        "- Variable assignment\n",
        "- Operators\n",
        "- Statements\n",
        "- Indentation\n",
        "- Comments\n",
        "\n",
        "### Style\n",
        "\n",
        "Some aspects of how code is written don't change how a computer interprets it, but do make it easier or harder for a human to understand.\n",
        "\n",
        "- *Syntax*: will my code run (be readable by the computer)?\n",
        "- *Style*: will my code be easily readable by a human (including myself!)?\n",
        "\n",
        "#### Variables\n",
        "\n",
        "- Name-based storage containers\n",
        "- Can be easily recalled\n",
        "- Can usually be updated\n",
        "\n",
        "Variable names are completely arbitrary. They can be any combination of letters and numbers. BUT, there can't be any spaces and they can't start with a numeral."
      ],
      "metadata": {
        "id": "sWPk5dQnAMNV"
      },
      "id": "sWPk5dQnAMNV"
    },
    {
      "cell_type": "markdown",
      "source": [
        "# Variables"
      ],
      "metadata": {
        "id": "n0D5Zx7ALKrw"
      },
      "id": "n0D5Zx7ALKrw"
    },
    {
      "cell_type": "code",
      "source": [
        "# Storing a value (the string 'Chester') in a variable (name)\n",
        "name = 'Chester'"
      ],
      "metadata": {
        "id": "tntBbyQTAN0y"
      },
      "id": "tntBbyQTAN0y",
      "execution_count": 2,
      "outputs": []
    },
    {
      "cell_type": "code",
      "source": [
        "# Variables names are arbitrary——they don't have to be meaningful\n",
        "x = 'chester'"
      ],
      "metadata": {
        "id": "MdWhTjWJAtrq"
      },
      "id": "MdWhTjWJAtrq",
      "execution_count": 3,
      "outputs": []
    },
    {
      "cell_type": "code",
      "source": [
        "# Best to store variables with meaningful names\n",
        "name = 'Chester'"
      ],
      "metadata": {
        "id": "gx-McwDeA2Yz"
      },
      "id": "gx-McwDeA2Yz",
      "execution_count": 6,
      "outputs": []
    },
    {
      "cell_type": "markdown",
      "source": [
        "# Comments"
      ],
      "metadata": {
        "id": "SWg1358RLqOT"
      },
      "id": "SWg1358RLqOT"
    },
    {
      "cell_type": "code",
      "source": [
        "\"\"\"\n",
        "This is a multiline comment\n",
        "\"\"\"\n",
        "# This is a single line comment\n",
        "# Lines that are \"commented out\" won't get run as code"
      ],
      "metadata": {
        "id": "JYVxfHS1Li05"
      },
      "id": "JYVxfHS1Li05",
      "execution_count": null,
      "outputs": []
    },
    {
      "cell_type": "markdown",
      "source": [
        "# Statements run as sequential instructions"
      ],
      "metadata": {
        "id": "P8DlmtqSLsrx"
      },
      "id": "P8DlmtqSLsrx"
    },
    {
      "cell_type": "code",
      "source": [
        "# Sequence multiple statements together; they run in order\n",
        "# Later statements may depend on earlier statements\n",
        "day = 'Thurday'\n",
        "calendar_text = f'The day of the week is {day}'\n",
        "calendar_text"
      ],
      "metadata": {
        "colab": {
          "base_uri": "https://localhost:8080/",
          "height": 35
        },
        "id": "FDH1nQHQBbE3",
        "outputId": "62a962a7-2ab4-491c-de78-8ca22f6bdc70"
      },
      "id": "FDH1nQHQBbE3",
      "execution_count": 74,
      "outputs": [
        {
          "output_type": "execute_result",
          "data": {
            "text/plain": [
              "'The day of the week is Thurday'"
            ],
            "application/vnd.google.colaboratory.intrinsic+json": {
              "type": "string"
            }
          },
          "metadata": {},
          "execution_count": 74
        }
      ]
    },
    {
      "cell_type": "markdown",
      "source": [
        "# Operators"
      ],
      "metadata": {
        "id": "QfJgorTRLFtf"
      },
      "id": "QfJgorTRLFtf"
    },
    {
      "cell_type": "code",
      "source": [
        "# Assignment operator (assigns a value to a variable)\n",
        "a = 1\n",
        "b = 4"
      ],
      "metadata": {
        "id": "ZWHtsCYoCWAq"
      },
      "id": "ZWHtsCYoCWAq",
      "execution_count": 71,
      "outputs": []
    },
    {
      "cell_type": "code",
      "source": [
        "# Mathematical operator\n",
        "a * b"
      ],
      "metadata": {
        "colab": {
          "base_uri": "https://localhost:8080/"
        },
        "id": "aq60cAySB0la",
        "outputId": "4b6aa0db-17f8-4568-c736-8b35dab4051d"
      },
      "id": "aq60cAySB0la",
      "execution_count": 72,
      "outputs": [
        {
          "output_type": "execute_result",
          "data": {
            "text/plain": [
              "4"
            ]
          },
          "metadata": {},
          "execution_count": 72
        }
      ]
    },
    {
      "cell_type": "code",
      "source": [
        "# Logical operator (outputs true or false)\n",
        "a == b"
      ],
      "metadata": {
        "colab": {
          "base_uri": "https://localhost:8080/"
        },
        "id": "q70ZgTLwCFL7",
        "outputId": "7cf9a011-f6c3-41db-8d32-8635563298af"
      },
      "id": "q70ZgTLwCFL7",
      "execution_count": 73,
      "outputs": [
        {
          "output_type": "execute_result",
          "data": {
            "text/plain": [
              "False"
            ]
          },
          "metadata": {},
          "execution_count": 73
        }
      ]
    },
    {
      "cell_type": "markdown",
      "source": [
        "# Basic Data Types"
      ],
      "metadata": {
        "id": "mUSrk-KTLA2m"
      },
      "id": "mUSrk-KTLA2m"
    },
    {
      "cell_type": "code",
      "source": [
        "# String\n",
        "name = \"Chester\""
      ],
      "metadata": {
        "id": "5elYlpKmCb-t"
      },
      "id": "5elYlpKmCb-t",
      "execution_count": 67,
      "outputs": []
    },
    {
      "cell_type": "code",
      "source": [
        "name"
      ],
      "metadata": {
        "colab": {
          "base_uri": "https://localhost:8080/",
          "height": 35
        },
        "id": "xFib-yJ-KOWk",
        "outputId": "75f13d9d-86b5-4847-9f16-8c71b7f4131c"
      },
      "id": "xFib-yJ-KOWk",
      "execution_count": 68,
      "outputs": [
        {
          "output_type": "execute_result",
          "data": {
            "text/plain": [
              "'Chester'"
            ],
            "application/vnd.google.colaboratory.intrinsic+json": {
              "type": "string"
            }
          },
          "metadata": {},
          "execution_count": 68
        }
      ]
    },
    {
      "cell_type": "code",
      "source": [
        "type(name)"
      ],
      "metadata": {
        "colab": {
          "base_uri": "https://localhost:8080/"
        },
        "id": "oEz9zaWbKQZP",
        "outputId": "67b93079-1919-4715-a2d2-88c7952ea601"
      },
      "id": "oEz9zaWbKQZP",
      "execution_count": 69,
      "outputs": [
        {
          "output_type": "execute_result",
          "data": {
            "text/plain": [
              "str"
            ]
          },
          "metadata": {},
          "execution_count": 69
        }
      ]
    },
    {
      "cell_type": "code",
      "source": [
        "# Integer\n",
        "housing_units = 25"
      ],
      "metadata": {
        "id": "Ql5zMC1MD0bV"
      },
      "id": "Ql5zMC1MD0bV",
      "execution_count": 63,
      "outputs": []
    },
    {
      "cell_type": "code",
      "source": [
        "housing_units"
      ],
      "metadata": {
        "colab": {
          "base_uri": "https://localhost:8080/"
        },
        "id": "f0kfS1yMKGBp",
        "outputId": "c1016760-ca99-424f-e97a-0d331b177e28"
      },
      "id": "f0kfS1yMKGBp",
      "execution_count": 64,
      "outputs": [
        {
          "output_type": "execute_result",
          "data": {
            "text/plain": [
              "25"
            ]
          },
          "metadata": {},
          "execution_count": 64
        }
      ]
    },
    {
      "cell_type": "code",
      "source": [
        "type(housing_units)"
      ],
      "metadata": {
        "colab": {
          "base_uri": "https://localhost:8080/"
        },
        "id": "u0itqLqfEIGD",
        "outputId": "ffc2dea5-40d8-4f81-91fd-244d583b3533"
      },
      "id": "u0itqLqfEIGD",
      "execution_count": 58,
      "outputs": [
        {
          "output_type": "execute_result",
          "data": {
            "text/plain": [
              "int"
            ]
          },
          "metadata": {},
          "execution_count": 58
        }
      ]
    },
    {
      "cell_type": "code",
      "source": [
        "# Floating number\n",
        "miles = 8.29234"
      ],
      "metadata": {
        "id": "YJnG83SZEMx5"
      },
      "id": "YJnG83SZEMx5",
      "execution_count": 60,
      "outputs": []
    },
    {
      "cell_type": "code",
      "source": [
        "miles"
      ],
      "metadata": {
        "colab": {
          "base_uri": "https://localhost:8080/"
        },
        "id": "dGuQ-xilEjlH",
        "outputId": "a361e64e-8595-444e-8d23-e0d9be8143ed"
      },
      "id": "dGuQ-xilEjlH",
      "execution_count": 61,
      "outputs": [
        {
          "output_type": "execute_result",
          "data": {
            "text/plain": [
              "8.29234"
            ]
          },
          "metadata": {},
          "execution_count": 61
        }
      ]
    },
    {
      "cell_type": "code",
      "source": [
        "type(miles)"
      ],
      "metadata": {
        "colab": {
          "base_uri": "https://localhost:8080/"
        },
        "id": "nwKIPhs6En1G",
        "outputId": "ebff214f-ef33-4fb8-db97-f2c272b0fa7a"
      },
      "id": "nwKIPhs6En1G",
      "execution_count": 65,
      "outputs": [
        {
          "output_type": "execute_result",
          "data": {
            "text/plain": [
              "float"
            ]
          },
          "metadata": {},
          "execution_count": 65
        }
      ]
    }
  ],
  "metadata": {
    "kernelspec": {
      "display_name": "Python 3 (ipykernel)",
      "language": "python",
      "name": "python3"
    },
    "language_info": {
      "codemirror_mode": {
        "name": "ipython",
        "version": 3
      },
      "file_extension": ".py",
      "mimetype": "text/x-python",
      "name": "python",
      "nbconvert_exporter": "python",
      "pygments_lexer": "ipython3",
      "version": "3.10.12"
    },
    "colab": {
      "provenance": []
    }
  },
  "nbformat": 4,
  "nbformat_minor": 5
}