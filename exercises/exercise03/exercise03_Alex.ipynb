{
 "cells": [
  {
   "cell_type": "code",
   "execution_count": null,
   "id": "4205149c-fc44-4890-8829-d0cbfd1b9f74",
   "metadata": {},
   "outputs": [],
   "source": [
    "#This analysis investigates whether eviction rates are higher near Purple Line light rail stations \n",
    "#compared to other areas in Prince George’s and Montgomery Counties, Maryland. The research builds on prior \n",
    "#tabular analyses by incorporating spatial methods to examine how proximity to transit infrastructure may \n",
    "#correlate with housing instability. Using address-level eviction data from Maryland Judiciary Case Search \n",
    "#and geospatial data for planned Line station locations, I conduct a proximity analysis to\n",
    "#classify eviction events as either \"near\" or \"far\" from Purple Line stations (within 1 mile and beyond 1 \n",
    "#mile, respectively). Eviction density is calculated using kernel density estimation and aggregated to \n",
    "#Census tracts for comparison with demographic and housing variables."
   ]
  },
  {
   "cell_type": "code",
   "execution_count": 1,
   "id": "3b963e60-ef50-442c-80b0-b01d42d15a8a",
   "metadata": {},
   "outputs": [],
   "source": [
    "import pandas as pd\n",
    "import geopandas as gpd\n",
    "import utils\n",
    "import exercise03\n",
    "import census_geocode\n",
    "\n",
    "%load_ext autoreload\n",
    "%autoreload 2"
   ]
  },
  {
   "cell_type": "code",
   "execution_count": null,
   "id": "7e396983-017b-4453-9cc3-60c739a7b683",
   "metadata": {},
   "outputs": [],
   "source": [
    "# Load warrants and make sure zip codes are stored as strings without decimals\n",
    "warrants_df = pd.read_csv('md_eviction_warrants_through_2024.csv')\n",
    "warrants_df['TenantZipCode'] = warrants_df['TenantZipCode'].astype('Int64').astype('string')\n",
    "len(warrants_df) # How many warrants are we working with?"
   ]
  },
  {
   "cell_type": "code",
   "execution_count": null,
   "id": "87ab9d33-9972-49a4-8276-a4bdf1bfc500",
   "metadata": {},
   "outputs": [],
   "source": [
    "# Rather than geocoding 400K+ addresses, could we get only the unique ones?\n",
    "geocode_input_df = exercise03.prep_warrants_for_geocoding(warrants_df)"
   ]
  },
  {
   "cell_type": "code",
   "execution_count": null,
   "id": "41251caa-4066-4829-9236-b822552b0457",
   "metadata": {},
   "outputs": [],
   "source": [
    "# The Census Geocoder API can only accept up to 10K rows at a time, so we have to break\n",
    "# our dataframe into chunks\n",
    "\n",
    "# Split into dataframes with less than 10K rows each\n",
    "geocode_input_dfs = utils.chunk_dataframe(geocode_input_df, 9999)\n",
    "\n",
    "# Save each dataframe as a CSV without a header\n",
    "utils.save_dfs_to_csv(geocode_input_dfs, 'geocode_inputs', header=False)"
   ]
  },
  {
   "cell_type": "code",
   "execution_count": null,
   "id": "65461449-8018-4f39-9c49-63ee7ee246ee",
   "metadata": {},
   "outputs": [],
   "source": [
    "# Geocode addresses with the Census Geocoder (set test=True to process only one file)\n",
    "census_geocode.geocode_csvs('geocode_inputs', 'geocode_outputs', test=True)"
   ]
  },
  {
   "cell_type": "code",
   "execution_count": null,
   "id": "83419a4c-3912-424b-ac62-f259f54ebd53",
   "metadata": {},
   "outputs": [],
   "source": [
    "# Recombine outputs from geocoder into a single dataframe\n",
    "geocode_output_df = exercise03.combine_census_geocoded_csvs('geocode_outputs')\n",
    "len(geocode_output_df)"
   ]
  },
  {
   "cell_type": "code",
   "execution_count": null,
   "id": "f74c5e86-b49f-4221-a26d-692b19af5933",
   "metadata": {},
   "outputs": [],
   "source": [
    "# Merge geocoded address back onto the inputs with separate fields for address, city, state, and zip\n",
    "geocoded_df = geocode_input_df.merge(geocode_output_df, left_index=True, right_index=True)\n",
    "len(geocoded_df)"
   ]
  },
  {
   "cell_type": "code",
   "execution_count": null,
   "id": "0350d308-645f-4ab0-bc86-f6ea4fd41665",
   "metadata": {},
   "outputs": [],
   "source": [
    "# Use address, city, state, and zip columns to join geocodes onto original warrant records\n",
    "warrants_df = warrants_df.merge(geocoded_df, on=['TenantAddress','TenantCity','TenantState','TenantZipCode'])\n",
    "len(warrants_df)"
   ]
  },
  {
   "cell_type": "code",
   "execution_count": null,
   "id": "5b161e30-89fb-4773-88de-dbe3700d7e11",
   "metadata": {},
   "outputs": [],
   "source": [
    "# Convert warrants into a geodataframe with points\n",
    "warrants_gdf = utils.lonlat_str_to_geodataframe(warrants_df, 'match_lon_lat')"
   ]
  },
  {
   "cell_type": "code",
   "execution_count": null,
   "id": "9d25de3a-8146-4e7a-abff-471625417fc5",
   "metadata": {},
   "outputs": [],
   "source": [
    "# What proportion of records have points?\n",
    "len(warrants_gdf[warrants_gdf.lon.notnull()]) / len(warrants_gdf)"
   ]
  },
  {
   "cell_type": "code",
   "execution_count": null,
   "id": "2698bff3-b747-445f-9aa0-a9bf89df441b",
   "metadata": {},
   "outputs": [],
   "source": [
    "# What proportion of records have exact geocode matches?\n",
    "len(warrants_gdf[warrants_gdf.match_type == 'Exact']) / len(warrants_gdf)"
   ]
  },
  {
   "cell_type": "code",
   "execution_count": null,
   "id": "61a86dc7-fd18-44fe-99ee-d074c9272dd7",
   "metadata": {},
   "outputs": [],
   "source": [
    "warrants_gdf.to_parquet('md_eviction_warrants_through_2024.geoparquet')"
   ]
  },
  {
   "cell_type": "code",
   "execution_count": null,
   "id": "184038d1-25e9-4178-a282-3d4d32b92db2",
   "metadata": {},
   "outputs": [],
   "source": [
    "gdf = gpd.read_parquet('md_eviction_warrants_through_2024.geoparquet')"
   ]
  },
  {
   "cell_type": "code",
   "execution_count": null,
   "id": "9d69ac4d-e39d-43d0-82d0-7befc4cfc096",
   "metadata": {},
   "outputs": [],
   "source": [
    "gdf.columns.tolist()"
   ]
  },
  {
   "cell_type": "code",
   "execution_count": null,
   "id": "40fe6233-7693-41c1-ad08-d75d48e36317",
   "metadata": {},
   "outputs": [],
   "source": []
  }
 ],
 "metadata": {
  "kernelspec": {
   "display_name": "Python 3 (ipykernel)",
   "language": "python",
   "name": "python3"
  },
  "language_info": {
   "codemirror_mode": {
    "name": "ipython",
    "version": 3
   },
   "file_extension": ".py",
   "mimetype": "text/x-python",
   "name": "python",
   "nbconvert_exporter": "python",
   "pygments_lexer": "ipython3",
   "version": "3.12.8"
  }
 },
 "nbformat": 4,
 "nbformat_minor": 5
}
