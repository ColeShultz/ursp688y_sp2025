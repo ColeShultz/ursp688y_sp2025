{
 "cells": [
  {
   "cell_type": "markdown",
   "id": "61688034-24b5-4400-8b06-7e3188b283f1",
   "metadata": {},
   "source": [
    "Urban Data Science & Smart Cities <br>\n",
    "URSP688Y Spring 2025<br>\n",
    "Instructor: Chester Harvey <br>\n",
    "Urban Studies & Planning <br>\n",
    "National Center for Smart Growth <br>\n",
    "University of Maryland"
   ]
  },
  {
   "cell_type": "markdown",
   "id": "3f9c1002-000c-4080-a9f1-43e319e7d0be",
   "metadata": {},
   "source": [
    "# Exercise03\n",
    "\n",
    "## Problem\n",
    "\n",
    "In the last exercise, you explored \n",
    "\n",
    "\n",
    "\n",
    "## Data\n",
    "\n",
    "\n",
    "\n",
    "## File Management and Submitting\n",
    "\n",
    "\n",
    "## Getting Started"
   ]
  },
  {
   "cell_type": "markdown",
   "id": "baa492b7-289c-4bd4-9057-2e7f261433c9",
   "metadata": {},
   "source": [
    "https://geocoding.geo.census.gov/geocoder/"
   ]
  },
  {
   "cell_type": "code",
   "execution_count": 1,
   "id": "1473cd2a-1936-41bf-b409-aef05cfa28b1",
   "metadata": {},
   "outputs": [],
   "source": [
    "import pandas as pd\n",
    "import geopandas as gpd\n",
    "import utils\n",
    "import exercise03\n",
    "import census_geocode\n",
    "\n",
    "%load_ext autoreload\n",
    "%autoreload 2"
   ]
  },
  {
   "cell_type": "code",
   "execution_count": 2,
   "id": "de69f731-f3d2-4cae-a035-498fc20923fd",
   "metadata": {},
   "outputs": [
    {
     "data": {
      "text/plain": [
       "411040"
      ]
     },
     "execution_count": 2,
     "metadata": {},
     "output_type": "execute_result"
    }
   ],
   "source": [
    "# Load warrents and make sure zip codes are stored as strings without decimals\n",
    "warrents_df = pd.read_csv('md_eviction_warrents_through_2024.csv')\n",
    "warrents_df['TenantZipCode'] = warrents_df['TenantZipCode'].astype('Int64').astype('string')\n",
    "len(warrents_df)"
   ]
  },
  {
   "cell_type": "code",
   "execution_count": 3,
   "id": "5cee92bd-e932-4505-9c0b-16ad6e3c9533",
   "metadata": {},
   "outputs": [
    {
     "name": "stdout",
     "output_type": "stream",
     "text": [
      "411040 warrents input\n",
      "Reduced to 167949 unique addresses\n"
     ]
    }
   ],
   "source": [
    "geocode_input_df = exercise03.prep_warrents_for_geocoding(warrents_df)"
   ]
  },
  {
   "cell_type": "code",
   "execution_count": 4,
   "id": "2e9bf2cf-fd25-43bc-92eb-0f9fecf4bb82",
   "metadata": {},
   "outputs": [
    {
     "name": "stdout",
     "output_type": "stream",
     "text": [
      "split dataframe into 17 chunks\n"
     ]
    }
   ],
   "source": [
    "# Split into dataframes with less than 10000 rows each\n",
    "geocode_input_dfs = utils.chunk_dataframe(geocode_input_df, 9999)\n",
    "\n",
    "# Save each dataframe as a CSV without a header\n",
    "utils.save_dfs_to_csv(geocode_input_dfs, 'geocode_inputs', header=False)"
   ]
  },
  {
   "cell_type": "code",
   "execution_count": 5,
   "id": "cfa32bb8-71de-4561-86aa-032add716e29",
   "metadata": {},
   "outputs": [],
   "source": [
    "# Geocode addresses with the Census Geocoder\n",
    "# census_geocode.geocode_csvs('geocode_inputs', 'geocode_outputs', test=True)"
   ]
  },
  {
   "cell_type": "code",
   "execution_count": 6,
   "id": "0d60a313-0bc1-49d1-afce-230556f176eb",
   "metadata": {},
   "outputs": [
    {
     "data": {
      "text/plain": [
       "167949"
      ]
     },
     "execution_count": 6,
     "metadata": {},
     "output_type": "execute_result"
    }
   ],
   "source": [
    "# Recombine outputs from geocoder into a single dataframe\n",
    "geocode_output_df = exercise03.combine_census_geocoded_csvs('geocode_outputs')\n",
    "len(geocode_output_df)"
   ]
  },
  {
   "cell_type": "code",
   "execution_count": 7,
   "id": "f48b44b9-ba81-478e-93cf-50aee3370191",
   "metadata": {},
   "outputs": [
    {
     "data": {
      "text/plain": [
       "167949"
      ]
     },
     "execution_count": 7,
     "metadata": {},
     "output_type": "execute_result"
    }
   ],
   "source": [
    "# Merge geocoded address back onto the inputs with separate fields for address, city, state, and zip\n",
    "geocoded_df = geocode_input_df.merge(geocode_output_df, left_index=True, right_index=True)\n",
    "len(geocoded_df)"
   ]
  },
  {
   "cell_type": "code",
   "execution_count": 8,
   "id": "143884cf-404e-489b-966a-67150bcad99d",
   "metadata": {},
   "outputs": [
    {
     "data": {
      "text/plain": [
       "411040"
      ]
     },
     "execution_count": 8,
     "metadata": {},
     "output_type": "execute_result"
    }
   ],
   "source": [
    "# Use address, city, state, and zip columns to join geocodes onto original warrent records\n",
    "warrents_df = warrents_df.merge(geocoded_df, on=['TenantAddress','TenantCity','TenantState','TenantZipCode'])\n",
    "len(warrents_df)"
   ]
  },
  {
   "cell_type": "code",
   "execution_count": 9,
   "id": "52b66070-42a5-4aad-925b-28c392eab33c",
   "metadata": {},
   "outputs": [],
   "source": [
    "# Convert warrents into a geodataframe with points\n",
    "warrents_gdf = utils.lonlat_str_to_geodataframe(warrents_df, 'match_lon_lat')"
   ]
  },
  {
   "cell_type": "code",
   "execution_count": 11,
   "id": "ced85ad1-9998-470a-85ea-2019b614a552",
   "metadata": {},
   "outputs": [
    {
     "data": {
      "text/plain": [
       "0.9458057609964967"
      ]
     },
     "execution_count": 11,
     "metadata": {},
     "output_type": "execute_result"
    }
   ],
   "source": [
    "# What proportion of records have points?\n",
    "len(warrents_gdf[warrents_gdf.lon.notnull()]) / len(warrents_gdf)"
   ]
  },
  {
   "cell_type": "code",
   "execution_count": 12,
   "id": "d60464a1-7c6e-4bea-8cd1-c5a17ec72b0b",
   "metadata": {},
   "outputs": [
    {
     "data": {
      "text/plain": [
       "0.5598554885169327"
      ]
     },
     "execution_count": 12,
     "metadata": {},
     "output_type": "execute_result"
    }
   ],
   "source": [
    "# What proportion of records have exact geocode matches?\n",
    "len(warrents_gdf[warrents_gdf.match_type == 'Exact']) / len(warrents_gdf)"
   ]
  },
  {
   "cell_type": "code",
   "execution_count": null,
   "id": "b7fe55db-26e9-4485-b440-9bbd4b9ed444",
   "metadata": {},
   "outputs": [],
   "source": []
  }
 ],
 "metadata": {
  "kernelspec": {
   "display_name": "Python 3 (ipykernel)",
   "language": "python",
   "name": "python3"
  },
  "language_info": {
   "codemirror_mode": {
    "name": "ipython",
    "version": 3
   },
   "file_extension": ".py",
   "mimetype": "text/x-python",
   "name": "python",
   "nbconvert_exporter": "python",
   "pygments_lexer": "ipython3",
   "version": "3.13.1"
  }
 },
 "nbformat": 4,
 "nbformat_minor": 5
}
