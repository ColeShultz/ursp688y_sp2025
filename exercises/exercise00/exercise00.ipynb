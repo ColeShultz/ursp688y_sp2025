{
 "cells": [
  {
   "cell_type": "markdown",
   "id": "13b62af4-9c03-46d7-805c-cebadd28185e",
   "metadata": {
    "editable": true,
    "slideshow": {
     "slide_type": ""
    },
    "tags": []
   },
   "source": [
    "Urban Data Science & Smart Cities <br>\n",
    "URSP688Y Spring 2025<br>\n",
    "Instructor: Chester Harvey <br>\n",
    "Urban Studies & Planning <br>\n",
    "National Center for Smart Growth <br>\n",
    "University of Maryland"
   ]
  },
  {
   "attachments": {},
   "cell_type": "markdown",
   "id": "b7d7937e-5289-44bb-ac8b-1e0b03a74e0b",
   "metadata": {},
   "source": [
    "# Exercise01\n",
    "\n",
    "This exercise ensures that you have made a GitHub account and forked the main course repository. It then gives you practice editing code (Markdown, in this case), commiting to your fork, and making a pull request.\n",
    "\n",
    "## 1. Make a GitHub Account\n",
    "\n",
    "[https://github.com/signup](https://github.com/signup)\n",
    "\n",
    "## 2. Fork the main course repository\n",
    "\n",
    "## 3. In your form, add your name to the schedule table to be a discussion leader\n",
    "- Click the edit (pencil) icon at the top right of the README\n",
    "- Locate the row in the Markdown table for the date where you want to be a discussion leader\n",
    "- Add your name to the appropriate cell (the far right, inside the last set of vertical pipes)\n",
    "- Click the green \"Commit Changes\" button in the upper right\n",
    "\n",
    "## 4. Make a pull request to add your edit to the main course repository\n",
    "- Go to the main page for your fork\n",
    "- Click \"Sync fork\" in the upper right of the central column\n",
    "- Click \"Contribute to the left of \"Sync fork\"\n",
    "- Click the green \"Open pull request\" button\n",
    "- Add a descriptive title (e.g., \"Added \\[your name\\] to the discussion leader schedule\")\n",
    "- Click the green \"Create pull request\" button at the bottom"
   ]
  },
  {
   "cell_type": "code",
   "execution_count": null,
   "id": "bf2caf19-b1e3-4d8a-a32d-0863d1c8263e",
   "metadata": {},
   "outputs": [],
   "source": []
  }
 ],
 "metadata": {
  "kernelspec": {
   "display_name": "Python 3 (ipykernel)",
   "language": "python",
   "name": "python3"
  },
  "language_info": {
   "codemirror_mode": {
    "name": "ipython",
    "version": 3
   },
   "file_extension": ".py",
   "mimetype": "text/x-python",
   "name": "python",
   "nbconvert_exporter": "python",
   "pygments_lexer": "ipython3",
   "version": "3.10.12"
  }
 },
 "nbformat": 4,
 "nbformat_minor": 5
}
