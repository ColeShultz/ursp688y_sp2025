{
 "cells": [
  {
   "cell_type": "markdown",
   "id": "13b62af4-9c03-46d7-805c-cebadd28185e",
   "metadata": {
    "editable": true,
    "slideshow": {
     "slide_type": ""
    },
    "tags": []
   },
   "source": [
    "Urban Data Science & Smart Cities <br>\n",
    "URSP688Y Spring 2025<br>\n",
    "Instructor: Chester Harvey <br>\n",
    "Urban Studies & Planning <br>\n",
    "National Center for Smart Growth <br>\n",
    "University of Maryland"
   ]
  },
  {
   "attachments": {},
   "cell_type": "markdown",
   "id": "b7d7937e-5289-44bb-ac8b-1e0b03a74e0b",
   "metadata": {},
   "source": [
    "# Demo 5 - Accessing and Wrangling Data from the Web\n",
    "\n",
    "- GitHub Branches\n",
    "- APIs and JSON data\n",
    "- Debugging"
   ]
  },
  {
   "cell_type": "markdown",
   "id": "374bedce-17cd-4810-b0b4-78309f3ded9e",
   "metadata": {},
   "source": [
    "## GitHub Branches\n",
    "\n",
    "Branches allow you to organize work in a contained space. Their most important feature, for our purposes, is allowing you to make a pull request with only the changes (new files) related to a specific exercise and ***not*** all the other things you may be experimenting with in your repository.\n",
    "\n",
    "[Here's a more extended overview](https://docs.github.com/en/pull-requests/collaborating-with-pull-requests/proposing-changes-to-your-work-with-pull-requests/about-branches) of what branches are and how they work.\n",
    "\n",
    "Here are a few key concepts we'll go over in class:\n",
    "- Every repository or fork has a default branch ('main')\n",
    "- You can make unlimited additional branches\n",
    "- You always make commits to a branch (even if it's 'main')\n",
    "- When making a new branch for the purpose of a pull request to an upstream repository, I recommend using the 'main' branch of that upstream repository as the source for your new branch.\n",
    "    - To make your own version of an exercise notebook, make a copy of the template and leave the original file in place. That way the only change in your PR will be the addition of your new file, not the deletion of the template.\n",
    "    - Don't include any other changes in your PR. If you accidentally have other changes, the easiest way to clean things up may be to make a new branch and copy only the notebook you want to submit into that branch.\n",
    "    - Sync your branch before making a pull request."
   ]
  },
  {
   "cell_type": "code",
   "execution_count": 1,
   "id": "f208dcae-d230-4bf1-9cc2-4c936c70bd4e",
   "metadata": {},
   "outputs": [],
   "source": [
    "# Import packages\n",
    "import pandas as pd"
   ]
  },
  {
   "cell_type": "code",
   "execution_count": 2,
   "id": "3077b09e-1556-4fd8-9cee-856b57d8c0a4",
   "metadata": {},
   "outputs": [],
   "source": [
    "import requests\n",
    "import json\n",
    "import yaml\n",
    "import os"
   ]
  },
  {
   "cell_type": "code",
   "execution_count": 3,
   "id": "1935aacd-2a74-4265-a044-5cf2736c56a3",
   "metadata": {},
   "outputs": [],
   "source": [
    "# Load configs file with API key\n",
    "with open('configs.yaml', 'r') as file:\n",
    "    CONFIGS = yaml.safe_load(file)"
   ]
  },
  {
   "cell_type": "markdown",
   "id": "19473389-6158-4a83-bdef-d7a13bbb18e8",
   "metadata": {},
   "source": [
    "## Loading Data from a File\n",
    "\n",
    "Let's get our hands on some real-world data by loading a table from a file.\n",
    "\n",
    "Let's load data from the [Maryland Eviction Case Database](https://opendata.maryland.gov/Housing/District-Court-of-Maryland-Eviction-Case-Data/mvqb-b4hf/data).\n",
    "\n",
    "A CSV file that is stored in the same directory as our notebook can be opened by entering just the file name as an argument to `pd.read_csv`."
   ]
  },
  {
   "cell_type": "code",
   "execution_count": 4,
   "id": "caa4313e-cb9a-4850-9153-7ea0302eabec",
   "metadata": {},
   "outputs": [],
   "source": [
    "df = pd.read_csv('District_Court_of_Maryland_Eviction_Case_Data_MG_PG.csv')"
   ]
  },
  {
   "cell_type": "code",
   "execution_count": null,
   "id": "957b89ac-e22a-4168-8c6e-b7bffecaa0ee",
   "metadata": {},
   "outputs": [],
   "source": [
    "# # Get rentcast market data for the 10 zipcodes that are most represented in the eviction case data\n",
    "# zipcodes = df['Tenant ZIP Code'].value_counts().head(10).index.astype('Int64')\n",
    "# for zipcode in zipcodes:\n",
    "#     # Make GET request to rentcast API\n",
    "#     url = f'https://api.rentcast.io/v1/markets?zipCode={zipcode}&dataType=All&historyRange=6'\n",
    "#     headers = {\n",
    "#         'X-Api-Key': CONFIGS['rentcast_api_key'],\n",
    "#         'Accept': 'application/json', \n",
    "#     }\n",
    "#     response = requests.get(url, headers=headers)\n",
    "#     data = response.json()\n",
    "#     # Save to json\n",
    "#     file_path = os.path.join(CONFIGS['rentcast_data_dir'], f'rentcast_{zipcode}.json')\n",
    "#     with open(file_path, 'w') as file:\n",
    "#         json.dump(data, file, indent=4)"
   ]
  },
  {
   "cell_type": "markdown",
   "id": "198c1733-0608-49f6-af3e-a41da2e7daf5",
   "metadata": {},
   "source": [
    "Let's practice navigating and doing some analysis with our DataFrame."
   ]
  },
  {
   "cell_type": "markdown",
   "id": "0f0b2ad7-ced8-4d8c-90b4-2620c5ae5e6c",
   "metadata": {},
   "source": [
    "Preview the dataframe"
   ]
  },
  {
   "cell_type": "code",
   "execution_count": 8,
   "id": "04f15f12-e99c-4a2d-8c34-e1680bf7eb64",
   "metadata": {},
   "outputs": [
    {
     "ename": "NameError",
     "evalue": "name 'zipcode' is not defined",
     "output_type": "error",
     "traceback": [
      "\u001b[0;31m---------------------------------------------------------------------------\u001b[0m",
      "\u001b[0;31mNameError\u001b[0m                                 Traceback (most recent call last)",
      "Cell \u001b[0;32mIn[8], line 1\u001b[0m\n\u001b[0;32m----> 1\u001b[0m os\u001b[38;5;241m.\u001b[39mpath\u001b[38;5;241m.\u001b[39mjoin(CONFIGS[\u001b[38;5;124m'\u001b[39m\u001b[38;5;124mrentcast_data_dir\u001b[39m\u001b[38;5;124m'\u001b[39m], \u001b[38;5;124mf\u001b[39m\u001b[38;5;124m'\u001b[39m\u001b[38;5;124mrentcast_\u001b[39m\u001b[38;5;132;01m{\u001b[39;00m\u001b[43mzipcode\u001b[49m\u001b[38;5;132;01m}\u001b[39;00m\u001b[38;5;124m.json\u001b[39m\u001b[38;5;124m'\u001b[39m)\n",
      "\u001b[0;31mNameError\u001b[0m: name 'zipcode' is not defined"
     ]
    }
   ],
   "source": [
    "os.path.join(CONFIGS['rentcast_data_dir'], f'rentcast_{zipcode}.json')"
   ]
  },
  {
   "cell_type": "markdown",
   "id": "3bc96145-a1d8-4e94-bd5a-56d1dae42d84",
   "metadata": {},
   "source": [
    "How many rows does it have?"
   ]
  },
  {
   "cell_type": "code",
   "execution_count": null,
   "id": "e5c3a812-c1f1-4112-8e0d-7162c84f7c99",
   "metadata": {},
   "outputs": [],
   "source": [
    "len(df)"
   ]
  },
  {
   "cell_type": "markdown",
   "id": "78e478ac-e043-4f2c-8cad-65e5b4811937",
   "metadata": {},
   "source": [
    "What columns does it have?"
   ]
  },
  {
   "cell_type": "code",
   "execution_count": null,
   "id": "43875992-0d2d-4c62-9b72-944155bc183a",
   "metadata": {},
   "outputs": [],
   "source": [
    "df.columns.tolist()"
   ]
  },
  {
   "cell_type": "markdown",
   "id": "51f74dd7-9789-4796-9920-105bd826935f",
   "metadata": {},
   "source": [
    "Which counties are represented?"
   ]
  },
  {
   "cell_type": "code",
   "execution_count": null,
   "id": "23ca83e4-5c73-469d-93da-e48126cd5286",
   "metadata": {},
   "outputs": [],
   "source": [
    "df['County'].value_counts()"
   ]
  },
  {
   "cell_type": "markdown",
   "id": "da8848cd-9b2f-42c3-906d-32a491a61f34",
   "metadata": {},
   "source": [
    "What is the earlist date?\n",
    "\n",
    "Is this true?"
   ]
  },
  {
   "cell_type": "code",
   "execution_count": null,
   "id": "d25ebc12-9be6-4fcf-9419-54371424bd48",
   "metadata": {},
   "outputs": [],
   "source": [
    "df.sort_values('Event Date', ascending=True).head(2)"
   ]
  },
  {
   "cell_type": "markdown",
   "id": "b4d4bf2a-93c0-4ffe-8f9b-e2dc5f365372",
   "metadata": {},
   "source": [
    "Convert the event date column to a `datetime` data type"
   ]
  },
  {
   "cell_type": "code",
   "execution_count": null,
   "id": "5a905cb6-0f4f-430e-92f4-c53d4b9cf407",
   "metadata": {},
   "outputs": [],
   "source": [
    "df['Event Date'] = pd.to_datetime(df['Event Date'])"
   ]
  },
  {
   "cell_type": "code",
   "execution_count": null,
   "id": "b888af1e-4e7f-4a12-b0ab-f63c4ef11e97",
   "metadata": {},
   "outputs": [],
   "source": [
    "df.sort_values('Event Date', ascending=True).head(2)"
   ]
  },
  {
   "cell_type": "markdown",
   "id": "a1ec58f0-34ca-4ca5-bf81-e498ac0ab528",
   "metadata": {},
   "source": [
    "How many unique cases are there?"
   ]
  },
  {
   "cell_type": "code",
   "execution_count": null,
   "id": "19165b15-9cdd-4df6-aabe-3eb524129a8e",
   "metadata": {},
   "outputs": [],
   "source": [
    "df_dedup = df.sort_values('Event Date', ascending=True).drop_duplicates(subset='Case Number', keep='first')"
   ]
  },
  {
   "cell_type": "code",
   "execution_count": null,
   "id": "8347b011-b82d-4168-84fb-1e4a0a9e50e8",
   "metadata": {},
   "outputs": [],
   "source": [
    "len(df_dedup)"
   ]
  },
  {
   "cell_type": "markdown",
   "id": "bcdb5045-342b-41ca-89b4-9529a76acc01",
   "metadata": {},
   "source": [
    "How many unique cases per zip code?"
   ]
  },
  {
   "cell_type": "code",
   "execution_count": null,
   "id": "739ef711-7417-4f09-8dcb-76f4813b1cdf",
   "metadata": {},
   "outputs": [],
   "source": [
    "# Count cases within each zip code\n",
    "cases_per_zip = df_dedup.groupby('Tenant ZIP Code')['Case Number'].count().sort_values(ascending=False)\n",
    "\n",
    "cases_per_zip"
   ]
  },
  {
   "cell_type": "code",
   "execution_count": null,
   "id": "90c5589d-6476-4554-9a2b-3359eb120f79",
   "metadata": {},
   "outputs": [],
   "source": [
    "# Convert results to a dataframe with a column for zip and a column for cases\n",
    "cases_per_zip = pd.DataFrame(cases_per_zip).reset_index()\n",
    "cases_per_zip = cases_per_zip.rename(columns={'Tenant ZIP Code':'case_zip','Case Number':'case_count'})\n",
    "\n",
    "cases_per_zip.head()"
   ]
  },
  {
   "cell_type": "markdown",
   "id": "f5035b0d-2000-4930-9953-067806a4d4e8",
   "metadata": {},
   "source": [
    "Which zip codes have the most unique cases per person?\n",
    "\n",
    "Let's join data from [CensusReporter](https://censusreporter.org/).\n",
    "\n",
    "### Combining/Merging/Joining Tables\n",
    "\n",
    "Combining information from multiple tables into a single table is one of the most useful data wrangling operations.\n",
    "\n",
    "There are lots of different ways to join tables, but two basic types are:\n",
    "\n",
    "1. Joining column with a shared key, which outputs a table that is wider than either input.\n",
    "2. Concatenating rows with shared column names, which outputs a table that is longer than either input.\n",
    "\n",
    "#### Joining columns based on a key\n",
    "\n",
    "![joining columns with a shared key](https://rforhr.com/horizontal_join.png)\n",
    "\n",
    "\n",
    "#### Concatenating rows with the same column names\n",
    "![joining rows with shared column names](https://rforhr.com/vertical_join.png)"
   ]
  },
  {
   "cell_type": "markdown",
   "id": "21a2e2d2-8595-4e0d-a59b-a61b5f54d300",
   "metadata": {},
   "source": [
    "First, let's concatenate census tables for Montgomery and Prince George's county to make a single table with populations for each zip code.\n",
    "\n",
    "Then, we'll merge counts of eviction cases onto each zip code.\n",
    "\n",
    "Finally, we'll calcuate the number of eviction cases per capita."
   ]
  },
  {
   "cell_type": "code",
   "execution_count": null,
   "id": "0ff69373-c2cc-40f1-b0f1-3d7cf7f834b5",
   "metadata": {},
   "outputs": [],
   "source": [
    "# Load census reporter data, ignoring the row with data for the whole county (first row under the header)\n",
    "def load_census_reporter_csv(path, skiprows=[1]):\n",
    "    return pd.read_csv(path, skiprows=skiprows)\n",
    "\n",
    "df_pop_mg = load_census_reporter_csv('acs2023_5yr_B01003_mg.csv')\n",
    "df_pop_pg = load_census_reporter_csv('acs2023_5yr_B01003_pg.csv') "
   ]
  },
  {
   "cell_type": "code",
   "execution_count": null,
   "id": "6699edbe-eee7-44db-adea-e660892b8073",
   "metadata": {},
   "outputs": [],
   "source": [
    "# Combine into a single dataframe\n",
    "df_pop = pd.concat([df_pop_mg, df_pop_pg], axis=0)"
   ]
  },
  {
   "cell_type": "code",
   "execution_count": null,
   "id": "971936b6-0573-4ccc-8f85-c21bc9cd9ab0",
   "metadata": {},
   "outputs": [],
   "source": [
    "# Rename columns with readable names\n",
    "df_pop = df_pop.rename(columns={'name':'census_zip', 'B01003001':'population', 'B01003001, Error':'population_error'})"
   ]
  },
  {
   "cell_type": "code",
   "execution_count": null,
   "id": "f65715c4-c2f5-4108-8c99-034cf284eeed",
   "metadata": {},
   "outputs": [],
   "source": [
    "df_pop.head()"
   ]
  },
  {
   "cell_type": "code",
   "execution_count": null,
   "id": "c9a9326c-8d5e-4af3-bb28-1a53533c1ef2",
   "metadata": {},
   "outputs": [],
   "source": [
    "df_pop.census_zip.dtype"
   ]
  },
  {
   "cell_type": "code",
   "execution_count": null,
   "id": "ebd5122d-cc16-48d6-98bb-06f57e6e42db",
   "metadata": {},
   "outputs": [],
   "source": [
    "# Merge the case counts onto the zip codes\n",
    "cases_per_zip.head()"
   ]
  },
  {
   "cell_type": "code",
   "execution_count": null,
   "id": "af4b4f64-e7cb-49c9-94a4-2a69180413f2",
   "metadata": {},
   "outputs": [],
   "source": [
    "# Make sure zip codes are stored as strings in both dataframes\n",
    "cases_per_zip['case_zip'] = cases_per_zip['case_zip'].astype('int64').astype('string')\n",
    "df_pop['census_zip'] = df_pop['census_zip'].astype('string')"
   ]
  },
  {
   "cell_type": "code",
   "execution_count": null,
   "id": "c8609882-adb3-49ee-8b14-b017a60c3c76",
   "metadata": {},
   "outputs": [],
   "source": [
    "df_pop = df_pop.merge(cases_per_zip, left_on='census_zip', right_on='case_zip', how='left')"
   ]
  },
  {
   "cell_type": "code",
   "execution_count": null,
   "id": "2c5289c6-4d6e-4d67-833e-9cf9df77e460",
   "metadata": {},
   "outputs": [],
   "source": [
    "df_pop.head()"
   ]
  },
  {
   "cell_type": "code",
   "execution_count": null,
   "id": "17f31c15-7c37-4b93-aea9-f1e921ed08ef",
   "metadata": {},
   "outputs": [],
   "source": [
    "# Cleanup\n",
    "df_pop['case_count'] = df_pop['case_count'].fillna(0)\n",
    "df_pop = df_pop.drop(columns=['population_error','case_zip'])"
   ]
  },
  {
   "cell_type": "code",
   "execution_count": null,
   "id": "cfd104a9-e4d4-4f38-b877-f7625d5a34f6",
   "metadata": {},
   "outputs": [],
   "source": [
    "df_pop.head()"
   ]
  },
  {
   "cell_type": "code",
   "execution_count": null,
   "id": "b3dfb45c-c377-4a9c-86f5-8f7f352331db",
   "metadata": {},
   "outputs": [],
   "source": [
    "df_pop['cases_per_pop'] = df_pop['case_count'] / df_pop['population']"
   ]
  },
  {
   "cell_type": "code",
   "execution_count": null,
   "id": "7fd7163e-193d-4f5b-9640-5a3436e2a5ca",
   "metadata": {},
   "outputs": [],
   "source": [
    "df_pop.sort_values('cases_per_pop', ascending=False)"
   ]
  },
  {
   "cell_type": "markdown",
   "id": "89acaf1a-a772-4f22-bdd7-06e765bd1bb5",
   "metadata": {},
   "source": [
    "## Errors and debugging\n",
    "\n",
    "Errors are frustrating and inevitable. Even professional programmers probably spend most of their time debugging.\n",
    "\n",
    "Luckily, there are good tools and techniques for making debugging a little easier.\n",
    "\n",
    "Despite these, you will probably nearly tear your hair out with some frequency, especially as a beginner. It will get better with time.\n",
    "\n",
    "There are two types of errors in programming: logic and syntax. They both result in your program not achieving its goal, but the first may not be as easily detectable because the code may still run.\n",
    "\n",
    "### Logic errors\n",
    "These are issues with how you have approached or executed your problem. If your code runs but produces nonsensical results, there is probably a logic error. However, your erroneous code might also produce logical but *wrong* results; you might never notice until the problem has rippled downstream. It's best to address this proactively by planning your code well so it's less likely to be illogical, and writing readable code that can be easily reviewed.\n",
    "\n",
    "Here's a logic error. Can you find it? (Hint: the issue is syntactical, but it's still a logic error because the code works without throwing an error.)"
   ]
  },
  {
   "cell_type": "code",
   "execution_count": null,
   "id": "7ae245be-438c-4af0-88ff-4fbefd368015",
   "metadata": {},
   "outputs": [],
   "source": [
    "def check_adult(age, cutoff=18):\n",
    "    if age > cutoff:\n",
    "        adult = False\n",
    "    else:\n",
    "        adult = True\n",
    "    return adult\n",
    "\n",
    "check_adult(20)"
   ]
  },
  {
   "cell_type": "markdown",
   "id": "6c4200b2-2176-4329-9a12-68ff65efd852",
   "metadata": {},
   "source": [
    "### Syntax errors\n",
    "These are more obvious because your code will simply fail. There are lots of tools for figuring out where and why.\n",
    "\n",
    "Error messages are usually the starting place for debugging a syntax error."
   ]
  },
  {
   "cell_type": "code",
   "execution_count": null,
   "id": "1c4df4de-f47b-4f25-9074-4b0397cc5ea5",
   "metadata": {},
   "outputs": [],
   "source": [
    "def check_adult(age, cutoff=18):\n",
    "    if age < cutoff:\n",
    "        adult = False\n",
    "    else:\n",
    "        adult = True\n",
    "    return adult\n",
    "\n",
    "check_adult('20')"
   ]
  },
  {
   "cell_type": "markdown",
   "id": "e62b2d21-45dd-41c0-824f-b4496e7d45dd",
   "metadata": {},
   "source": [
    "The error message tells us where the problem is located.\n",
    "\n",
    "Sometimes, it can be helpful to turn on line numbers.\n",
    "- In Colab: `Tools -> Settings -> Editor -> Show line numbers`\n",
    "- In JupyterLab: `View -> Show Line Numbers`\n",
    "\n",
    "The `ValueError` tells us that the issue is related to the value of a variable on this line, but it's still pretty vague.\n",
    "\n",
    "Time to start [Googling](https://www.google.com/).\n"
   ]
  },
  {
   "cell_type": "markdown",
   "id": "c76708dd-944e-484f-a4a8-038be13825c8",
   "metadata": {},
   "source": [
    "### Debugging\n",
    "We can also use an \"interactive debugger\" to help diagnose our problem by stepping through the code one line at a time.\n",
    "\n",
    "The debugger provides tools for setting \"breakpoints\" where the code will stop running temporarily, a table that shows the values of variables at that time, and buttons to start, stop, and step through the code.\n",
    "\n",
    "https://jupyterlab.readthedocs.io/en/stable/user/debugger.html"
   ]
  },
  {
   "cell_type": "code",
   "execution_count": null,
   "id": "a8abf17d-39e7-4da1-8d0a-f55121ca8a57",
   "metadata": {},
   "outputs": [],
   "source": [
    "def check_adult(age, cutoff=18):\n",
    "    if age < cutoff:\n",
    "        adult = False\n",
    "    else:\n",
    "        adult = True\n",
    "    return adult\n",
    "\n",
    "check_adult(20)"
   ]
  },
  {
   "cell_type": "markdown",
   "id": "1c418985-eb94-45c3-8790-f992b7f9621f",
   "metadata": {},
   "source": [
    "## Style guidelines for Python\n",
    "- At the very least, do things consistently\n",
    "- One statement per line\n",
    "- Try to limit line length to 72 characters\n",
    "- Use four spaces to indent\n",
    "- Put spaces around operators (e.g., `1 + 1` or `day = 'Monday'`) (except in keyword function arguments)\n",
    "- Use blank lines intentionally and consistently\n",
    "- Use meaningful names\n",
    "- Name variables and functions with `lowercase_underscores`\n",
    "- Constants are often named in `ALL_CAPS_WITH_UNDERSCORES` (e.g., `C = 2.99792458e+8`)\n",
    "- Name custom classes with `CapWords`\n",
    "- In general, avoid spaces in folder and filenames used for programming\n",
    "\n",
    "See [Code Readability](https://github.com/ncsg/ursp688y_sp2024/blob/main/README.md#code-readability) on the syllabus. [CS61A](https://cs61a.org/articles/composition/) has an excellent composition guide. [PEP 8](https://peps.python.org/pep-0008/) is a standard Python style guide. [Google](https://google.github.io/styleguide/pyguide.html) publishes their internal Python style guide."
   ]
  }
 ],
 "metadata": {
  "kernelspec": {
   "display_name": "Python 3 (ipykernel)",
   "language": "python",
   "name": "python3"
  },
  "language_info": {
   "codemirror_mode": {
    "name": "ipython",
    "version": 3
   },
   "file_extension": ".py",
   "mimetype": "text/x-python",
   "name": "python",
   "nbconvert_exporter": "python",
   "pygments_lexer": "ipython3",
   "version": "3.13.1"
  }
 },
 "nbformat": 4,
 "nbformat_minor": 5
}
