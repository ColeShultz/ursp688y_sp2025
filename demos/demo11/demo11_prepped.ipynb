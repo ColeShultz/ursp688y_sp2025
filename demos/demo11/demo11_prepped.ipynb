{
 "cells": [
  {
   "cell_type": "markdown",
   "id": "13b62af4-9c03-46d7-805c-cebadd28185e",
   "metadata": {
    "editable": true,
    "id": "13b62af4-9c03-46d7-805c-cebadd28185e",
    "tags": []
   },
   "source": [
    "Urban Data Science & Smart Cities <br>\n",
    "URSP688Y Spring 2025<br>\n",
    "Instructor: Chester Harvey <br>\n",
    "Urban Studies & Planning <br>\n",
    "National Center for Smart Growth <br>\n",
    "University of Maryland"
   ]
  },
  {
   "attachments": {},
   "cell_type": "markdown",
   "id": "b7d7937e-5289-44bb-ac8b-1e0b03a74e0b",
   "metadata": {
    "id": "b7d7937e-5289-44bb-ac8b-1e0b03a74e0b"
   },
   "source": [
    "# Demo 11 - Dashboards\n",
    "\n",
    "- Retrieve and cache data from bikeshare every X minutes\n",
    "- Map counts of available bikes per tract\n",
    "- Use slider to move back and forth through time with available data\n",
    "- Checkbox to identify tracts where values have changed since app started? (change color of bubbles?)\n",
    "- Checkbox to select different types of bikes? (electric vs ebike?)\n",
    "- Parameter to scale size of bubbles?"
   ]
  },
  {
   "cell_type": "code",
   "execution_count": 50,
   "id": "3f7e738b-7567-4fef-8edf-e737e83ae2aa",
   "metadata": {},
   "outputs": [
    {
     "name": "stdout",
     "output_type": "stream",
     "text": [
      "The autoreload extension is already loaded. To reload it, use:\n",
      "  %reload_ext autoreload\n"
     ]
    }
   ],
   "source": [
    "import demo11\n",
    "import geopandas as gpd\n",
    "import pandas as pd\n",
    "import numpy as np\n",
    "import json\n",
    "\n",
    "%load_ext autoreload\n",
    "%autoreload 2"
   ]
  },
  {
   "cell_type": "code",
   "execution_count": 72,
   "id": "b6a3a7d0-cd31-45a8-a275-ff7644a42e09",
   "metadata": {},
   "outputs": [],
   "source": [
    "# Retrieve bike data and join with tracts\n",
    "tracts_gdf = demo11.load_tracts()\n",
    "bikes_gdf, stations_gdf = demo11.load_bike_data()\n",
    "bikes_gdf = pd.concat([\n",
    "    bikes_gdf[['lat','lon','vehicle_type_id','timestamp','geometry']],\n",
    "    demo11.expand_stations_into_bikes(stations_gdf)])\n",
    "bikes_gdf = demo11.attach_tracts_to_bikes(bikes_gdf, tracts_gdf)\n",
    "\n",
    "# Filter bikes based on ui criteria (electric/non-electric; docked/undocked)\n",
    "\n",
    "# Count bikes per tract for mapping\n",
    "bikes_per_tract_df = demo11.count_bikes_per_tract(bikes_gdf)\n",
    "tracts_with_bike_counts_gdf = demo11.attach_counts_to_tract_polygons(bikes_per_tract_df, tracts_gdf)\n",
    "tracts_with_bike_counts_gdf = demo11.polygons_to_points(tracts_with_bike_counts_gdf)\n"
   ]
  },
  {
   "cell_type": "code",
   "execution_count": 75,
   "id": "ff732cc2-19d0-4b96-9d9c-c6b628afbed8",
   "metadata": {},
   "outputs": [
    {
     "data": {
      "text/html": [
       "<div>\n",
       "<style scoped>\n",
       "    .dataframe tbody tr th:only-of-type {\n",
       "        vertical-align: middle;\n",
       "    }\n",
       "\n",
       "    .dataframe tbody tr th {\n",
       "        vertical-align: top;\n",
       "    }\n",
       "\n",
       "    .dataframe thead th {\n",
       "        text-align: right;\n",
       "    }\n",
       "</style>\n",
       "<table border=\"1\" class=\"dataframe\">\n",
       "  <thead>\n",
       "    <tr style=\"text-align: right;\">\n",
       "      <th></th>\n",
       "      <th>tract_id</th>\n",
       "      <th>pop</th>\n",
       "      <th>geometry</th>\n",
       "      <th>bikes</th>\n",
       "    </tr>\n",
       "  </thead>\n",
       "  <tbody>\n",
       "  </tbody>\n",
       "</table>\n",
       "</div>"
      ],
      "text/plain": [
       "Empty GeoDataFrame\n",
       "Columns: [tract_id, pop, geometry, bikes]\n",
       "Index: []"
      ]
     },
     "execution_count": 75,
     "metadata": {},
     "output_type": "execute_result"
    }
   ],
   "source": [
    "tracts_with_bike_counts_gdf[tracts_with_bike_counts_gdf.geometry.isnull()]"
   ]
  },
  {
   "cell_type": "code",
   "execution_count": 69,
   "id": "5631c5a8-94f5-424b-9e2a-3a419d3fca58",
   "metadata": {},
   "outputs": [
    {
     "data": {
      "text/plain": [
       "tract_id\n",
       "14000US11001000101      1\n",
       "14000US11001000102     53\n",
       "14000US11001000201     11\n",
       "14000US11001000202     50\n",
       "14000US11001000300      4\n",
       "                     ... \n",
       "14000US11001010800     88\n",
       "14000US11001010900     13\n",
       "14000US11001011002     27\n",
       "14000US11001011100     34\n",
       "14000US11001980000    179\n",
       "Name: bikes, Length: 196, dtype: int64"
      ]
     },
     "execution_count": 69,
     "metadata": {},
     "output_type": "execute_result"
    }
   ],
   "source": [
    "bikes_gdf.groupby('tract_id').size().rename('bikes')"
   ]
  },
  {
   "cell_type": "code",
   "execution_count": 68,
   "id": "78c956d1-04d9-4f1f-bdcd-a3fdb0396223",
   "metadata": {},
   "outputs": [
    {
     "data": {
      "text/html": [
       "<div>\n",
       "<style scoped>\n",
       "    .dataframe tbody tr th:only-of-type {\n",
       "        vertical-align: middle;\n",
       "    }\n",
       "\n",
       "    .dataframe tbody tr th {\n",
       "        vertical-align: top;\n",
       "    }\n",
       "\n",
       "    .dataframe thead th {\n",
       "        text-align: right;\n",
       "    }\n",
       "</style>\n",
       "<table border=\"1\" class=\"dataframe\">\n",
       "  <thead>\n",
       "    <tr style=\"text-align: right;\">\n",
       "      <th></th>\n",
       "      <th>bikes</th>\n",
       "    </tr>\n",
       "    <tr>\n",
       "      <th>tract_id</th>\n",
       "      <th></th>\n",
       "    </tr>\n",
       "  </thead>\n",
       "  <tbody>\n",
       "  </tbody>\n",
       "</table>\n",
       "</div>"
      ],
      "text/plain": [
       "Empty DataFrame\n",
       "Columns: [bikes]\n",
       "Index: []"
      ]
     },
     "execution_count": 68,
     "metadata": {},
     "output_type": "execute_result"
    }
   ],
   "source": [
    "bikes_per_tract_df[bikes_per_tract_df.bikes.isnull()]"
   ]
  },
  {
   "cell_type": "code",
   "execution_count": 52,
   "id": "a8efb6df-4efa-42b1-a69f-c31458593964",
   "metadata": {},
   "outputs": [
    {
     "data": {
      "text/plain": [
       "vehicle_type_id\n",
       "1    2771\n",
       "2    1130\n",
       "Name: count, dtype: int64"
      ]
     },
     "execution_count": 52,
     "metadata": {},
     "output_type": "execute_result"
    }
   ],
   "source": [
    "bikes_gdf.vehicle_type_id.value_counts()"
   ]
  },
  {
   "cell_type": "code",
   "execution_count": 26,
   "id": "93064ba9-4952-489a-ad71-8dab20799097",
   "metadata": {},
   "outputs": [],
   "source": [
    "bikes_per_tract_df['at_station'] = bikes_per_tract_df['station_id'].astype(bool)"
   ]
  },
  {
   "cell_type": "code",
   "execution_count": 59,
   "id": "dd08cb92-159d-4ccf-bd4b-b783f5e4ef9c",
   "metadata": {},
   "outputs": [
    {
     "data": {
      "text/plain": [
       "2       0\n",
       "3       0\n",
       "4       0\n",
       "6       0\n",
       "7       0\n",
       "       ..\n",
       "5337    1\n",
       "5338    1\n",
       "5339    1\n",
       "5340    1\n",
       "5341    1\n",
       "Name: station_id, Length: 3901, dtype: int64"
      ]
     },
     "execution_count": 59,
     "metadata": {},
     "output_type": "execute_result"
    }
   ],
   "source": [
    "bikes_gdf.station_id.notnull().astype(int)"
   ]
  },
  {
   "cell_type": "code",
   "execution_count": 34,
   "id": "491d1401-5175-4eed-8552-3f4e4815ebe3",
   "metadata": {},
   "outputs": [
    {
     "data": {
      "text/html": [
       "<div>\n",
       "<style scoped>\n",
       "    .dataframe tbody tr th:only-of-type {\n",
       "        vertical-align: middle;\n",
       "    }\n",
       "\n",
       "    .dataframe tbody tr th {\n",
       "        vertical-align: top;\n",
       "    }\n",
       "\n",
       "    .dataframe thead th {\n",
       "        text-align: right;\n",
       "    }\n",
       "</style>\n",
       "<table border=\"1\" class=\"dataframe\">\n",
       "  <thead>\n",
       "    <tr style=\"text-align: right;\">\n",
       "      <th></th>\n",
       "      <th>bikes</th>\n",
       "    </tr>\n",
       "    <tr>\n",
       "      <th>tract_id</th>\n",
       "      <th></th>\n",
       "    </tr>\n",
       "  </thead>\n",
       "  <tbody>\n",
       "    <tr>\n",
       "      <th>14000US11001000101</th>\n",
       "      <td>1</td>\n",
       "    </tr>\n",
       "    <tr>\n",
       "      <th>14000US11001000102</th>\n",
       "      <td>59</td>\n",
       "    </tr>\n",
       "    <tr>\n",
       "      <th>14000US11001000201</th>\n",
       "      <td>8</td>\n",
       "    </tr>\n",
       "    <tr>\n",
       "      <th>14000US11001000202</th>\n",
       "      <td>43</td>\n",
       "    </tr>\n",
       "    <tr>\n",
       "      <th>14000US11001000300</th>\n",
       "      <td>6</td>\n",
       "    </tr>\n",
       "    <tr>\n",
       "      <th>...</th>\n",
       "      <td>...</td>\n",
       "    </tr>\n",
       "    <tr>\n",
       "      <th>14000US11001010800</th>\n",
       "      <td>86</td>\n",
       "    </tr>\n",
       "    <tr>\n",
       "      <th>14000US11001010900</th>\n",
       "      <td>12</td>\n",
       "    </tr>\n",
       "    <tr>\n",
       "      <th>14000US11001011002</th>\n",
       "      <td>26</td>\n",
       "    </tr>\n",
       "    <tr>\n",
       "      <th>14000US11001011100</th>\n",
       "      <td>33</td>\n",
       "    </tr>\n",
       "    <tr>\n",
       "      <th>14000US11001980000</th>\n",
       "      <td>175</td>\n",
       "    </tr>\n",
       "  </tbody>\n",
       "</table>\n",
       "<p>197 rows × 1 columns</p>\n",
       "</div>"
      ],
      "text/plain": [
       "                    bikes\n",
       "tract_id                 \n",
       "14000US11001000101      1\n",
       "14000US11001000102     59\n",
       "14000US11001000201      8\n",
       "14000US11001000202     43\n",
       "14000US11001000300      6\n",
       "...                   ...\n",
       "14000US11001010800     86\n",
       "14000US11001010900     12\n",
       "14000US11001011002     26\n",
       "14000US11001011100     33\n",
       "14000US11001980000    175\n",
       "\n",
       "[197 rows x 1 columns]"
      ]
     },
     "execution_count": 34,
     "metadata": {},
     "output_type": "execute_result"
    }
   ],
   "source": [
    "pd.DataFrame(bikes_per_tract_df.groupby('tract_id').size().rename('bikes'))"
   ]
  },
  {
   "cell_type": "code",
   "execution_count": null,
   "id": "1adf7325-d687-478d-b5fe-474b13be5ea5",
   "metadata": {},
   "outputs": [],
   "source": [
    "multiplier = 100\n",
    "for tract in tract_points_with_bike_counts_gdf.itertuples():\n",
    "    # break\n",
    "    circle_marker = CircleMarker()\n",
    "    circle_marker.location = (tract.geometry.y, tract.geometry.x)\n",
    "    circle_marker.radius = tract.available_bikes * multiplier\n",
    "    circle_marker.color = \"red\"\n",
    "    circle_marker.fill_color = \"red\""
   ]
  },
  {
   "cell_type": "code",
   "execution_count": null,
   "id": "5cde347c-9dee-49c6-84ef-3ece656d9f0c",
   "metadata": {},
   "outputs": [],
   "source": [
    "tract"
   ]
  },
  {
   "cell_type": "code",
   "execution_count": null,
   "id": "a9be832d-418b-43c4-b05c-77bd0372b789",
   "metadata": {},
   "outputs": [],
   "source": [
    "tracts_with_bike_count_circles_gdf = demo11.replace_polygons_with_proportional_circles(\n",
    "    tracts_with_bike_counts_gdf, 'available_bikes', 250)"
   ]
  },
  {
   "cell_type": "code",
   "execution_count": null,
   "id": "b3147651-a744-4299-bdb5-5e44bba3c5c9",
   "metadata": {},
   "outputs": [],
   "source": []
  },
  {
   "cell_type": "code",
   "execution_count": null,
   "id": "fbce8a5c-eea9-4eb9-b3ac-275285701db2",
   "metadata": {},
   "outputs": [],
   "source": [
    "tracts_with_bike_count_circles_gdf = tracts_with_bike_count_circles_gdf.to_crs(4326)"
   ]
  },
  {
   "cell_type": "code",
   "execution_count": null,
   "id": "f039f1da-179f-4679-a9a9-cc33793d4668",
   "metadata": {},
   "outputs": [],
   "source": [
    "tracts_with_bike_count_circles_gdf[['available_bikes','geometry']].to_geo_dict()"
   ]
  },
  {
   "cell_type": "code",
   "execution_count": null,
   "id": "36ea7e4d-7274-4cc2-a486-fb97baf3dfcc",
   "metadata": {},
   "outputs": [],
   "source": [
    "from shiny import render, reactive\n",
    "from shiny.express import input, render, ui\n",
    "from shinywidgets import render_widget\n",
    "import ipywidgets as widgets"
   ]
  },
  {
   "cell_type": "code",
   "execution_count": null,
   "id": "ebeb6d8f-5621-43cf-bf5a-e50fd3caf223",
   "metadata": {},
   "outputs": [],
   "source": [
    "city_centers = {\n",
    "    \"London\": (51.5074, 0.1278),\n",
    "    \"Paris\": (48.8566, 2.3522),\n",
    "    \"New York\": (40.7128, -74.0060)\n",
    "}\n",
    "\n",
    "ui.input_select(\"center\", \"Center\", choices=list(city_centers.keys()))\n",
    "\n",
    "@render_widget\n",
    "def map():\n",
    "    return ipyl.Map(zoom=4)\n",
    "\n",
    "@reactive.effect\n",
    "def _():\n",
    "    map.widget.center = city_centers[input.center()]"
   ]
  },
  {
   "cell_type": "code",
   "execution_count": null,
   "id": "4acdf313-efc1-4e4d-926e-0458c35b2fee",
   "metadata": {},
   "outputs": [],
   "source": [
    "ui.input_text(\"name\", \"What's your name?\", value=\"World\")\n",
    "\n",
    "@render.text\n",
    "def greeting():\n",
    "    return f\"Hello, {input.name()}!\""
   ]
  },
  {
   "cell_type": "code",
   "execution_count": null,
   "id": "8ee59742-8471-4ae2-922c-e0398ce31fd6",
   "metadata": {},
   "outputs": [],
   "source": [
    "import geopandas as gpd\n",
    "import pandas as pd\n",
    "import numpy as np\n",
    "import matplotlib.pyplot as plt\n",
    "import os"
   ]
  },
  {
   "cell_type": "markdown",
   "id": "4a060a17-46d2-4ee8-aa75-784b1485eab0",
   "metadata": {},
   "source": [
    "## GeoPandas `plot`\n",
    "\n",
    "The simplest option for making a static map from a GeoDataFrame is the built-in `plot` method."
   ]
  },
  {
   "cell_type": "code",
   "execution_count": null,
   "id": "ed69ee68-a04b-4b6c-911d-0de09377ad04",
   "metadata": {},
   "outputs": [],
   "source": [
    "crs = 26918 # UTM18\n",
    "affordable_housing = gpd.read_file('affordable_housing.geojson').to_crs(crs)\n",
    "tracts = gpd.read_file('dc_tracts.geojson').to_crs(crs)\n",
    "# Restrict to tract-level features, which have geoids 18 characters long\n",
    "tracts = tracts[tracts.geoid.str.len() == 18]"
   ]
  },
  {
   "cell_type": "code",
   "execution_count": null,
   "id": "fa22f928-2adc-4131-a4dd-2fc0b9ea0c21",
   "metadata": {},
   "outputs": [],
   "source": [
    "fig, ax = plt.subplots(figsize=(10, 10))\n",
    "ax = tracts.plot(ax=ax, facecolor='none', edgecolor='k', zorder=0)\n",
    "affordable_housing.plot(ax=ax, markersize=5, color='r', zorder=1)\n",
    "ax.axis('off')\n",
    "\n",
    "plt.savefig('large_scale_map.eps')\n",
    "\n",
    "plt.show()"
   ]
  },
  {
   "cell_type": "code",
   "execution_count": null,
   "id": "d68067b7-6b34-429d-8168-09cb0cbfebd5",
   "metadata": {},
   "outputs": [],
   "source": [
    "affordable_housing = affordable_housing.sjoin(tracts[['geoid','geometry']])"
   ]
  },
  {
   "cell_type": "code",
   "execution_count": null,
   "id": "ab4e7bd6-4853-40b9-9eea-9d091fa5fec7",
   "metadata": {},
   "outputs": [],
   "source": [
    "tracts = tracts.set_index('geoid')"
   ]
  },
  {
   "cell_type": "code",
   "execution_count": null,
   "id": "acd6afb4-7bff-41a5-82d9-52b0c2406c93",
   "metadata": {},
   "outputs": [],
   "source": [
    "tracts = pd.concat([tracts, affordable_housing.groupby('geoid').agg({'TOTAL_AFFORDABLE_UNITS':'sum'})], axis=1)\n",
    "tracts = tracts.fillna(0)"
   ]
  },
  {
   "cell_type": "code",
   "execution_count": null,
   "id": "75107e05-3ca0-422b-bc1b-cead0266f288",
   "metadata": {},
   "outputs": [],
   "source": [
    "fig, ax = plt.subplots(figsize=(10, 10))\n",
    "ax = tracts.plot(ax=ax, column='TOTAL_AFFORDABLE_UNITS', cmap='PuBu', linewidth=0.5, edgecolor='black', legend=True)\n",
    "affordable_housing.plot(ax=ax, markersize=5, color='r', zorder=1)\n",
    "ax.axis('off')\n",
    "\n",
    "plt.savefig('large_scale_map.eps')\n",
    "\n",
    "plt.show()"
   ]
  },
  {
   "cell_type": "code",
   "execution_count": null,
   "id": "5b639a7c-a149-448b-9f28-99e1a2f25301",
   "metadata": {},
   "outputs": [],
   "source": [
    "tracts['affordable_units_per_pop'] = tracts['TOTAL_AFFORDABLE_UNITS'] / tracts['B01003001']"
   ]
  },
  {
   "cell_type": "code",
   "execution_count": null,
   "id": "681d6c67-bc23-4a30-a916-686818c7d3f1",
   "metadata": {},
   "outputs": [],
   "source": [
    "fig, ax = plt.subplots(figsize=(10, 10))\n",
    "ax = tracts.plot(ax=ax, column='affordable_units_per_pop', cmap='PuBu', linewidth=0.5, edgecolor='black', legend=True)\n",
    "affordable_housing.plot(ax=ax, markersize=5, color='r', zorder=1)\n",
    "ax.axis('off')\n",
    "\n",
    "plt.savefig('large_scale_map.eps')\n",
    "\n",
    "plt.show()"
   ]
  },
  {
   "cell_type": "code",
   "execution_count": null,
   "id": "e47eefd3-43de-4fb5-a3ff-af87135c7c8d",
   "metadata": {},
   "outputs": [],
   "source": [
    "fig, ax = plt.subplots(figsize=(10, 10))\n",
    "ax = tracts.plot(ax=ax, column='TOTAL_AFFORDABLE_UNITS', cmap='PuBu', linewidth=0.5, edgecolor='black', legend=True)\n",
    "affordable_housing.plot(ax=ax, markersize=5, color='r', zorder=1)\n",
    "ax.axis('off')\n",
    "\n",
    "plt.savefig('large_scale_map.eps')\n",
    "\n",
    "plt.show()"
   ]
  },
  {
   "cell_type": "markdown",
   "id": "9390ce41-d1a4-4830-a86e-649be54ad059",
   "metadata": {},
   "source": [
    "### Proportional Symbol Map\n",
    "\n",
    "An elegant way to map counts without biasing by the areas of spatial units is to use proportional symbols. This script calculates the radii (buffer distances) for circular symbols with areas proportional to input counts. "
   ]
  },
  {
   "cell_type": "code",
   "execution_count": null,
   "id": "d56a496d-fcb4-444e-946d-329b32891da0",
   "metadata": {},
   "outputs": [],
   "source": [
    "tract_points = tracts.copy()\n",
    "tract_points['geometry'] = tract_points.centroid\n",
    "\n",
    "def proportional_circles_radii(values, multiplier=1):\n",
    "    return np.sqrt(values / 3.14) * multiplier\n",
    "\n",
    "fig, ax = plt.subplots(figsize=(10, 10))\n",
    "ax = tracts.plot(ax=ax, facecolor='none', edgecolor='black', zorder=0, linewidth=0.5)\n",
    "\n",
    "tract_points.buffer(proportional_circles_radii(tract_points['TOTAL_AFFORDABLE_UNITS'], 25)).plot(\n",
    "    ax=ax, \n",
    "    zorder=1, \n",
    "    facecolor='lavender', \n",
    "    edgecolor='midnightblue', \n",
    "    linewidth=0.5)\n",
    "# affordable_housing.plot(ax=ax, markersize=1, color='darkblue', zorder=2)\n",
    "ax.axis('off')\n",
    "\n",
    "plt.savefig('large_scale_map.eps')\n",
    "\n",
    "plt.show()"
   ]
  },
  {
   "cell_type": "markdown",
   "id": "2099f996-bca2-4add-a351-6c4184cf5f5b",
   "metadata": {},
   "source": [
    "## Contextly can automatically add a basemap for reference"
   ]
  },
  {
   "cell_type": "code",
   "execution_count": null,
   "id": "6b9a7598-ed4f-4984-adb4-bf7b17a519ae",
   "metadata": {},
   "outputs": [],
   "source": [
    "# !pip install contextily"
   ]
  },
  {
   "cell_type": "code",
   "execution_count": null,
   "id": "9bdede56-b2ba-456d-8ebf-4efee3d83f02",
   "metadata": {},
   "outputs": [],
   "source": [
    "import contextily as cx"
   ]
  },
  {
   "cell_type": "code",
   "execution_count": null,
   "id": "30f572c8-2759-4f4e-ab64-99f0011c3164",
   "metadata": {},
   "outputs": [],
   "source": [
    "tract_points = tracts.copy()\n",
    "tract_points['geometry'] = tract_points.centroid\n",
    "\n",
    "def proportional_circles_radii(values, multiplier=1):\n",
    "    return np.sqrt(values / 3.14) * multiplier\n",
    "\n",
    "fig, ax = plt.subplots(figsize=(10, 10))\n",
    "ax = tracts.plot(ax=ax, facecolor='none', edgecolor='k', zorder=1, linewidth=0.5)\n",
    "\n",
    "tract_points.buffer(proportional_circles_radii(tract_points['TOTAL_AFFORDABLE_UNITS'], 25)).plot(\n",
    "    ax=ax, \n",
    "    facecolor='lavender', \n",
    "    edgecolor='midnightblue', \n",
    "    linewidth=0.5, \n",
    "    zorder=2)\n",
    "ax.axis('off')\n",
    "\n",
    "# Base map with labels embedded\n",
    "cx.add_basemap(ax, crs=crs, source=cx.providers.CartoDB.Positron, zorder=0)\n",
    "\n",
    "# Base map with labels overlaid\n",
    "# cx.add_basemap(ax, crs=crs, source=cx.providers.CartoDB.PositronNoLabels, zorder=0)\n",
    "# cx.add_basemap(ax, crs=crs, source=cx.providers.CartoDB.PositronOnlyLabels, zorder=3)\n",
    "\n",
    "plt.savefig('large_scale_map.eps')\n",
    "\n",
    "plt.show()"
   ]
  },
  {
   "cell_type": "markdown",
   "id": "4a7e62ca-1365-448c-869e-770b2aa5d4d3",
   "metadata": {},
   "source": [
    "## Folium\n",
    "\n",
    "To make an interactive map with the popular [Leaflet.js](https://leafletjs.com/reference) JavaScript library, we can use Folium."
   ]
  },
  {
   "cell_type": "code",
   "execution_count": null,
   "id": "aeec761b-7c9f-4c30-8abb-c728af0c88ff",
   "metadata": {},
   "outputs": [],
   "source": [
    "# !pip install folium"
   ]
  },
  {
   "cell_type": "code",
   "execution_count": null,
   "id": "ef4336d2-078c-430e-9cb0-f24ffbd8d217",
   "metadata": {},
   "outputs": [],
   "source": [
    "import folium"
   ]
  },
  {
   "cell_type": "code",
   "execution_count": null,
   "id": "0895fb75-97d9-4bbd-8950-7a2f7737d397",
   "metadata": {},
   "outputs": [],
   "source": [
    "affordable_housing = gpd.read_file('affordable_housing.geojson')\n",
    "tracts = gpd.read_file('dc_tracts.geojson')\n",
    "\n",
    "# Project into lat and long (WGS84)\n",
    "affordable_housing = affordable_housing.to_crs(4326)\n",
    "tracts = tracts.to_crs(4326)\n",
    "\n",
    "# Drop column with timestamps because they interfere with Folium\n",
    "affordable_housing = affordable_housing.drop(columns=['GIS_LAST_MOD_DTTM'])\n",
    "\n",
    "# Identify map center\n",
    "lon_min, lat_min, lon_max, lat_max = tracts.total_bounds\n",
    "lon_center = (lon_max + lon_min) / 2\n",
    "lat_center = (lat_max + lat_min) / 2\n",
    "\n",
    "# Initiate map\n",
    "map = folium.Map(location=(lat_center, lon_center), zoom_start=12)\n",
    "# map = folium.Map(location=(lat_center, lon_center), zoom_start=12, tiles=\"Cartodb Positron\")\n",
    "\n",
    "# Add tracts\n",
    "tract_style = {\n",
    "    'weight': 1,\n",
    "    'color': 'black',\n",
    "    'fillColor': '#00000000',\n",
    "    'fillOpacity': 1,\n",
    "    }\n",
    "folium.GeoJson(data=tracts.to_json(), style_function=lambda x: tract_style).add_to(map)\n",
    "\n",
    "# Add affordable housing points\n",
    "circle_marker = folium.CircleMarker(radius = 4, weight = 1, color='white', fillColor = 'darkblue', fill_opacity=1)\n",
    "affordable_housing_points = folium.GeoJson(affordable_housing.to_json(), marker=circle_marker)\n",
    "folium.features.GeoJsonPopup(fields=['PROJECT_NAME','TOTAL_AFFORDABLE_UNITS'], labels=True).add_to(affordable_housing_points)\n",
    "affordable_housing_points.add_to(map)\n",
    "\n",
    "map"
   ]
  },
  {
   "cell_type": "markdown",
   "id": "ecd8b9f0-fc6c-46e6-8804-fef27680bc93",
   "metadata": {},
   "source": [
    "## GeoPandas `explore`\n",
    "\n",
    "To make life just a little easier, GeoPandas has a built-in method for making a Folium map with `explore`."
   ]
  },
  {
   "cell_type": "code",
   "execution_count": null,
   "id": "0852f66e-7eaf-4863-a9a0-836934d9ac64",
   "metadata": {},
   "outputs": [],
   "source": [
    "m = tracts.explore(\n",
    "    tiles='CartoDB positron',\n",
    "    attr='MapBox CartoDB positron',\n",
    "    style_kwds={\n",
    "        'weight': 1,\n",
    "        'color': 'black',\n",
    "        'fillColor': '#00000000',\n",
    "        'fillOpacity': 1,\n",
    "    },\n",
    ")\n",
    "\n",
    "m = affordable_housing.explore(\n",
    "    m=m,\n",
    "    marker_kwds={\n",
    "        'radius':4, \n",
    "        'weight':1, \n",
    "        'color':'white', \n",
    "        'fillColor':'darkblue', \n",
    "        'fill_opacity':1\n",
    "    },\n",
    ")\n",
    "\n",
    "m"
   ]
  },
  {
   "cell_type": "markdown",
   "id": "9a897133-7220-47bb-8351-35c860e1138f",
   "metadata": {},
   "source": [
    "## CartoPy\n",
    "\n",
    "If you're making a smaller-scale map of a state, country, or continent (can you guess why the scale is called \"smaller\"?) you may need to use a specialized projection to avoid distortion or preserve particular qualities (e.g., using an equidistant projection to allow for measurement between distant points).\n",
    "\n",
    "A package called CartoPy enables mapping in Python with nearly any projection. It also allows you to access convenient base layers from [Natural Earth](https://www.naturalearthdata.com/), a free database of global basemap data for cultural (e.g., borders) and physical (e.g., coastlines) features."
   ]
  },
  {
   "cell_type": "code",
   "execution_count": null,
   "id": "f70889cd-c52f-4e0f-aaa8-6b91a7d288ca",
   "metadata": {},
   "outputs": [],
   "source": [
    "# !pip install cartopy"
   ]
  },
  {
   "cell_type": "code",
   "execution_count": null,
   "id": "5c70e30e-f5da-4f38-9446-75ac8264cb55",
   "metadata": {},
   "outputs": [],
   "source": [
    "import cartopy.crs as ccrs\n",
    "import cartopy.feature as cfeature"
   ]
  },
  {
   "cell_type": "code",
   "execution_count": null,
   "id": "a583ea8d-0e20-4f51-90d4-deff00cc8884",
   "metadata": {},
   "outputs": [],
   "source": [
    "# Define highlight city\n",
    "highlight_city = 'Washington,  D.C.'\n",
    "# highlight_city = 'Chicago'\n",
    "\n",
    "# Load city points\n",
    "pop_places = gpd.read_file('ne_10m_populated_places_simple.zip')\n",
    "\n",
    "# Define map center and extents around the highlight city\n",
    "lon_center = pop_places[pop_places['name'] == highlight_city].geometry.x.iloc[0]\n",
    "lat_center = pop_places[pop_places['name'] == highlight_city].geometry.y.iloc[0]\n",
    "extent = 50\n",
    "lon_min = lon_center + (extent / 2)\n",
    "lon_max = lon_center - (extent / 2)\n",
    "lat_min = lat_center - (extent / 2)\n",
    "lat_max = lat_center + (extent / 2)\n",
    "\n",
    "# Define projection centered on highlight city\n",
    "crs = ccrs.AzimuthalEquidistant(central_longitude=lon_center, central_latitude=lat_center)\n",
    "\n",
    "# Project cities into axis coordinate system\n",
    "pop_places = pop_places.to_crs(crs.proj4_init)\n",
    "\n",
    "# Constrain to cities only one rank lower than the highlight\n",
    "rank = pop_places[pop_places['name'] == highlight_city].scalerank.iloc[0] + 1\n",
    "pop_places = pop_places[pop_places.scalerank <= rank]\n",
    "\n",
    "# Initiate figure\n",
    "fig = plt.figure(figsize=(15, 10))\n",
    "\n",
    "# Initiate axis with defined projection\n",
    "ax = plt.subplot(1, 1, 1, projection=crs)\n",
    "ax.set_extent([lon_min, lon_max, lat_min, lat_max], crs=ccrs.PlateCarree())\n",
    "\n",
    "# Add base features\n",
    "ax.add_feature(cfeature.BORDERS, linewidth=0.5, edgecolor='blue', linestyle='--', zorder=0)\n",
    "ax.add_feature(cfeature.LAND, zorder=1)\n",
    "ax.add_feature(cfeature.COASTLINE, zorder=2)\n",
    "ax.add_feature(cfeature.LAKES, alpha=0.5, zorder=3)\n",
    "ax.add_feature(cfeature.STATES, zorder=4)\n",
    "ax.add_feature(cfeature.RIVERS, zorder=5)\n",
    "\n",
    "# Add city points\n",
    "pop_places.plot(ax=ax, markersize=5, color='k', zorder=1)\n",
    "pop_places[pop_places['name'] == highlight_city].plot(ax=ax, markersize=50, color='r', zorder=6)\n",
    "\n",
    "# Label cities\n",
    "def annotate(record):\n",
    "    if record['name'] == highlight_city:\n",
    "        ax.annotate(record['name'], weight='bold', size=14, color='red', xy=record.geometry.coords[0], xytext=(3, 3), textcoords='offset points', clip_on=True)\n",
    "    else:\n",
    "        ax.annotate(record['name'], xy=record.geometry.coords[0], xytext=(3, 3), textcoords='offset points', clip_on=True)\n",
    "pop_places.apply(annotate, axis=1)\n",
    "\n",
    "plt.savefig('small_scale_map.eps', format='eps')\n",
    "\n",
    "plt.show()"
   ]
  },
  {
   "cell_type": "code",
   "execution_count": null,
   "id": "b5709342-bf89-4b47-b012-971a7adb89b4",
   "metadata": {},
   "outputs": [],
   "source": []
  }
 ],
 "metadata": {
  "colab": {
   "provenance": []
  },
  "kernelspec": {
   "display_name": "Python 3 (ipykernel)",
   "language": "python",
   "name": "python3"
  },
  "language_info": {
   "codemirror_mode": {
    "name": "ipython",
    "version": 3
   },
   "file_extension": ".py",
   "mimetype": "text/x-python",
   "name": "python",
   "nbconvert_exporter": "python",
   "pygments_lexer": "ipython3",
   "version": "3.13.1"
  }
 },
 "nbformat": 4,
 "nbformat_minor": 5
}
