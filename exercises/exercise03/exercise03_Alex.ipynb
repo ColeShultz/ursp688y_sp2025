{
 "cells": [
  {
   "cell_type": "markdown",
   "id": "f87e95bf-489b-4f3b-a24a-0e7905fd8956",
   "metadata": {},
   "source": [
    "This analysis investigates whether eviction rates are higher near Purple Line light rail stations compared to other areas in Prince George’s and Montgomery Counties, Maryland. The research builds on prior tabular analyses by incorporating spatial methods to examine how proximity to transit infrastructure may correlate with housing instability. Using address-level eviction data from Maryland Judiciary Case Search and geospatial data for planned Line station locations, I conduct a proximity analysis to classify eviction events as either \"near\" or \"far\" from Purple Line stations (within 1 mile and beyond 1 mile, respectively). Eviction density is calculated using kernel density estimation and aggregated to Census tracts for comparison with demographic and housing variables."
   ]
  },
  {
   "cell_type": "code",
   "execution_count": 2,
   "id": "3b963e60-ef50-442c-80b0-b01d42d15a8a",
   "metadata": {},
   "outputs": [],
   "source": [
    "import pandas as pd\n",
    "import geopandas as gpd\n",
    "import utils\n",
    "import exercise03\n",
    "import census_geocode\n",
    "\n",
    "%load_ext autoreload\n",
    "%autoreload 2"
   ]
  },
  {
   "cell_type": "code",
   "execution_count": 3,
   "id": "7e396983-017b-4453-9cc3-60c739a7b683",
   "metadata": {},
   "outputs": [
    {
     "data": {
      "text/plain": [
       "411040"
      ]
     },
     "execution_count": 3,
     "metadata": {},
     "output_type": "execute_result"
    }
   ],
   "source": [
    "# Load warrants and make sure zip codes are stored as strings without decimals\n",
    "warrants_df = pd.read_csv('md_eviction_warrents_through_2024.csv')\n",
    "warrants_df['TenantZipCode'] = warrants_df['TenantZipCode'].astype('Int64').astype('string')\n",
    "len(warrants_df) # How many warrants are we working with?"
   ]
  },
  {
   "cell_type": "code",
   "execution_count": 4,
   "id": "87ab9d33-9972-49a4-8276-a4bdf1bfc500",
   "metadata": {},
   "outputs": [
    {
     "name": "stdout",
     "output_type": "stream",
     "text": [
      "411040 warrants input\n",
      "Reduced to 167949 unique addresses\n"
     ]
    }
   ],
   "source": [
    "# Rather than geocoding 400K+ addresses, could we get only the unique ones?\n",
    "geocode_input_df = exercise03.prep_warrants_for_geocoding(warrants_df)"
   ]
  },
  {
   "cell_type": "code",
   "execution_count": 5,
   "id": "41251caa-4066-4829-9236-b822552b0457",
   "metadata": {},
   "outputs": [
    {
     "name": "stdout",
     "output_type": "stream",
     "text": [
      "split dataframe into 17 chunks\n"
     ]
    }
   ],
   "source": [
    "# The Census Geocoder API can only accept up to 10K rows at a time, so we have to break\n",
    "# our dataframe into chunks\n",
    "\n",
    "# Split into dataframes with less than 10K rows each\n",
    "geocode_input_dfs = utils.chunk_dataframe(geocode_input_df, 9999)\n",
    "\n",
    "# Save each dataframe as a CSV without a header\n",
    "utils.save_dfs_to_csv(geocode_input_dfs, 'geocode_inputs', header=False)"
   ]
  },
  {
   "cell_type": "code",
   "execution_count": 6,
   "id": "65461449-8018-4f39-9c49-63ee7ee246ee",
   "metadata": {},
   "outputs": [
    {
     "name": "stdout",
     "output_type": "stream",
     "text": [
      "TEST MODE: Processing only one file.\n",
      "Processing file: geocode_inputs/df_14.csv\n",
      "Saved results to: geocode_outputs/geocoderesult_df_14.csv\n"
     ]
    }
   ],
   "source": [
    "# Geocode addresses with the Census Geocoder (set test=True to process only one file)\n",
    "census_geocode.geocode_csvs('geocode_inputs', 'geocode_outputs', test=True)"
   ]
  },
  {
   "cell_type": "code",
   "execution_count": 7,
   "id": "83419a4c-3912-424b-ac62-f259f54ebd53",
   "metadata": {},
   "outputs": [
    {
     "data": {
      "text/plain": [
       "9999"
      ]
     },
     "execution_count": 7,
     "metadata": {},
     "output_type": "execute_result"
    }
   ],
   "source": [
    "# Recombine outputs from geocoder into a single dataframe\n",
    "geocode_output_df = exercise03.combine_census_geocoded_csvs('geocode_outputs')\n",
    "len(geocode_output_df)"
   ]
  },
  {
   "cell_type": "code",
   "execution_count": 8,
   "id": "f74c5e86-b49f-4221-a26d-692b19af5933",
   "metadata": {},
   "outputs": [
    {
     "data": {
      "text/plain": [
       "9999"
      ]
     },
     "execution_count": 8,
     "metadata": {},
     "output_type": "execute_result"
    }
   ],
   "source": [
    "# Merge geocoded address back onto the inputs with separate fields for address, city, state, and zip\n",
    "geocoded_df = geocode_input_df.merge(geocode_output_df, left_index=True, right_index=True)\n",
    "len(geocoded_df)"
   ]
  },
  {
   "cell_type": "code",
   "execution_count": 9,
   "id": "0350d308-645f-4ab0-bc86-f6ea4fd41665",
   "metadata": {},
   "outputs": [
    {
     "data": {
      "text/plain": [
       "15112"
      ]
     },
     "execution_count": 9,
     "metadata": {},
     "output_type": "execute_result"
    }
   ],
   "source": [
    "# Use address, city, state, and zip columns to join geocodes onto original warrant records\n",
    "warrants_df = warrants_df.merge(geocoded_df, on=['TenantAddress','TenantCity','TenantState','TenantZipCode'])\n",
    "len(warrants_df)"
   ]
  },
  {
   "cell_type": "code",
   "execution_count": 10,
   "id": "5b161e30-89fb-4773-88de-dbe3700d7e11",
   "metadata": {},
   "outputs": [],
   "source": [
    "# Convert warrants into a geodataframe with points\n",
    "warrants_gdf = utils.lonlat_str_to_geodataframe(warrants_df, 'match_lon_lat')"
   ]
  },
  {
   "cell_type": "code",
   "execution_count": 11,
   "id": "9d25de3a-8146-4e7a-abff-471625417fc5",
   "metadata": {},
   "outputs": [
    {
     "data": {
      "text/plain": [
       "0.948782424563261"
      ]
     },
     "execution_count": 11,
     "metadata": {},
     "output_type": "execute_result"
    }
   ],
   "source": [
    "# What proportion of records have points?\n",
    "len(warrants_gdf[warrants_gdf.lon.notnull()]) / len(warrants_gdf)"
   ]
  },
  {
   "cell_type": "code",
   "execution_count": 12,
   "id": "2698bff3-b747-445f-9aa0-a9bf89df441b",
   "metadata": {},
   "outputs": [
    {
     "data": {
      "text/plain": [
       "0.5974060349391213"
      ]
     },
     "execution_count": 12,
     "metadata": {},
     "output_type": "execute_result"
    }
   ],
   "source": [
    "# What proportion of records have exact geocode matches?\n",
    "len(warrants_gdf[warrants_gdf.match_type == 'Exact']) / len(warrants_gdf)"
   ]
  },
  {
   "cell_type": "code",
   "execution_count": 13,
   "id": "61a86dc7-fd18-44fe-99ee-d074c9272dd7",
   "metadata": {},
   "outputs": [
    {
     "name": "stdout",
     "output_type": "stream",
     "text": [
      "Requirement already satisfied: pyarrow in /opt/miniconda3/envs/688y/lib/python3.12/site-packages (19.0.1)\n"
     ]
    }
   ],
   "source": [
    "!pip install pyarrow\n",
    "warrants_gdf.to_parquet('md_eviction_warrants_through_2024.geoparquet')"
   ]
  },
  {
   "cell_type": "code",
   "execution_count": 14,
   "id": "184038d1-25e9-4178-a282-3d4d32b92db2",
   "metadata": {},
   "outputs": [],
   "source": [
    "gdf = gpd.read_parquet('md_eviction_warrants_through_2024.geoparquet')"
   ]
  },
  {
   "cell_type": "code",
   "execution_count": 15,
   "id": "9d69ac4d-e39d-43d0-82d0-7befc4cfc096",
   "metadata": {},
   "outputs": [
    {
     "data": {
      "text/plain": [
       "['ID',\n",
       " 'EventDate',\n",
       " 'EventType',\n",
       " 'EventComment',\n",
       " 'County',\n",
       " 'Location',\n",
       " 'TenantAddress',\n",
       " 'TenantCity',\n",
       " 'TenantState',\n",
       " 'TenantZipCode',\n",
       " 'CaseType',\n",
       " 'CaseNumber',\n",
       " 'EvictedDate',\n",
       " 'Source',\n",
       " 'SourceDate',\n",
       " 'Year',\n",
       " 'EvictionYear',\n",
       " 'unique_id',\n",
       " 'input_address',\n",
       " 'match_status',\n",
       " 'match_type',\n",
       " 'match_address',\n",
       " 'match_lon_lat',\n",
       " 'match_tiger_line_id',\n",
       " 'match_tiger_line_side',\n",
       " 'lon',\n",
       " 'lat',\n",
       " 'geometry']"
      ]
     },
     "execution_count": 15,
     "metadata": {},
     "output_type": "execute_result"
    }
   ],
   "source": [
    "gdf.columns.tolist()"
   ]
  },
  {
   "cell_type": "code",
   "execution_count": 60,
   "id": "9442d454-c0ce-4d96-b51e-03ea162df771",
   "metadata": {},
   "outputs": [],
   "source": [
    "#0: Filter eviction cases to only those in PG and Montgomery Counties\n",
    "# Normalize County column for safe matching\n",
    "warrants_gdf['County'] = warrants_gdf['County'].str.lower().str.strip()\n",
    "\n",
    "# Filter for Prince George's and Montgomery counties\n",
    "pg_mo_evictions = warrants_gdf[\n",
    "    warrants_gdf['County'].str.contains(\"prince george\") |\n",
    "    warrants_gdf['County'].str.contains(\"montgomery\")\n",
    "].copy()"
   ]
  },
  {
   "cell_type": "code",
   "execution_count": 61,
   "id": "40fe6233-7693-41c1-ad08-d75d48e36317",
   "metadata": {},
   "outputs": [],
   "source": [
    "#1: Load Purple Line station data\n",
    "purple_line_stations = gpd.read_file('Purple_Line_stations/Purple_Line_stattions.shp')"
   ]
  },
  {
   "cell_type": "code",
   "execution_count": 62,
   "id": "13a28797-839c-4b74-9f46-f38fcac4ebc2",
   "metadata": {},
   "outputs": [],
   "source": [
    "#2: Create a 1-mile buffer around each station to define “near” area\n",
    "\n",
    "# Reproject to a projected CRS appropriate for Maryland (units = meters)\n",
    "buffers = purple_line_stations.to_crs(epsg=2248)\n",
    "\n",
    "# Buffer 1 mile (1,609.34 meters)\n",
    "buffers['geometry'] = buffers.buffer(1609.34)"
   ]
  },
  {
   "cell_type": "code",
   "execution_count": 63,
   "id": "be4dc401-ee22-4b66-a753-f45f66ab6885",
   "metadata": {},
   "outputs": [],
   "source": [
    "#3: Spatial join - is eviction inside buffer?\n",
    "pg_mo_evictions = pg_mo_evictions.to_crs(epsg=2248)\n",
    "joined = pg_mo_evictions.sjoin(buffers, how='left', predicate='within')\n",
    "joined['near_pl_station'] = joined['index_right'].notnull()\n",
    "pg_mo_evictions = joined.drop(columns=['index_right'])"
   ]
  },
  {
   "cell_type": "code",
   "execution_count": 64,
   "id": "f6e40e59-8725-4370-886d-4a60ed3778a7",
   "metadata": {},
   "outputs": [
    {
     "name": "stdout",
     "output_type": "stream",
     "text": [
      "Eviction filings near Purple Line stations: 1.25%\n",
      "Eviction filings elsewhere: 98.75%\n"
     ]
    }
   ],
   "source": [
    "#4: Compare eviction rates\n",
    "near_pct = pg_mo_evictions['near_pl_station'].mean()\n",
    "print(f\"Eviction filings near Purple Line stations: {near_pct:.2%}\")\n",
    "print(f\"Eviction filings elsewhere: {(1 - near_pct):.2%}\")"
   ]
  },
  {
   "cell_type": "markdown",
   "id": "cc4cdb27-e876-4a0f-87a1-6c013de2767d",
   "metadata": {},
   "source": [
    "This doesn't really get at the question I was really trying to ask. Below is additional analysis that asks: Are eviction rates higher in census tracts that intersect a 1-mile buffer around Purple Line stations compared to those that don’t?"
   ]
  },
  {
   "cell_type": "code",
   "execution_count": null,
   "id": "f6638fbc-f75f-4f11-bf26-d71a25e44f1b",
   "metadata": {},
   "outputs": [],
   "source": [
    "pip install censusdis geopandas pyarrow"
   ]
  },
  {
   "cell_type": "code",
   "execution_count": null,
   "id": "b6d473ef-4762-4e15-9d0e-d9983a1cde0a",
   "metadata": {},
   "outputs": [],
   "source": [
    "#1: Pull tracts + renter data from ACS\n",
    "from censusdis.data import download\n",
    "import geopandas as gpd\n",
    "import os\n",
    "\n",
    "# Set your Census API key (replace with your own)\n",
    "os.environ[\"CENSUS_API_KEY\"] = \"your_api_key_here\"\n",
    "\n",
    "# Download tracts for PG and Montgomery counties (FIPS: 033 and 031)\n",
    "tracts = download(\n",
    "    source=\"acs/acs5\",\n",
    "    vintage=2022,\n",
    "    geography=\"tract\",\n",
    "    variables=[\"B25003_001E\", \"B25003_003E\"],  # Total and renter-occupied units\n",
    "    state=\"24\",  # Maryland\n",
    "    county=[\"033\", \"031\"],  # PG and Montgomery\n",
    "    with_geometry=True\n",
    ")\n",
    "\n",
    "# Rename for clarity\n",
    "tracts = tracts.rename(columns={\n",
    "    \"B25003_001E\": \"total_housing_units\",\n",
    "    \"B25003_003E\": \"renter_occupied_units\"\n",
    "})\n",
    "\n",
    "# Eviction rate denominator\n",
    "tracts[\"pct_renter\"] = tracts[\"renter_occupied_units\"] / tracts[\"total_housing_units\"]\n",
    "tracts = tracts.to_crs(epsg=2248)  # Match your projected CRS\n"
   ]
  },
  {
   "cell_type": "code",
   "execution_count": null,
   "id": "59da0e1a-05b8-4bc2-8cc0-2569d30d3fd1",
   "metadata": {},
   "outputs": [],
   "source": [
    "#2: Create 1-mile buffers\n",
    "purple_line_stations = gpd.read_file('Purple_Line_stations/Purple_Line_stattions.shp')\n",
    "buffers = purple_line_stations.to_crs(epsg=2248)\n",
    "buffers['geometry'] = buffers.buffer(1609.34)"
   ]
  },
  {
   "cell_type": "code",
   "execution_count": null,
   "id": "da47eb3f-7fa4-4f5e-bf3b-5638f95861a1",
   "metadata": {},
   "outputs": [],
   "source": [
    "#3: Flag tracts that intersect with buffer\n",
    "tracts['near_pl_station'] = tracts.intersects(buffers.unary_union)"
   ]
  },
  {
   "cell_type": "code",
   "execution_count": null,
   "id": "3999473c-3324-4e7c-872e-b93cd8a9c52b",
   "metadata": {},
   "outputs": [],
   "source": [
    "#4: Spatial join: assign evictions to tracts\n",
    "# Make sure evictions are projected correctly\n",
    "pg_mo_evictions = pg_mo_evictions.to_crs(epsg=2248)\n",
    "\n",
    "# Spatial join: which tract each eviction falls in\n",
    "evictions_with_tracts = gpd.sjoin(pg_mo_evictions, tracts, how='left', predicate='within')\n",
    "\n",
    "# Count evictions per tract\n",
    "eviction_counts = evictions_with_tracts.groupby('GEOID').size().reset_index(name='eviction_count')\n",
    "\n",
    "# Merge back into tract GeoDataFrame\n",
    "tracts = tracts.merge(eviction_counts, on='GEOID', how='left')\n",
    "tracts['eviction_count'] = tracts['eviction_count'].fillna(0)\n",
    "\n",
    "# Calculate eviction rate per 1,000 renter households\n",
    "tracts['eviction_rate_per_1k_renters'] = (tracts['eviction_count'] / tracts['renter_occupied_units']) * 1000"
   ]
  },
  {
   "cell_type": "code",
   "execution_count": null,
   "id": "48b01ecd-3212-46ae-ab64-07c21c6bf92e",
   "metadata": {},
   "outputs": [],
   "source": [
    "#5: Boxplot comparing eviction rates by proximity\n",
    "import matplotlib.pyplot as plt\n",
    "\n",
    "tracts.boxplot(\n",
    "    column='eviction_rate_per_1k_renters',\n",
    "    by='near_pl_station',\n",
    "    figsize=(8, 6)\n",
    ")\n",
    "plt.title('Eviction Rates per 1,000 Renters\\nNear vs. Not Near Purple Line')\n",
    "plt.suptitle('')\n",
    "plt.xlabel('Near Purple Line Station (1-mile buffer)')\n",
    "plt.ylabel('Eviction Rate (per 1,000 renters)')\n",
    "plt.show()\n"
   ]
  },
  {
   "cell_type": "code",
   "execution_count": null,
   "id": "1ab29a3a-22a3-4493-971f-1bb52446cd84",
   "metadata": {},
   "outputs": [],
   "source": [
    "#6: Map eviction rates\n",
    "tracts.plot(\n",
    "    column='eviction_rate_per_1k_renters',\n",
    "    cmap='Reds',\n",
    "    legend=True,\n",
    "    figsize=(10, 10),\n",
    "    edgecolor='grey'\n",
    ")\n",
    "plt.title('Eviction Rate per 1,000 Renters by Census Tract')\n",
    "plt.axis('off')\n",
    "plt.show()"
   ]
  }
 ],
 "metadata": {
  "kernelspec": {
   "display_name": "Python 3 (ipykernel)",
   "language": "python",
   "name": "python3"
  },
  "language_info": {
   "codemirror_mode": {
    "name": "ipython",
    "version": 3
   },
   "file_extension": ".py",
   "mimetype": "text/x-python",
   "name": "python",
   "nbconvert_exporter": "python",
   "pygments_lexer": "ipython3",
   "version": "3.12.8"
  }
 },
 "nbformat": 4,
 "nbformat_minor": 5
}
