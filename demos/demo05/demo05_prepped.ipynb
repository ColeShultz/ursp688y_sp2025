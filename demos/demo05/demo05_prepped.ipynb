{
 "cells": [
  {
   "cell_type": "markdown",
   "id": "13b62af4-9c03-46d7-805c-cebadd28185e",
   "metadata": {
    "editable": true,
    "slideshow": {
     "slide_type": ""
    },
    "tags": []
   },
   "source": [
    "Urban Data Science & Smart Cities <br>\n",
    "URSP688Y Spring 2025<br>\n",
    "Instructor: Chester Harvey <br>\n",
    "Urban Studies & Planning <br>\n",
    "National Center for Smart Growth <br>\n",
    "University of Maryland"
   ]
  },
  {
   "attachments": {},
   "cell_type": "markdown",
   "id": "b7d7937e-5289-44bb-ac8b-1e0b03a74e0b",
   "metadata": {},
   "source": [
    "# Demo 5 - Accessing and Wrangling Data from the Web\n",
    "\n",
    "- GitHub Branches\n",
    "- Loading Data from the Web with APIs\n",
    "- Debugging"
   ]
  },
  {
   "cell_type": "code",
   "execution_count": 1,
   "id": "3077b09e-1556-4fd8-9cee-856b57d8c0a4",
   "metadata": {},
   "outputs": [],
   "source": [
    "# Import package dependencies\n",
    "import pandas\n",
    "import requests\n",
    "import json\n",
    "import yaml\n",
    "import os"
   ]
  },
  {
   "cell_type": "code",
   "execution_count": null,
   "id": "86e82003-440a-4acf-9787-539da0dc531b",
   "metadata": {},
   "outputs": [],
   "source": []
  },
  {
   "cell_type": "code",
   "execution_count": 2,
   "id": "1935aacd-2a74-4265-a044-5cf2736c56a3",
   "metadata": {},
   "outputs": [],
   "source": [
    "# Load personal data from a configs file (API key, local data path)\n",
    "with open('configs.yaml', 'r') as file:\n",
    "    CONFIGS = yaml.safe_load(file)"
   ]
  },
  {
   "cell_type": "code",
   "execution_count": null,
   "id": "957b89ac-e22a-4168-8c6e-b7bffecaa0ee",
   "metadata": {},
   "outputs": [],
   "source": [
    "# Get rentcast market data for the 10 zipcodes that are most represented in the eviction case data\n",
    "zipcodes = df['Tenant ZIP Code'].value_counts().head(10).index.astype('Int64')\n",
    "for zipcode in zipcodes:\n",
    "    # Make GET request to rentcast API\n",
    "    url = f'https://api.rentcast.io/v1/markets?zipCode={zipcode}&dataType=All&historyRange=6'\n",
    "    headers = {\n",
    "        'X-Api-Key': CONFIGS['rentcast_api_key'],\n",
    "        'Accept': 'application/json', \n",
    "    }\n",
    "    response = requests.get(url, headers=headers)\n",
    "    data = response.json()\n",
    "    # Save to json\n",
    "    file_path = os.path.join(CONFIGS['rentcast_data_dir'], f'rentcast_{zipcode}.json')\n",
    "    with open(file_path, 'w') as file:\n",
    "        json.dump(data, file, indent=4)"
   ]
  },
  {
   "cell_type": "markdown",
   "id": "89acaf1a-a772-4f22-bdd7-06e765bd1bb5",
   "metadata": {},
   "source": [
    "## Debugging\n",
    "\n",
    "Errors are frustrating and inevitable. Even professional programmers probably spend most of their time debugging.\n",
    "\n",
    "Luckily, there are good tools and techniques for making debugging a little easier.\n",
    "\n",
    "An \"interactive debugger\" helps diagnose problems by stepping through the code one line at a time.\n",
    "\n",
    "The debugger provides tools for setting \"breakpoints\" where the code will stop running temporarily, a table that shows the values of variables at that time, and buttons to start, stop, and step through the code.\n",
    "\n",
    "https://jupyterlab.readthedocs.io/en/stable/user/debugger.html"
   ]
  },
  {
   "cell_type": "code",
   "execution_count": 3,
   "id": "a8abf17d-39e7-4da1-8d0a-f55121ca8a57",
   "metadata": {},
   "outputs": [
    {
     "data": {
      "text/plain": [
       "True"
      ]
     },
     "execution_count": 3,
     "metadata": {},
     "output_type": "execute_result"
    }
   ],
   "source": [
    "def check_adult(age, cutoff=18):\n",
    "    if age < cutoff:\n",
    "        adult = False\n",
    "    else:\n",
    "        adult = True\n",
    "    return adult\n",
    "\n",
    "check_adult(20)"
   ]
  },
  {
   "cell_type": "markdown",
   "id": "1c418985-eb94-45c3-8790-f992b7f9621f",
   "metadata": {},
   "source": [
    "## Style guidelines for Python\n",
    "- At the very least, do things consistently\n",
    "- One statement per line\n",
    "- Try to limit line length to 72 characters\n",
    "- Use four spaces to indent\n",
    "- Put spaces around operators (e.g., `1 + 1` or `day = 'Monday'`) (except in keyword function arguments)\n",
    "- Use blank lines intentionally and consistently\n",
    "- Use meaningful names\n",
    "- Name variables and functions with `lowercase_underscores`\n",
    "- Constants are often named in `ALL_CAPS_WITH_UNDERSCORES` (e.g., `C = 2.99792458e+8`)\n",
    "- Name custom classes with `CapWords`\n",
    "- In general, avoid spaces in folder and filenames used for programming\n",
    "\n",
    "See [Code Readability](https://github.com/ncsg/ursp688y_sp2024/blob/main/README.md#code-readability) on the syllabus. [CS61A](https://cs61a.org/articles/composition/) has an excellent composition guide. [PEP 8](https://peps.python.org/pep-0008/) is a standard Python style guide. [Google](https://google.github.io/styleguide/pyguide.html) publishes their internal Python style guide."
   ]
  }
 ],
 "metadata": {
  "kernelspec": {
   "display_name": "Python 3 (ipykernel)",
   "language": "python",
   "name": "python3"
  },
  "language_info": {
   "codemirror_mode": {
    "name": "ipython",
    "version": 3
   },
   "file_extension": ".py",
   "mimetype": "text/x-python",
   "name": "python",
   "nbconvert_exporter": "python",
   "pygments_lexer": "ipython3",
   "version": "3.13.1"
  }
 },
 "nbformat": 4,
 "nbformat_minor": 5
}
