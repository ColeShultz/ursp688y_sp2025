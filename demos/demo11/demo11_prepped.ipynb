{
 "cells": [
  {
   "cell_type": "markdown",
   "id": "13b62af4-9c03-46d7-805c-cebadd28185e",
   "metadata": {
    "editable": true,
    "id": "13b62af4-9c03-46d7-805c-cebadd28185e",
    "tags": []
   },
   "source": [
    "Urban Data Science & Smart Cities <br>\n",
    "URSP688Y Spring 2025<br>\n",
    "Instructor: Chester Harvey <br>\n",
    "Urban Studies & Planning <br>\n",
    "National Center for Smart Growth <br>\n",
    "University of Maryland"
   ]
  },
  {
   "attachments": {},
   "cell_type": "markdown",
   "id": "b7d7937e-5289-44bb-ac8b-1e0b03a74e0b",
   "metadata": {
    "id": "b7d7937e-5289-44bb-ac8b-1e0b03a74e0b"
   },
   "source": [
    "# Demo 11 - Dashboards\n",
    "\n",
    "- Retrieve and cache data from bikeshare every X minutes\n",
    "- Map counts of available bikes per tract\n",
    "- Use slider to move back and forth through time with available data\n",
    "- Checkbox to identify tracts where values have changed since app started? (change color of bubbles?)\n",
    "- Checkbox to select different types of bikes? (electric vs ebike?)\n",
    "- Parameter to scale size of bubbles?"
   ]
  },
  {
   "cell_type": "code",
   "execution_count": 1,
   "id": "3f7e738b-7567-4fef-8edf-e737e83ae2aa",
   "metadata": {},
   "outputs": [],
   "source": [
    "import demo11\n",
    "import geopandas as gpd\n",
    "import pandas as pd\n",
    "import numpy as np\n",
    "import json\n",
    "\n",
    "%load_ext autoreload\n",
    "%autoreload 2"
   ]
  },
  {
   "cell_type": "code",
   "execution_count": 9,
   "id": "f5f2655a-e125-4c0f-8b51-0011a0e6ee03",
   "metadata": {},
   "outputs": [],
   "source": [
    "# Load Data\n",
    "bikes_gdf, stations_gdf = demo11.load_bike_data()\n",
    "bikes_gdf = pd.concat([\n",
    "    bikes_gdf[['lat','lon','vehicle_type_id','timestamp','geometry']],\n",
    "    demo11.expand_stations_into_bikes(stations_gdf)])\n",
    "tracts_gdf = demo11.load_tracts()\n",
    "eea_df = pd.read_csv('mwcog_eea_2016_2020.csv')\n",
    "eea_df = demo11.clean_eea(eea_df)\n",
    "nbhds_gdf = demo11.load_nbhds()\n",
    "\n",
    "# Join equity emphasis area data to tracts\n",
    "tracts_gdf = tracts_gdf.merge(eea_df, on='tract_id', how='left')\n",
    "\n",
    "# Add tract data to nbhds with weighted average eea indices\n",
    "# Also limit to nhbds with tract data\n",
    "nbhds_gdf = demo11.add_tract_data_to_nbhds(nbhds_gdf, tracts_gdf)"
   ]
  },
  {
   "cell_type": "code",
   "execution_count": 10,
   "id": "0946c00a-08f3-49f2-b1e0-734ba07c2eda",
   "metadata": {},
   "outputs": [
    {
     "data": {
      "text/html": [
       "<div>\n",
       "<style scoped>\n",
       "    .dataframe tbody tr th:only-of-type {\n",
       "        vertical-align: middle;\n",
       "    }\n",
       "\n",
       "    .dataframe tbody tr th {\n",
       "        vertical-align: top;\n",
       "    }\n",
       "\n",
       "    .dataframe thead th {\n",
       "        text-align: right;\n",
       "    }\n",
       "</style>\n",
       "<table border=\"1\" class=\"dataframe\">\n",
       "  <thead>\n",
       "    <tr style=\"text-align: right;\">\n",
       "      <th></th>\n",
       "      <th>nbhd</th>\n",
       "      <th>geometry</th>\n",
       "      <th>pop</th>\n",
       "      <th>eea_idx</th>\n",
       "      <th>eea_low_income</th>\n",
       "      <th>eea_black</th>\n",
       "      <th>eea_hisp</th>\n",
       "      <th>eea_asian</th>\n",
       "    </tr>\n",
       "  </thead>\n",
       "  <tbody>\n",
       "    <tr>\n",
       "      <th>0</th>\n",
       "      <td>Colonial Village</td>\n",
       "      <td>POINT (-77.04109 38.98679)</td>\n",
       "      <td>4477.0</td>\n",
       "      <td>0.000000</td>\n",
       "      <td>0.000000</td>\n",
       "      <td>0.000000</td>\n",
       "      <td>0.000000</td>\n",
       "      <td>0.000000</td>\n",
       "    </tr>\n",
       "    <tr>\n",
       "      <th>1</th>\n",
       "      <td>Takoma</td>\n",
       "      <td>POINT (-77.02156 38.97646)</td>\n",
       "      <td>7481.0</td>\n",
       "      <td>0.000000</td>\n",
       "      <td>0.000000</td>\n",
       "      <td>0.000000</td>\n",
       "      <td>0.000000</td>\n",
       "      <td>0.000000</td>\n",
       "    </tr>\n",
       "    <tr>\n",
       "      <th>2</th>\n",
       "      <td>Barnaby Woods</td>\n",
       "      <td>POINT (-77.06017 38.97543)</td>\n",
       "      <td>5804.0</td>\n",
       "      <td>0.000000</td>\n",
       "      <td>0.000000</td>\n",
       "      <td>0.000000</td>\n",
       "      <td>0.000000</td>\n",
       "      <td>0.000000</td>\n",
       "    </tr>\n",
       "    <tr>\n",
       "      <th>3</th>\n",
       "      <td>Brightwood</td>\n",
       "      <td>POINT (-77.02687 38.96638)</td>\n",
       "      <td>14012.0</td>\n",
       "      <td>7.909646</td>\n",
       "      <td>1.780667</td>\n",
       "      <td>1.461645</td>\n",
       "      <td>1.266913</td>\n",
       "      <td>0.032542</td>\n",
       "    </tr>\n",
       "    <tr>\n",
       "      <th>4</th>\n",
       "      <td>Lamond Riggs</td>\n",
       "      <td>POINT (-77.00645 38.96507)</td>\n",
       "      <td>4286.0</td>\n",
       "      <td>0.000000</td>\n",
       "      <td>0.000000</td>\n",
       "      <td>0.000000</td>\n",
       "      <td>0.000000</td>\n",
       "      <td>0.000000</td>\n",
       "    </tr>\n",
       "    <tr>\n",
       "      <th>...</th>\n",
       "      <td>...</td>\n",
       "      <td>...</td>\n",
       "      <td>...</td>\n",
       "      <td>...</td>\n",
       "      <td>...</td>\n",
       "      <td>...</td>\n",
       "      <td>...</td>\n",
       "      <td>...</td>\n",
       "    </tr>\n",
       "    <tr>\n",
       "      <th>105</th>\n",
       "      <td>Douglass</td>\n",
       "      <td>POINT (-76.97964 38.84757)</td>\n",
       "      <td>8885.0</td>\n",
       "      <td>8.645612</td>\n",
       "      <td>2.429001</td>\n",
       "      <td>3.428605</td>\n",
       "      <td>0.313414</td>\n",
       "      <td>0.020046</td>\n",
       "    </tr>\n",
       "    <tr>\n",
       "      <th>106</th>\n",
       "      <td>Shipley</td>\n",
       "      <td>POINT (-76.9729 38.84686)</td>\n",
       "      <td>6139.0</td>\n",
       "      <td>12.000000</td>\n",
       "      <td>4.622832</td>\n",
       "      <td>3.263451</td>\n",
       "      <td>0.293282</td>\n",
       "      <td>0.061169</td>\n",
       "    </tr>\n",
       "    <tr>\n",
       "      <th>107</th>\n",
       "      <td>Congress Heights</td>\n",
       "      <td>POINT (-76.99795 38.84108)</td>\n",
       "      <td>10617.0</td>\n",
       "      <td>12.000000</td>\n",
       "      <td>3.365381</td>\n",
       "      <td>3.468561</td>\n",
       "      <td>0.202736</td>\n",
       "      <td>0.010956</td>\n",
       "    </tr>\n",
       "    <tr>\n",
       "      <th>108</th>\n",
       "      <td>Washington Highlands</td>\n",
       "      <td>POINT (-76.99564 38.83024)</td>\n",
       "      <td>11484.0</td>\n",
       "      <td>12.000000</td>\n",
       "      <td>3.615912</td>\n",
       "      <td>3.683990</td>\n",
       "      <td>0.134923</td>\n",
       "      <td>0.009015</td>\n",
       "    </tr>\n",
       "    <tr>\n",
       "      <th>109</th>\n",
       "      <td>Bellevue</td>\n",
       "      <td>POINT (-77.00927 38.82695)</td>\n",
       "      <td>13508.0</td>\n",
       "      <td>6.904162</td>\n",
       "      <td>1.783502</td>\n",
       "      <td>2.231835</td>\n",
       "      <td>0.068079</td>\n",
       "      <td>0.007660</td>\n",
       "    </tr>\n",
       "  </tbody>\n",
       "</table>\n",
       "<p>110 rows × 8 columns</p>\n",
       "</div>"
      ],
      "text/plain": [
       "                     nbhd                    geometry      pop    eea_idx  \\\n",
       "0        Colonial Village  POINT (-77.04109 38.98679)   4477.0   0.000000   \n",
       "1                  Takoma  POINT (-77.02156 38.97646)   7481.0   0.000000   \n",
       "2           Barnaby Woods  POINT (-77.06017 38.97543)   5804.0   0.000000   \n",
       "3              Brightwood  POINT (-77.02687 38.96638)  14012.0   7.909646   \n",
       "4            Lamond Riggs  POINT (-77.00645 38.96507)   4286.0   0.000000   \n",
       "..                    ...                         ...      ...        ...   \n",
       "105              Douglass  POINT (-76.97964 38.84757)   8885.0   8.645612   \n",
       "106               Shipley   POINT (-76.9729 38.84686)   6139.0  12.000000   \n",
       "107      Congress Heights  POINT (-76.99795 38.84108)  10617.0  12.000000   \n",
       "108  Washington Highlands  POINT (-76.99564 38.83024)  11484.0  12.000000   \n",
       "109              Bellevue  POINT (-77.00927 38.82695)  13508.0   6.904162   \n",
       "\n",
       "     eea_low_income  eea_black  eea_hisp  eea_asian  \n",
       "0          0.000000   0.000000  0.000000   0.000000  \n",
       "1          0.000000   0.000000  0.000000   0.000000  \n",
       "2          0.000000   0.000000  0.000000   0.000000  \n",
       "3          1.780667   1.461645  1.266913   0.032542  \n",
       "4          0.000000   0.000000  0.000000   0.000000  \n",
       "..              ...        ...       ...        ...  \n",
       "105        2.429001   3.428605  0.313414   0.020046  \n",
       "106        4.622832   3.263451  0.293282   0.061169  \n",
       "107        3.365381   3.468561  0.202736   0.010956  \n",
       "108        3.615912   3.683990  0.134923   0.009015  \n",
       "109        1.783502   2.231835  0.068079   0.007660  \n",
       "\n",
       "[110 rows x 8 columns]"
      ]
     },
     "execution_count": 10,
     "metadata": {},
     "output_type": "execute_result"
    }
   ],
   "source": [
    "nbhds_gdf"
   ]
  },
  {
   "cell_type": "code",
   "execution_count": 11,
   "id": "03625f31-3dfc-499e-bf23-6ca4eaa55d5b",
   "metadata": {},
   "outputs": [],
   "source": [
    "# Attach neighborhoods to bikes\n",
    "bikes_gdf = demo11.attach_points_to_points(bikes_gdf, nbhds_gdf)"
   ]
  },
  {
   "cell_type": "code",
   "execution_count": 12,
   "id": "c4fda954-f79a-43cb-b293-19e688ddd955",
   "metadata": {},
   "outputs": [
    {
     "data": {
      "text/html": [
       "<div>\n",
       "<style scoped>\n",
       "    .dataframe tbody tr th:only-of-type {\n",
       "        vertical-align: middle;\n",
       "    }\n",
       "\n",
       "    .dataframe tbody tr th {\n",
       "        vertical-align: top;\n",
       "    }\n",
       "\n",
       "    .dataframe thead th {\n",
       "        text-align: right;\n",
       "    }\n",
       "</style>\n",
       "<table border=\"1\" class=\"dataframe\">\n",
       "  <thead>\n",
       "    <tr style=\"text-align: right;\">\n",
       "      <th></th>\n",
       "      <th>lat</th>\n",
       "      <th>lon</th>\n",
       "      <th>vehicle_type_id</th>\n",
       "      <th>timestamp</th>\n",
       "      <th>geometry</th>\n",
       "      <th>station_id</th>\n",
       "      <th>nbhd</th>\n",
       "      <th>pop</th>\n",
       "      <th>eea_idx</th>\n",
       "      <th>eea_low_income</th>\n",
       "      <th>eea_black</th>\n",
       "      <th>eea_hisp</th>\n",
       "      <th>eea_asian</th>\n",
       "    </tr>\n",
       "  </thead>\n",
       "  <tbody>\n",
       "    <tr>\n",
       "      <th>0</th>\n",
       "      <td>38.860617</td>\n",
       "      <td>-77.067196</td>\n",
       "      <td>2</td>\n",
       "      <td>2025-04-14 17:36:45</td>\n",
       "      <td>POINT (-77.0672 38.86062)</td>\n",
       "      <td>NaN</td>\n",
       "      <td>Monumental Core</td>\n",
       "      <td>17.0</td>\n",
       "      <td>0.000000</td>\n",
       "      <td>0.000000</td>\n",
       "      <td>0.000000</td>\n",
       "      <td>0.000000</td>\n",
       "      <td>0.00000</td>\n",
       "    </tr>\n",
       "    <tr>\n",
       "      <th>1</th>\n",
       "      <td>38.859086</td>\n",
       "      <td>-76.997106</td>\n",
       "      <td>2</td>\n",
       "      <td>2025-04-14 17:36:45</td>\n",
       "      <td>POINT (-76.99711 38.85909)</td>\n",
       "      <td>NaN</td>\n",
       "      <td>Barry Farm</td>\n",
       "      <td>1407.0</td>\n",
       "      <td>12.000000</td>\n",
       "      <td>5.635000</td>\n",
       "      <td>3.415000</td>\n",
       "      <td>0.201000</td>\n",
       "      <td>0.25700</td>\n",
       "    </tr>\n",
       "    <tr>\n",
       "      <th>2</th>\n",
       "      <td>38.907483</td>\n",
       "      <td>-76.951222</td>\n",
       "      <td>2</td>\n",
       "      <td>2025-04-14 17:36:45</td>\n",
       "      <td>POINT (-76.95122 38.90748)</td>\n",
       "      <td>NaN</td>\n",
       "      <td>Mayfair</td>\n",
       "      <td>5144.0</td>\n",
       "      <td>12.000000</td>\n",
       "      <td>4.398000</td>\n",
       "      <td>3.439000</td>\n",
       "      <td>0.548000</td>\n",
       "      <td>0.02400</td>\n",
       "    </tr>\n",
       "    <tr>\n",
       "      <th>3</th>\n",
       "      <td>38.831194</td>\n",
       "      <td>-77.118111</td>\n",
       "      <td>2</td>\n",
       "      <td>2025-04-14 17:36:45</td>\n",
       "      <td>POINT (-77.11811 38.83119)</td>\n",
       "      <td>NaN</td>\n",
       "      <td>Georgetown Reservoir</td>\n",
       "      <td>3306.0</td>\n",
       "      <td>0.000000</td>\n",
       "      <td>0.000000</td>\n",
       "      <td>0.000000</td>\n",
       "      <td>0.000000</td>\n",
       "      <td>0.00000</td>\n",
       "    </tr>\n",
       "    <tr>\n",
       "      <th>4</th>\n",
       "      <td>38.929028</td>\n",
       "      <td>-77.004184</td>\n",
       "      <td>2</td>\n",
       "      <td>2025-04-14 17:36:45</td>\n",
       "      <td>POINT (-77.00418 38.92903)</td>\n",
       "      <td>NaN</td>\n",
       "      <td>Stronghold</td>\n",
       "      <td>3337.0</td>\n",
       "      <td>7.510000</td>\n",
       "      <td>1.641000</td>\n",
       "      <td>2.593000</td>\n",
       "      <td>0.613000</td>\n",
       "      <td>0.08300</td>\n",
       "    </tr>\n",
       "    <tr>\n",
       "      <th>...</th>\n",
       "      <td>...</td>\n",
       "      <td>...</td>\n",
       "      <td>...</td>\n",
       "      <td>...</td>\n",
       "      <td>...</td>\n",
       "      <td>...</td>\n",
       "      <td>...</td>\n",
       "      <td>...</td>\n",
       "      <td>...</td>\n",
       "      <td>...</td>\n",
       "      <td>...</td>\n",
       "      <td>...</td>\n",
       "      <td>...</td>\n",
       "    </tr>\n",
       "    <tr>\n",
       "      <th>5232</th>\n",
       "      <td>38.990249</td>\n",
       "      <td>-77.029350</td>\n",
       "      <td>1</td>\n",
       "      <td>2025-04-14 17:36:28</td>\n",
       "      <td>POINT (-77.02935 38.99025)</td>\n",
       "      <td>08259804-1f3f-11e7-bf6b-3863bb334450</td>\n",
       "      <td>Colonial Village</td>\n",
       "      <td>4477.0</td>\n",
       "      <td>0.000000</td>\n",
       "      <td>0.000000</td>\n",
       "      <td>0.000000</td>\n",
       "      <td>0.000000</td>\n",
       "      <td>0.00000</td>\n",
       "    </tr>\n",
       "    <tr>\n",
       "      <th>5233</th>\n",
       "      <td>38.990249</td>\n",
       "      <td>-77.029350</td>\n",
       "      <td>1</td>\n",
       "      <td>2025-04-14 17:36:28</td>\n",
       "      <td>POINT (-77.02935 38.99025)</td>\n",
       "      <td>08259804-1f3f-11e7-bf6b-3863bb334450</td>\n",
       "      <td>Colonial Village</td>\n",
       "      <td>4477.0</td>\n",
       "      <td>0.000000</td>\n",
       "      <td>0.000000</td>\n",
       "      <td>0.000000</td>\n",
       "      <td>0.000000</td>\n",
       "      <td>0.00000</td>\n",
       "    </tr>\n",
       "    <tr>\n",
       "      <th>5234</th>\n",
       "      <td>38.990249</td>\n",
       "      <td>-77.029350</td>\n",
       "      <td>2</td>\n",
       "      <td>2025-04-14 17:36:28</td>\n",
       "      <td>POINT (-77.02935 38.99025)</td>\n",
       "      <td>08259804-1f3f-11e7-bf6b-3863bb334450</td>\n",
       "      <td>Colonial Village</td>\n",
       "      <td>4477.0</td>\n",
       "      <td>0.000000</td>\n",
       "      <td>0.000000</td>\n",
       "      <td>0.000000</td>\n",
       "      <td>0.000000</td>\n",
       "      <td>0.00000</td>\n",
       "    </tr>\n",
       "    <tr>\n",
       "      <th>5235</th>\n",
       "      <td>38.876941</td>\n",
       "      <td>-77.017807</td>\n",
       "      <td>1</td>\n",
       "      <td>2025-04-14 17:36:29</td>\n",
       "      <td>POINT (-77.01781 38.87694)</td>\n",
       "      <td>08247896-1f3f-11e7-bf6b-3863bb334450</td>\n",
       "      <td>Southwest/Waterfront</td>\n",
       "      <td>9397.0</td>\n",
       "      <td>2.200084</td>\n",
       "      <td>0.733642</td>\n",
       "      <td>0.466519</td>\n",
       "      <td>0.220429</td>\n",
       "      <td>0.13251</td>\n",
       "    </tr>\n",
       "    <tr>\n",
       "      <th>5236</th>\n",
       "      <td>38.876941</td>\n",
       "      <td>-77.017807</td>\n",
       "      <td>1</td>\n",
       "      <td>2025-04-14 17:36:29</td>\n",
       "      <td>POINT (-77.01781 38.87694)</td>\n",
       "      <td>08247896-1f3f-11e7-bf6b-3863bb334450</td>\n",
       "      <td>Southwest/Waterfront</td>\n",
       "      <td>9397.0</td>\n",
       "      <td>2.200084</td>\n",
       "      <td>0.733642</td>\n",
       "      <td>0.466519</td>\n",
       "      <td>0.220429</td>\n",
       "      <td>0.13251</td>\n",
       "    </tr>\n",
       "  </tbody>\n",
       "</table>\n",
       "<p>6296 rows × 13 columns</p>\n",
       "</div>"
      ],
      "text/plain": [
       "            lat        lon  vehicle_type_id           timestamp  \\\n",
       "0     38.860617 -77.067196                2 2025-04-14 17:36:45   \n",
       "1     38.859086 -76.997106                2 2025-04-14 17:36:45   \n",
       "2     38.907483 -76.951222                2 2025-04-14 17:36:45   \n",
       "3     38.831194 -77.118111                2 2025-04-14 17:36:45   \n",
       "4     38.929028 -77.004184                2 2025-04-14 17:36:45   \n",
       "...         ...        ...              ...                 ...   \n",
       "5232  38.990249 -77.029350                1 2025-04-14 17:36:28   \n",
       "5233  38.990249 -77.029350                1 2025-04-14 17:36:28   \n",
       "5234  38.990249 -77.029350                2 2025-04-14 17:36:28   \n",
       "5235  38.876941 -77.017807                1 2025-04-14 17:36:29   \n",
       "5236  38.876941 -77.017807                1 2025-04-14 17:36:29   \n",
       "\n",
       "                        geometry                            station_id  \\\n",
       "0      POINT (-77.0672 38.86062)                                   NaN   \n",
       "1     POINT (-76.99711 38.85909)                                   NaN   \n",
       "2     POINT (-76.95122 38.90748)                                   NaN   \n",
       "3     POINT (-77.11811 38.83119)                                   NaN   \n",
       "4     POINT (-77.00418 38.92903)                                   NaN   \n",
       "...                          ...                                   ...   \n",
       "5232  POINT (-77.02935 38.99025)  08259804-1f3f-11e7-bf6b-3863bb334450   \n",
       "5233  POINT (-77.02935 38.99025)  08259804-1f3f-11e7-bf6b-3863bb334450   \n",
       "5234  POINT (-77.02935 38.99025)  08259804-1f3f-11e7-bf6b-3863bb334450   \n",
       "5235  POINT (-77.01781 38.87694)  08247896-1f3f-11e7-bf6b-3863bb334450   \n",
       "5236  POINT (-77.01781 38.87694)  08247896-1f3f-11e7-bf6b-3863bb334450   \n",
       "\n",
       "                      nbhd     pop    eea_idx  eea_low_income  eea_black  \\\n",
       "0          Monumental Core    17.0   0.000000        0.000000   0.000000   \n",
       "1               Barry Farm  1407.0  12.000000        5.635000   3.415000   \n",
       "2                  Mayfair  5144.0  12.000000        4.398000   3.439000   \n",
       "3     Georgetown Reservoir  3306.0   0.000000        0.000000   0.000000   \n",
       "4               Stronghold  3337.0   7.510000        1.641000   2.593000   \n",
       "...                    ...     ...        ...             ...        ...   \n",
       "5232      Colonial Village  4477.0   0.000000        0.000000   0.000000   \n",
       "5233      Colonial Village  4477.0   0.000000        0.000000   0.000000   \n",
       "5234      Colonial Village  4477.0   0.000000        0.000000   0.000000   \n",
       "5235  Southwest/Waterfront  9397.0   2.200084        0.733642   0.466519   \n",
       "5236  Southwest/Waterfront  9397.0   2.200084        0.733642   0.466519   \n",
       "\n",
       "      eea_hisp  eea_asian  \n",
       "0     0.000000    0.00000  \n",
       "1     0.201000    0.25700  \n",
       "2     0.548000    0.02400  \n",
       "3     0.000000    0.00000  \n",
       "4     0.613000    0.08300  \n",
       "...        ...        ...  \n",
       "5232  0.000000    0.00000  \n",
       "5233  0.000000    0.00000  \n",
       "5234  0.000000    0.00000  \n",
       "5235  0.220429    0.13251  \n",
       "5236  0.220429    0.13251  \n",
       "\n",
       "[6296 rows x 13 columns]"
      ]
     },
     "execution_count": 12,
     "metadata": {},
     "output_type": "execute_result"
    }
   ],
   "source": [
    "bikes_gdf"
   ]
  },
  {
   "cell_type": "code",
   "execution_count": null,
   "id": "2daaceec-5f0b-4a55-b83c-19e87a16b073",
   "metadata": {},
   "outputs": [],
   "source": [
    "tract_points_by_neighborhood[tract_points_by_neighborhood.nbhd == 'North Portal Estates']"
   ]
  },
  {
   "cell_type": "code",
   "execution_count": null,
   "id": "f883d06b-4f14-4f20-83c0-7482f6e58bf6",
   "metadata": {},
   "outputs": [],
   "source": [
    "nbhds_gdf"
   ]
  },
  {
   "cell_type": "code",
   "execution_count": null,
   "id": "f4529fde-c501-4c06-b2a7-b55e082834a2",
   "metadata": {},
   "outputs": [],
   "source": []
  },
  {
   "cell_type": "code",
   "execution_count": null,
   "id": "38968ea4-8a6e-4f70-8984-a0b66f950366",
   "metadata": {},
   "outputs": [],
   "source": [
    "eea_df[eea_df.tract_id.str.endswith('3600')]"
   ]
  },
  {
   "cell_type": "code",
   "execution_count": null,
   "id": "38bf07ca-a6da-41d6-88f9-698132df285e",
   "metadata": {},
   "outputs": [],
   "source": [
    "tracts_gdf[tracts_gdf.tract_id.str.endswith('3600')]"
   ]
  },
  {
   "cell_type": "code",
   "execution_count": null,
   "id": "e823d8ce-a91d-4f84-adc7-595168a9571f",
   "metadata": {},
   "outputs": [],
   "source": [
    "tracts_gdf = tracts_gdf.merge(eea_df, on='tract_id', how='left')"
   ]
  },
  {
   "cell_type": "code",
   "execution_count": null,
   "id": "ab5d5795-7f0c-464f-b237-40a7c498e4fb",
   "metadata": {},
   "outputs": [],
   "source": [
    "len(tracts_gdf)"
   ]
  },
  {
   "cell_type": "code",
   "execution_count": null,
   "id": "4da6e7a2-8b07-432f-8c0e-9ffaff954ad5",
   "metadata": {},
   "outputs": [],
   "source": [
    "tracts_gdf"
   ]
  },
  {
   "cell_type": "code",
   "execution_count": null,
   "id": "1bff263a-b116-4905-a94c-2d3ccf6e5000",
   "metadata": {},
   "outputs": [],
   "source": [
    "# Retrieve bike data and join with tracts\n",
    "tracts_gdf = demo11.load_tracts()\n",
    "bikes_gdf, stations_gdf = demo11.load_bike_data()\n",
    "bikes_gdf = pd.concat([\n",
    "    bikes_gdf[['lat','lon','vehicle_type_id','timestamp','geometry']],\n",
    "    demo11.expand_stations_into_bikes(stations_gdf)])"
   ]
  },
  {
   "cell_type": "code",
   "execution_count": null,
   "id": "4935d117-a9c2-45df-92b0-c6233eab2f92",
   "metadata": {},
   "outputs": [],
   "source": [
    "neighborhood_points_gdf = gpd.read_file('dc_neighborhood_points.geojson')\n",
    "neighborhood_points_gdf = neighborhood_points_gdf[['NAME','geometry']].rename(columns={'NAME':'nbhd'})"
   ]
  },
  {
   "cell_type": "code",
   "execution_count": null,
   "id": "3c09b66a-d327-43f9-8acb-3c8cbe76ca8e",
   "metadata": {},
   "outputs": [],
   "source": [
    "bikes_gdf.to_crs(demo11.UTM18)"
   ]
  },
  {
   "cell_type": "code",
   "execution_count": null,
   "id": "ece583f1-6761-4f12-8ff2-f3bb23217130",
   "metadata": {},
   "outputs": [],
   "source": [
    "\n",
    "\n",
    "gpd.sjoin_nearest(bikes_gdf.to_crs(demo11.UTM18), neighborhood_points_gdf.to_crs(demo11.UTM18))"
   ]
  },
  {
   "cell_type": "code",
   "execution_count": null,
   "id": "1796971d-6517-4144-a8b3-ec7fe934dc44",
   "metadata": {},
   "outputs": [],
   "source": [
    "bikes_gdf = demo11.attach_tracts_to_bikes(bikes_gdf, tracts_gdf)\n",
    "\n",
    "# Filter bikes based on ui criteria (electric/non-electric; docked/undocked)\n",
    "\n",
    "# Count bikes per tract for mapping\n",
    "bikes_per_tract_df = demo11.count_bikes_per_tract(bikes_gdf)\n",
    "tracts_with_bike_counts_gdf = demo11.attach_counts_to_tract_polygons(bikes_per_tract_df, tracts_gdf)\n",
    "tracts_with_bike_counts_gdf = demo11.polygons_to_points(tracts_with_bike_counts_gdf)"
   ]
  },
  {
   "cell_type": "code",
   "execution_count": null,
   "id": "ff732cc2-19d0-4b96-9d9c-c6b628afbed8",
   "metadata": {},
   "outputs": [],
   "source": [
    "tracts_with_bike_counts_gdf[tracts_with_bike_counts_gdf.geometry.isnull()]"
   ]
  },
  {
   "cell_type": "code",
   "execution_count": null,
   "id": "5631c5a8-94f5-424b-9e2a-3a419d3fca58",
   "metadata": {},
   "outputs": [],
   "source": [
    "bikes_gdf.groupby('tract_id').size().rename('bikes')"
   ]
  },
  {
   "cell_type": "code",
   "execution_count": null,
   "id": "78c956d1-04d9-4f1f-bdcd-a3fdb0396223",
   "metadata": {},
   "outputs": [],
   "source": [
    "bikes_per_tract_df[bikes_per_tract_df.bikes.isnull()]"
   ]
  },
  {
   "cell_type": "code",
   "execution_count": null,
   "id": "a8efb6df-4efa-42b1-a69f-c31458593964",
   "metadata": {},
   "outputs": [],
   "source": [
    "bikes_gdf.vehicle_type_id.value_counts()"
   ]
  },
  {
   "cell_type": "code",
   "execution_count": null,
   "id": "93064ba9-4952-489a-ad71-8dab20799097",
   "metadata": {},
   "outputs": [],
   "source": [
    "bikes_per_tract_df['at_station'] = bikes_per_tract_df['station_id'].astype(bool)"
   ]
  },
  {
   "cell_type": "code",
   "execution_count": null,
   "id": "dd08cb92-159d-4ccf-bd4b-b783f5e4ef9c",
   "metadata": {},
   "outputs": [],
   "source": [
    "bikes_gdf.station_id.notnull().astype(int)"
   ]
  },
  {
   "cell_type": "code",
   "execution_count": null,
   "id": "491d1401-5175-4eed-8552-3f4e4815ebe3",
   "metadata": {},
   "outputs": [],
   "source": [
    "pd.DataFrame(bikes_per_tract_df.groupby('tract_id').size().rename('bikes'))"
   ]
  },
  {
   "cell_type": "code",
   "execution_count": null,
   "id": "1adf7325-d687-478d-b5fe-474b13be5ea5",
   "metadata": {},
   "outputs": [],
   "source": [
    "multiplier = 100\n",
    "for tract in tract_points_with_bike_counts_gdf.itertuples():\n",
    "    # break\n",
    "    circle_marker = CircleMarker()\n",
    "    circle_marker.location = (tract.geometry.y, tract.geometry.x)\n",
    "    circle_marker.radius = tract.available_bikes * multiplier\n",
    "    circle_marker.color = \"red\"\n",
    "    circle_marker.fill_color = \"red\""
   ]
  },
  {
   "cell_type": "code",
   "execution_count": null,
   "id": "5cde347c-9dee-49c6-84ef-3ece656d9f0c",
   "metadata": {},
   "outputs": [],
   "source": [
    "tract"
   ]
  },
  {
   "cell_type": "code",
   "execution_count": null,
   "id": "a9be832d-418b-43c4-b05c-77bd0372b789",
   "metadata": {},
   "outputs": [],
   "source": [
    "tracts_with_bike_count_circles_gdf = demo11.replace_polygons_with_proportional_circles(\n",
    "    tracts_with_bike_counts_gdf, 'available_bikes', 250)"
   ]
  },
  {
   "cell_type": "code",
   "execution_count": null,
   "id": "b3147651-a744-4299-bdb5-5e44bba3c5c9",
   "metadata": {},
   "outputs": [],
   "source": []
  },
  {
   "cell_type": "code",
   "execution_count": null,
   "id": "fbce8a5c-eea9-4eb9-b3ac-275285701db2",
   "metadata": {},
   "outputs": [],
   "source": [
    "tracts_with_bike_count_circles_gdf = tracts_with_bike_count_circles_gdf.to_crs(4326)"
   ]
  },
  {
   "cell_type": "code",
   "execution_count": null,
   "id": "f039f1da-179f-4679-a9a9-cc33793d4668",
   "metadata": {},
   "outputs": [],
   "source": [
    "tracts_with_bike_count_circles_gdf[['available_bikes','geometry']].to_geo_dict()"
   ]
  },
  {
   "cell_type": "code",
   "execution_count": null,
   "id": "36ea7e4d-7274-4cc2-a486-fb97baf3dfcc",
   "metadata": {},
   "outputs": [],
   "source": [
    "from shiny import render, reactive\n",
    "from shiny.express import input, render, ui\n",
    "from shinywidgets import render_widget\n",
    "import ipywidgets as widgets"
   ]
  },
  {
   "cell_type": "code",
   "execution_count": null,
   "id": "ebeb6d8f-5621-43cf-bf5a-e50fd3caf223",
   "metadata": {},
   "outputs": [],
   "source": [
    "city_centers = {\n",
    "    \"London\": (51.5074, 0.1278),\n",
    "    \"Paris\": (48.8566, 2.3522),\n",
    "    \"New York\": (40.7128, -74.0060)\n",
    "}\n",
    "\n",
    "ui.input_select(\"center\", \"Center\", choices=list(city_centers.keys()))\n",
    "\n",
    "@render_widget\n",
    "def map():\n",
    "    return ipyl.Map(zoom=4)\n",
    "\n",
    "@reactive.effect\n",
    "def _():\n",
    "    map.widget.center = city_centers[input.center()]"
   ]
  },
  {
   "cell_type": "code",
   "execution_count": null,
   "id": "4acdf313-efc1-4e4d-926e-0458c35b2fee",
   "metadata": {},
   "outputs": [],
   "source": [
    "ui.input_text(\"name\", \"What's your name?\", value=\"World\")\n",
    "\n",
    "@render.text\n",
    "def greeting():\n",
    "    return f\"Hello, {input.name()}!\""
   ]
  },
  {
   "cell_type": "code",
   "execution_count": null,
   "id": "8ee59742-8471-4ae2-922c-e0398ce31fd6",
   "metadata": {},
   "outputs": [],
   "source": [
    "import geopandas as gpd\n",
    "import pandas as pd\n",
    "import numpy as np\n",
    "import matplotlib.pyplot as plt\n",
    "import os"
   ]
  },
  {
   "cell_type": "markdown",
   "id": "4a060a17-46d2-4ee8-aa75-784b1485eab0",
   "metadata": {},
   "source": [
    "## GeoPandas `plot`\n",
    "\n",
    "The simplest option for making a static map from a GeoDataFrame is the built-in `plot` method."
   ]
  },
  {
   "cell_type": "code",
   "execution_count": null,
   "id": "ed69ee68-a04b-4b6c-911d-0de09377ad04",
   "metadata": {},
   "outputs": [],
   "source": [
    "crs = 26918 # UTM18\n",
    "affordable_housing = gpd.read_file('affordable_housing.geojson').to_crs(crs)\n",
    "tracts = gpd.read_file('dc_tracts.geojson').to_crs(crs)\n",
    "# Restrict to tract-level features, which have geoids 18 characters long\n",
    "tracts = tracts[tracts.geoid.str.len() == 18]"
   ]
  },
  {
   "cell_type": "code",
   "execution_count": null,
   "id": "fa22f928-2adc-4131-a4dd-2fc0b9ea0c21",
   "metadata": {},
   "outputs": [],
   "source": [
    "fig, ax = plt.subplots(figsize=(10, 10))\n",
    "ax = tracts.plot(ax=ax, facecolor='none', edgecolor='k', zorder=0)\n",
    "affordable_housing.plot(ax=ax, markersize=5, color='r', zorder=1)\n",
    "ax.axis('off')\n",
    "\n",
    "plt.savefig('large_scale_map.eps')\n",
    "\n",
    "plt.show()"
   ]
  },
  {
   "cell_type": "code",
   "execution_count": null,
   "id": "d68067b7-6b34-429d-8168-09cb0cbfebd5",
   "metadata": {},
   "outputs": [],
   "source": [
    "affordable_housing = affordable_housing.sjoin(tracts[['geoid','geometry']])"
   ]
  },
  {
   "cell_type": "code",
   "execution_count": null,
   "id": "ab4e7bd6-4853-40b9-9eea-9d091fa5fec7",
   "metadata": {},
   "outputs": [],
   "source": [
    "tracts = tracts.set_index('geoid')"
   ]
  },
  {
   "cell_type": "code",
   "execution_count": null,
   "id": "acd6afb4-7bff-41a5-82d9-52b0c2406c93",
   "metadata": {},
   "outputs": [],
   "source": [
    "tracts = pd.concat([tracts, affordable_housing.groupby('geoid').agg({'TOTAL_AFFORDABLE_UNITS':'sum'})], axis=1)\n",
    "tracts = tracts.fillna(0)"
   ]
  },
  {
   "cell_type": "code",
   "execution_count": null,
   "id": "75107e05-3ca0-422b-bc1b-cead0266f288",
   "metadata": {},
   "outputs": [],
   "source": [
    "fig, ax = plt.subplots(figsize=(10, 10))\n",
    "ax = tracts.plot(ax=ax, column='TOTAL_AFFORDABLE_UNITS', cmap='PuBu', linewidth=0.5, edgecolor='black', legend=True)\n",
    "affordable_housing.plot(ax=ax, markersize=5, color='r', zorder=1)\n",
    "ax.axis('off')\n",
    "\n",
    "plt.savefig('large_scale_map.eps')\n",
    "\n",
    "plt.show()"
   ]
  },
  {
   "cell_type": "code",
   "execution_count": null,
   "id": "5b639a7c-a149-448b-9f28-99e1a2f25301",
   "metadata": {},
   "outputs": [],
   "source": [
    "tracts['affordable_units_per_pop'] = tracts['TOTAL_AFFORDABLE_UNITS'] / tracts['B01003001']"
   ]
  },
  {
   "cell_type": "code",
   "execution_count": null,
   "id": "681d6c67-bc23-4a30-a916-686818c7d3f1",
   "metadata": {},
   "outputs": [],
   "source": [
    "fig, ax = plt.subplots(figsize=(10, 10))\n",
    "ax = tracts.plot(ax=ax, column='affordable_units_per_pop', cmap='PuBu', linewidth=0.5, edgecolor='black', legend=True)\n",
    "affordable_housing.plot(ax=ax, markersize=5, color='r', zorder=1)\n",
    "ax.axis('off')\n",
    "\n",
    "plt.savefig('large_scale_map.eps')\n",
    "\n",
    "plt.show()"
   ]
  },
  {
   "cell_type": "code",
   "execution_count": null,
   "id": "e47eefd3-43de-4fb5-a3ff-af87135c7c8d",
   "metadata": {},
   "outputs": [],
   "source": [
    "fig, ax = plt.subplots(figsize=(10, 10))\n",
    "ax = tracts.plot(ax=ax, column='TOTAL_AFFORDABLE_UNITS', cmap='PuBu', linewidth=0.5, edgecolor='black', legend=True)\n",
    "affordable_housing.plot(ax=ax, markersize=5, color='r', zorder=1)\n",
    "ax.axis('off')\n",
    "\n",
    "plt.savefig('large_scale_map.eps')\n",
    "\n",
    "plt.show()"
   ]
  },
  {
   "cell_type": "markdown",
   "id": "9390ce41-d1a4-4830-a86e-649be54ad059",
   "metadata": {},
   "source": [
    "### Proportional Symbol Map\n",
    "\n",
    "An elegant way to map counts without biasing by the areas of spatial units is to use proportional symbols. This script calculates the radii (buffer distances) for circular symbols with areas proportional to input counts. "
   ]
  },
  {
   "cell_type": "code",
   "execution_count": null,
   "id": "d56a496d-fcb4-444e-946d-329b32891da0",
   "metadata": {},
   "outputs": [],
   "source": [
    "tract_points = tracts.copy()\n",
    "tract_points['geometry'] = tract_points.centroid\n",
    "\n",
    "def proportional_circles_radii(values, multiplier=1):\n",
    "    return np.sqrt(values / 3.14) * multiplier\n",
    "\n",
    "fig, ax = plt.subplots(figsize=(10, 10))\n",
    "ax = tracts.plot(ax=ax, facecolor='none', edgecolor='black', zorder=0, linewidth=0.5)\n",
    "\n",
    "tract_points.buffer(proportional_circles_radii(tract_points['TOTAL_AFFORDABLE_UNITS'], 25)).plot(\n",
    "    ax=ax, \n",
    "    zorder=1, \n",
    "    facecolor='lavender', \n",
    "    edgecolor='midnightblue', \n",
    "    linewidth=0.5)\n",
    "# affordable_housing.plot(ax=ax, markersize=1, color='darkblue', zorder=2)\n",
    "ax.axis('off')\n",
    "\n",
    "plt.savefig('large_scale_map.eps')\n",
    "\n",
    "plt.show()"
   ]
  },
  {
   "cell_type": "markdown",
   "id": "2099f996-bca2-4add-a351-6c4184cf5f5b",
   "metadata": {},
   "source": [
    "## Contextly can automatically add a basemap for reference"
   ]
  },
  {
   "cell_type": "code",
   "execution_count": null,
   "id": "6b9a7598-ed4f-4984-adb4-bf7b17a519ae",
   "metadata": {},
   "outputs": [],
   "source": [
    "# !pip install contextily"
   ]
  },
  {
   "cell_type": "code",
   "execution_count": null,
   "id": "9bdede56-b2ba-456d-8ebf-4efee3d83f02",
   "metadata": {},
   "outputs": [],
   "source": [
    "import contextily as cx"
   ]
  },
  {
   "cell_type": "code",
   "execution_count": null,
   "id": "30f572c8-2759-4f4e-ab64-99f0011c3164",
   "metadata": {},
   "outputs": [],
   "source": [
    "tract_points = tracts.copy()\n",
    "tract_points['geometry'] = tract_points.centroid\n",
    "\n",
    "def proportional_circles_radii(values, multiplier=1):\n",
    "    return np.sqrt(values / 3.14) * multiplier\n",
    "\n",
    "fig, ax = plt.subplots(figsize=(10, 10))\n",
    "ax = tracts.plot(ax=ax, facecolor='none', edgecolor='k', zorder=1, linewidth=0.5)\n",
    "\n",
    "tract_points.buffer(proportional_circles_radii(tract_points['TOTAL_AFFORDABLE_UNITS'], 25)).plot(\n",
    "    ax=ax, \n",
    "    facecolor='lavender', \n",
    "    edgecolor='midnightblue', \n",
    "    linewidth=0.5, \n",
    "    zorder=2)\n",
    "ax.axis('off')\n",
    "\n",
    "# Base map with labels embedded\n",
    "cx.add_basemap(ax, crs=crs, source=cx.providers.CartoDB.Positron, zorder=0)\n",
    "\n",
    "# Base map with labels overlaid\n",
    "# cx.add_basemap(ax, crs=crs, source=cx.providers.CartoDB.PositronNoLabels, zorder=0)\n",
    "# cx.add_basemap(ax, crs=crs, source=cx.providers.CartoDB.PositronOnlyLabels, zorder=3)\n",
    "\n",
    "plt.savefig('large_scale_map.eps')\n",
    "\n",
    "plt.show()"
   ]
  },
  {
   "cell_type": "markdown",
   "id": "4a7e62ca-1365-448c-869e-770b2aa5d4d3",
   "metadata": {},
   "source": [
    "## Folium\n",
    "\n",
    "To make an interactive map with the popular [Leaflet.js](https://leafletjs.com/reference) JavaScript library, we can use Folium."
   ]
  },
  {
   "cell_type": "code",
   "execution_count": null,
   "id": "aeec761b-7c9f-4c30-8abb-c728af0c88ff",
   "metadata": {},
   "outputs": [],
   "source": [
    "# !pip install folium"
   ]
  },
  {
   "cell_type": "code",
   "execution_count": null,
   "id": "ef4336d2-078c-430e-9cb0-f24ffbd8d217",
   "metadata": {},
   "outputs": [],
   "source": [
    "import folium"
   ]
  },
  {
   "cell_type": "code",
   "execution_count": null,
   "id": "0895fb75-97d9-4bbd-8950-7a2f7737d397",
   "metadata": {},
   "outputs": [],
   "source": [
    "affordable_housing = gpd.read_file('affordable_housing.geojson')\n",
    "tracts = gpd.read_file('dc_tracts.geojson')\n",
    "\n",
    "# Project into lat and long (WGS84)\n",
    "affordable_housing = affordable_housing.to_crs(4326)\n",
    "tracts = tracts.to_crs(4326)\n",
    "\n",
    "# Drop column with timestamps because they interfere with Folium\n",
    "affordable_housing = affordable_housing.drop(columns=['GIS_LAST_MOD_DTTM'])\n",
    "\n",
    "# Identify map center\n",
    "lon_min, lat_min, lon_max, lat_max = tracts.total_bounds\n",
    "lon_center = (lon_max + lon_min) / 2\n",
    "lat_center = (lat_max + lat_min) / 2\n",
    "\n",
    "# Initiate map\n",
    "map = folium.Map(location=(lat_center, lon_center), zoom_start=12)\n",
    "# map = folium.Map(location=(lat_center, lon_center), zoom_start=12, tiles=\"Cartodb Positron\")\n",
    "\n",
    "# Add tracts\n",
    "tract_style = {\n",
    "    'weight': 1,\n",
    "    'color': 'black',\n",
    "    'fillColor': '#00000000',\n",
    "    'fillOpacity': 1,\n",
    "    }\n",
    "folium.GeoJson(data=tracts.to_json(), style_function=lambda x: tract_style).add_to(map)\n",
    "\n",
    "# Add affordable housing points\n",
    "circle_marker = folium.CircleMarker(radius = 4, weight = 1, color='white', fillColor = 'darkblue', fill_opacity=1)\n",
    "affordable_housing_points = folium.GeoJson(affordable_housing.to_json(), marker=circle_marker)\n",
    "folium.features.GeoJsonPopup(fields=['PROJECT_NAME','TOTAL_AFFORDABLE_UNITS'], labels=True).add_to(affordable_housing_points)\n",
    "affordable_housing_points.add_to(map)\n",
    "\n",
    "map"
   ]
  },
  {
   "cell_type": "markdown",
   "id": "ecd8b9f0-fc6c-46e6-8804-fef27680bc93",
   "metadata": {},
   "source": [
    "## GeoPandas `explore`\n",
    "\n",
    "To make life just a little easier, GeoPandas has a built-in method for making a Folium map with `explore`."
   ]
  },
  {
   "cell_type": "code",
   "execution_count": null,
   "id": "0852f66e-7eaf-4863-a9a0-836934d9ac64",
   "metadata": {},
   "outputs": [],
   "source": [
    "m = tracts.explore(\n",
    "    tiles='CartoDB positron',\n",
    "    attr='MapBox CartoDB positron',\n",
    "    style_kwds={\n",
    "        'weight': 1,\n",
    "        'color': 'black',\n",
    "        'fillColor': '#00000000',\n",
    "        'fillOpacity': 1,\n",
    "    },\n",
    ")\n",
    "\n",
    "m = affordable_housing.explore(\n",
    "    m=m,\n",
    "    marker_kwds={\n",
    "        'radius':4, \n",
    "        'weight':1, \n",
    "        'color':'white', \n",
    "        'fillColor':'darkblue', \n",
    "        'fill_opacity':1\n",
    "    },\n",
    ")\n",
    "\n",
    "m"
   ]
  },
  {
   "cell_type": "markdown",
   "id": "9a897133-7220-47bb-8351-35c860e1138f",
   "metadata": {},
   "source": [
    "## CartoPy\n",
    "\n",
    "If you're making a smaller-scale map of a state, country, or continent (can you guess why the scale is called \"smaller\"?) you may need to use a specialized projection to avoid distortion or preserve particular qualities (e.g., using an equidistant projection to allow for measurement between distant points).\n",
    "\n",
    "A package called CartoPy enables mapping in Python with nearly any projection. It also allows you to access convenient base layers from [Natural Earth](https://www.naturalearthdata.com/), a free database of global basemap data for cultural (e.g., borders) and physical (e.g., coastlines) features."
   ]
  },
  {
   "cell_type": "code",
   "execution_count": null,
   "id": "f70889cd-c52f-4e0f-aaa8-6b91a7d288ca",
   "metadata": {},
   "outputs": [],
   "source": [
    "# !pip install cartopy"
   ]
  },
  {
   "cell_type": "code",
   "execution_count": null,
   "id": "5c70e30e-f5da-4f38-9446-75ac8264cb55",
   "metadata": {},
   "outputs": [],
   "source": [
    "import cartopy.crs as ccrs\n",
    "import cartopy.feature as cfeature"
   ]
  },
  {
   "cell_type": "code",
   "execution_count": null,
   "id": "a583ea8d-0e20-4f51-90d4-deff00cc8884",
   "metadata": {},
   "outputs": [],
   "source": [
    "# Define highlight city\n",
    "highlight_city = 'Washington,  D.C.'\n",
    "# highlight_city = 'Chicago'\n",
    "\n",
    "# Load city points\n",
    "pop_places = gpd.read_file('ne_10m_populated_places_simple.zip')\n",
    "\n",
    "# Define map center and extents around the highlight city\n",
    "lon_center = pop_places[pop_places['name'] == highlight_city].geometry.x.iloc[0]\n",
    "lat_center = pop_places[pop_places['name'] == highlight_city].geometry.y.iloc[0]\n",
    "extent = 50\n",
    "lon_min = lon_center + (extent / 2)\n",
    "lon_max = lon_center - (extent / 2)\n",
    "lat_min = lat_center - (extent / 2)\n",
    "lat_max = lat_center + (extent / 2)\n",
    "\n",
    "# Define projection centered on highlight city\n",
    "crs = ccrs.AzimuthalEquidistant(central_longitude=lon_center, central_latitude=lat_center)\n",
    "\n",
    "# Project cities into axis coordinate system\n",
    "pop_places = pop_places.to_crs(crs.proj4_init)\n",
    "\n",
    "# Constrain to cities only one rank lower than the highlight\n",
    "rank = pop_places[pop_places['name'] == highlight_city].scalerank.iloc[0] + 1\n",
    "pop_places = pop_places[pop_places.scalerank <= rank]\n",
    "\n",
    "# Initiate figure\n",
    "fig = plt.figure(figsize=(15, 10))\n",
    "\n",
    "# Initiate axis with defined projection\n",
    "ax = plt.subplot(1, 1, 1, projection=crs)\n",
    "ax.set_extent([lon_min, lon_max, lat_min, lat_max], crs=ccrs.PlateCarree())\n",
    "\n",
    "# Add base features\n",
    "ax.add_feature(cfeature.BORDERS, linewidth=0.5, edgecolor='blue', linestyle='--', zorder=0)\n",
    "ax.add_feature(cfeature.LAND, zorder=1)\n",
    "ax.add_feature(cfeature.COASTLINE, zorder=2)\n",
    "ax.add_feature(cfeature.LAKES, alpha=0.5, zorder=3)\n",
    "ax.add_feature(cfeature.STATES, zorder=4)\n",
    "ax.add_feature(cfeature.RIVERS, zorder=5)\n",
    "\n",
    "# Add city points\n",
    "pop_places.plot(ax=ax, markersize=5, color='k', zorder=1)\n",
    "pop_places[pop_places['name'] == highlight_city].plot(ax=ax, markersize=50, color='r', zorder=6)\n",
    "\n",
    "# Label cities\n",
    "def annotate(record):\n",
    "    if record['name'] == highlight_city:\n",
    "        ax.annotate(record['name'], weight='bold', size=14, color='red', xy=record.geometry.coords[0], xytext=(3, 3), textcoords='offset points', clip_on=True)\n",
    "    else:\n",
    "        ax.annotate(record['name'], xy=record.geometry.coords[0], xytext=(3, 3), textcoords='offset points', clip_on=True)\n",
    "pop_places.apply(annotate, axis=1)\n",
    "\n",
    "plt.savefig('small_scale_map.eps', format='eps')\n",
    "\n",
    "plt.show()"
   ]
  },
  {
   "cell_type": "code",
   "execution_count": null,
   "id": "b5709342-bf89-4b47-b012-971a7adb89b4",
   "metadata": {},
   "outputs": [],
   "source": []
  }
 ],
 "metadata": {
  "colab": {
   "provenance": []
  },
  "kernelspec": {
   "display_name": "Python 3 (ipykernel)",
   "language": "python",
   "name": "python3"
  },
  "language_info": {
   "codemirror_mode": {
    "name": "ipython",
    "version": 3
   },
   "file_extension": ".py",
   "mimetype": "text/x-python",
   "name": "python",
   "nbconvert_exporter": "python",
   "pygments_lexer": "ipython3",
   "version": "3.13.1"
  }
 },
 "nbformat": 4,
 "nbformat_minor": 5
}
