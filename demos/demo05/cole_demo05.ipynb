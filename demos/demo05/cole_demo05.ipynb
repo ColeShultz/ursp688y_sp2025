{
 "cells": [
  {
   "cell_type": "markdown",
   "id": "13b62af4-9c03-46d7-805c-cebadd28185e",
   "metadata": {
    "editable": true,
    "slideshow": {
     "slide_type": ""
    },
    "tags": []
   },
   "source": [
    "Urban Data Science & Smart Cities <br>\n",
    "URSP688Y Spring 2025<br>\n",
    "Instructor: Chester Harvey <br>\n",
    "Urban Studies & Planning <br>\n",
    "National Center for Smart Growth <br>\n",
    "University of Maryland"
   ]
  },
  {
   "attachments": {},
   "cell_type": "markdown",
   "id": "b7d7937e-5289-44bb-ac8b-1e0b03a74e0b",
   "metadata": {},
   "source": [
    "# Demo 5 - Accessing and Wrangling Data from the Web\n",
    "\n",
    "- GitHub Branches\n",
    "- Loading Data from the Web with APIs\n",
    "- Debugging"
   ]
  },
  {
   "cell_type": "code",
   "execution_count": 2,
   "id": "3077b09e-1556-4fd8-9cee-856b57d8c0a4",
   "metadata": {},
   "outputs": [],
   "source": [
    "# Import package dependencies\n",
    "import pandas as pd\n",
    "import requests # for making RESTful API requests\n",
    "import json # for converting strings in JSON format to python dictionaries and lists\n",
    "import yaml # for converting yaml-structured text into python dictionaries and lists\n",
    "import os # for basic operating system functions, like compiling paths\n",
    "from datetime import datetime # for getting current date and time"
   ]
  },
  {
   "cell_type": "markdown",
   "id": "ec02c415-3b9f-4914-926b-90742fa0cb27",
   "metadata": {},
   "source": [
    "## APIs (Application Programming Interfaces)\n",
    "\n",
    "APIs are an interface for accessing information. At the most general level, nearly all programs that can be accessed with code have an API.\n",
    "\n",
    "Python functions, for example, are programs with APIs. You access them by calling the function name and defining arguments.\n",
    "\n",
    "In practice, when people talk about getting data from APIs they are usually talking about web APIs\n",
    "- These are usually designed with a software architecture called [REST](https://en.wikipedia.org/wiki/REST).\n",
    "- Using a REST API involves making a request to a URL and receiving a response.\n",
    "- Often, that response is in a format called [JSON](https://en.wikipedia.org/wiki/JSON), which is structured like nested dictionaries and lists.\n",
    "\n",
    "Today, we're going to practice retrieving data about cities from web APIs, then wrangling the data they return into a tabular format we can analyze.\n",
    "\n",
    "Making a request to an API is just another way to get data, similar to downloading it from an open data portal. Why would you bother querying an API instead of just downloading a table?\n",
    "- APIs allow programmatic access to data that can be easily scaled, replicated, and documented\n",
    "- APIs can allow customization of which data you are accessing\n",
    "- JSON allows for much more complex data structures than downloadable tables\n",
    "- APIs can be an easy way to access real-time data\n",
    "- Can we think of other reasons?"
   ]
  },
  {
   "cell_type": "markdown",
   "id": "5c50a0d3-682e-40d6-950e-e266e6dce178",
   "metadata": {},
   "source": [
    "### Capital Bikeshare Data — Free, simple, real-time\n",
    "\n",
    "Some APIs with data about cities are free and simple. The Capital Bikeshare (CABI) system, for example, has an API that reports on the status of bikes in its system in real-time. It's available free as part of CABI's operating agreement with the City of Washington, D.C.\n",
    "\n",
    "The District Department of Transportation (DDOT) lists APIs for all of the micromobility systems operating in the city on [this webpage](https://ddot.dc.gov/page/dockless-api).\n",
    "\n",
    "Let's request some data from the CABI systems and see what it looks like.\n",
    "\n",
    "- What could we do with these data?\n",
    "- What are its limitations?"
   ]
  },
  {
   "cell_type": "code",
   "execution_count": 8,
   "id": "8ee710f4-0e49-4a18-94ed-e577bf8aaf58",
   "metadata": {},
   "outputs": [
    {
     "data": {
      "text/plain": [
       "<Response [200]>"
      ]
     },
     "execution_count": 8,
     "metadata": {},
     "output_type": "execute_result"
    }
   ],
   "source": [
    "# Making a \"GET\" request\n",
    "response = requests.get('https://gbfs.lyft.com/gbfs/1.1/dca-cabi/en/free_bike_status.json')\n",
    "\n",
    "# Get JSON content\n",
    "data = response.json()\n",
    "\n",
    "response"
   ]
  },
  {
   "cell_type": "code",
   "execution_count": null,
   "id": "4e8fc694-c65e-4e22-9550-998bc3273ef1",
   "metadata": {},
   "outputs": [],
   "source": [
    "data"
   ]
  },
  {
   "cell_type": "code",
   "execution_count": 6,
   "id": "f8ff22cb-d27f-4014-aa23-a10ed18c854c",
   "metadata": {},
   "outputs": [
    {
     "data": {
      "text/plain": [
       "dict_keys(['data', 'last_updated', 'ttl', 'version'])"
      ]
     },
     "execution_count": 6,
     "metadata": {},
     "output_type": "execute_result"
    }
   ],
   "source": [
    "# Inspect the keys\n",
    "data.keys()"
   ]
  },
  {
   "cell_type": "code",
   "execution_count": 9,
   "id": "5e66bffa-2097-4eaa-84ac-20ffdf8fc902",
   "metadata": {},
   "outputs": [
    {
     "data": {
      "text/html": [
       "<div>\n",
       "<style scoped>\n",
       "    .dataframe tbody tr th:only-of-type {\n",
       "        vertical-align: middle;\n",
       "    }\n",
       "\n",
       "    .dataframe tbody tr th {\n",
       "        vertical-align: top;\n",
       "    }\n",
       "\n",
       "    .dataframe thead th {\n",
       "        text-align: right;\n",
       "    }\n",
       "</style>\n",
       "<table border=\"1\" class=\"dataframe\">\n",
       "  <thead>\n",
       "    <tr style=\"text-align: right;\">\n",
       "      <th></th>\n",
       "      <th>is_disabled</th>\n",
       "      <th>lon</th>\n",
       "      <th>is_reserved</th>\n",
       "      <th>bike_id</th>\n",
       "      <th>rental_uris</th>\n",
       "      <th>fusion_lat</th>\n",
       "      <th>fusion_lon</th>\n",
       "      <th>type</th>\n",
       "      <th>name</th>\n",
       "      <th>lat</th>\n",
       "    </tr>\n",
       "  </thead>\n",
       "  <tbody>\n",
       "    <tr>\n",
       "      <th>0</th>\n",
       "      <td>0</td>\n",
       "      <td>-77.076232</td>\n",
       "      <td>0</td>\n",
       "      <td>ef5f3f1bae98b6561e0de7aa29cebfe8</td>\n",
       "      <td>{'ios': 'https://dc.lft.to/lastmile_qr_scan', ...</td>\n",
       "      <td>0.0</td>\n",
       "      <td>0.0</td>\n",
       "      <td>electric_bike</td>\n",
       "      <td>483-2424</td>\n",
       "      <td>38.988013</td>\n",
       "    </tr>\n",
       "    <tr>\n",
       "      <th>1</th>\n",
       "      <td>0</td>\n",
       "      <td>-77.031702</td>\n",
       "      <td>0</td>\n",
       "      <td>a80b010d13f70096a1cabb74f552708e</td>\n",
       "      <td>{'ios': 'https://dc.lft.to/lastmile_qr_scan', ...</td>\n",
       "      <td>0.0</td>\n",
       "      <td>0.0</td>\n",
       "      <td>electric_bike</td>\n",
       "      <td>871-7670</td>\n",
       "      <td>38.899543</td>\n",
       "    </tr>\n",
       "    <tr>\n",
       "      <th>2</th>\n",
       "      <td>0</td>\n",
       "      <td>-77.086983</td>\n",
       "      <td>0</td>\n",
       "      <td>f022706b1894c2b498008a6acf86ea07</td>\n",
       "      <td>{'ios': 'https://dc.lft.to/lastmile_qr_scan', ...</td>\n",
       "      <td>0.0</td>\n",
       "      <td>0.0</td>\n",
       "      <td>electric_bike</td>\n",
       "      <td>339-0820</td>\n",
       "      <td>38.900852</td>\n",
       "    </tr>\n",
       "    <tr>\n",
       "      <th>3</th>\n",
       "      <td>0</td>\n",
       "      <td>-77.072067</td>\n",
       "      <td>0</td>\n",
       "      <td>0bdfc94dfcedd95f2e067868b70f81df</td>\n",
       "      <td>{'ios': 'https://dc.lft.to/lastmile_qr_scan', ...</td>\n",
       "      <td>0.0</td>\n",
       "      <td>0.0</td>\n",
       "      <td>electric_bike</td>\n",
       "      <td>872-1383</td>\n",
       "      <td>38.868240</td>\n",
       "    </tr>\n",
       "    <tr>\n",
       "      <th>4</th>\n",
       "      <td>0</td>\n",
       "      <td>-77.006615</td>\n",
       "      <td>0</td>\n",
       "      <td>c30b7ac11cca92c124249952839de6d4</td>\n",
       "      <td>{'ios': 'https://dc.lft.to/lastmile_qr_scan', ...</td>\n",
       "      <td>0.0</td>\n",
       "      <td>0.0</td>\n",
       "      <td>electric_bike</td>\n",
       "      <td>492-9212</td>\n",
       "      <td>38.978051</td>\n",
       "    </tr>\n",
       "  </tbody>\n",
       "</table>\n",
       "</div>"
      ],
      "text/plain": [
       "   is_disabled        lon  is_reserved                           bike_id  \\\n",
       "0            0 -77.076232            0  ef5f3f1bae98b6561e0de7aa29cebfe8   \n",
       "1            0 -77.031702            0  a80b010d13f70096a1cabb74f552708e   \n",
       "2            0 -77.086983            0  f022706b1894c2b498008a6acf86ea07   \n",
       "3            0 -77.072067            0  0bdfc94dfcedd95f2e067868b70f81df   \n",
       "4            0 -77.006615            0  c30b7ac11cca92c124249952839de6d4   \n",
       "\n",
       "                                         rental_uris  fusion_lat  fusion_lon  \\\n",
       "0  {'ios': 'https://dc.lft.to/lastmile_qr_scan', ...         0.0         0.0   \n",
       "1  {'ios': 'https://dc.lft.to/lastmile_qr_scan', ...         0.0         0.0   \n",
       "2  {'ios': 'https://dc.lft.to/lastmile_qr_scan', ...         0.0         0.0   \n",
       "3  {'ios': 'https://dc.lft.to/lastmile_qr_scan', ...         0.0         0.0   \n",
       "4  {'ios': 'https://dc.lft.to/lastmile_qr_scan', ...         0.0         0.0   \n",
       "\n",
       "            type      name        lat  \n",
       "0  electric_bike  483-2424  38.988013  \n",
       "1  electric_bike  871-7670  38.899543  \n",
       "2  electric_bike  339-0820  38.900852  \n",
       "3  electric_bike  872-1383  38.868240  \n",
       "4  electric_bike  492-9212  38.978051  "
      ]
     },
     "execution_count": 9,
     "metadata": {},
     "output_type": "execute_result"
    }
   ],
   "source": [
    "# Make a dataframe out of data for available bikes\n",
    "df = pd.DataFrame(data['data']['bikes'])\n",
    "\n",
    "df.head()"
   ]
  },
  {
   "cell_type": "code",
   "execution_count": 17,
   "id": "3d87a663-cd7a-446d-bba2-fd73f2b6ddf8",
   "metadata": {},
   "outputs": [
    {
     "data": {
      "text/plain": [
       "type\n",
       "electric_bike    999\n",
       "Name: count, dtype: int64"
      ]
     },
     "execution_count": 17,
     "metadata": {},
     "output_type": "execute_result"
    }
   ],
   "source": [
    "df['type'].value_counts()"
   ]
  },
  {
   "cell_type": "code",
   "execution_count": 18,
   "id": "bc0f8ead-f1ae-4e8c-b57b-7e7fefe7ef88",
   "metadata": {},
   "outputs": [],
   "source": [
    "# Save the json data for later\n",
    "\n",
    "def save_json(data, file_name, timestamp=False):\n",
    "    \"\"\"Save data as json file\n",
    "    data: json-compatable data structure (nested dicts and lists)\n",
    "    file_name: string for file name; DO NOT include file extension (e.g., \".json\")\n",
    "    \"\"\"\n",
    "    if timestamp:\n",
    "        file_name = f'{file_name}_{timestamp}.json'\n",
    "    else:\n",
    "        file_name = f'{file_name}.json'\n",
    "    with open(file_name, 'w') as f:\n",
    "        json.dump(data, f, indent=4)\n",
    "\n",
    "save_json(data, 'cabi_data')"
   ]
  },
  {
   "cell_type": "code",
   "execution_count": 22,
   "id": "18230335-446c-406c-bfaf-b39e3cc30be6",
   "metadata": {},
   "outputs": [
    {
     "data": {
      "text/plain": [
       "1740435508"
      ]
     },
     "execution_count": 22,
     "metadata": {},
     "output_type": "execute_result"
    }
   ],
   "source": [
    "data['last_updated']"
   ]
  },
  {
   "cell_type": "code",
   "execution_count": 26,
   "id": "3f792f12-351a-476a-9383-dbb517503ba9",
   "metadata": {},
   "outputs": [],
   "source": [
    "# Make an automated workflow to retrieve data and save it, all at once\n",
    "\n",
    "def get_and_save_cabi_data():\n",
    "    \"\"\"Get current data from the CABI API and save as a timestamped JSON\n",
    "    \"\"\"\n",
    "    # Making a \"GET\" request\n",
    "    response = requests.get('https://gbfs.lyft.com/gbfs/1.1/dca-cabi/en/free_bike_status.json')\n",
    "    # Get JSON content\n",
    "    data = response.json()\n",
    "    # Get timestamp from data\n",
    "    timestamp = data['last_updated']\n",
    "    # Save to file\n",
    "    save_json(data, 'cabi_data', timestamp) "
   ]
  },
  {
   "cell_type": "code",
   "execution_count": 27,
   "id": "6264b771-cdf2-4779-8322-89830b8def60",
   "metadata": {},
   "outputs": [],
   "source": [
    "# Run the automated workflow\n",
    "# Could we do this on a schedule to collect \"snapshots\" of the state of the CABI system?\n",
    "get_and_save_cabi_data()"
   ]
  },
  {
   "cell_type": "markdown",
   "id": "13534208-f2df-472d-a1ed-16fd46b89b83",
   "metadata": {},
   "source": [
    "### Rentcast — Paid, more complex, updated less frequently\n",
    "\n",
    "Free APIs like for CABI are becoming less common. (Does this sound familiar in light of today's reading about smart cities as emerging markets?) Many other APIs require that you pay for data, either through a subscription or for request you make. Some have free tiers, but they're usually quite limited.\n",
    "\n",
    "Several years ago, Zillow provided data about real estate markets through a free API available to the public. You now have to go through a complicated application process to get access to their API, and your use case needs to be aligned with their business model.\n",
    "\n",
    "An alternative source of real estate data is a company called [Rentcast](https://www.rentcast.io/). They allow anyone to set up an account and purchase data through an API, and it [gets expensive fast](https://www.rentcast.io/api#api-pricing). You get 50 requests free for \"development,\" but after that you pay \\\\$0.20 per request or \\\\$74 per month for a subscription to make up to 1,000 requests.\n",
    "\n",
    "They keep track of who is making requests with an 'API key', which is a long string of characters you include in your request as a 'header'. Because API keys are attached to billing information (i.e., your credit card), they're very sensitive. You ***NEVER*** want to commit your API key to GitHub or share it anywhere else publicly.\n",
    "\n",
    "It's best practice to store your API key in a separate file—I like to use a format called YAML—that you prevent from being committed by adding it to your respository's `.gitignore` file. This is a list of files that you explicitly tell git not to keep track of.\n",
    "\n",
    "When you want to use your API key, you load the configs into memory in the Python kernel you're currently working in. When you close or restart the kernel, the computer forgets it."
   ]
  },
  {
   "cell_type": "code",
   "execution_count": null,
   "id": "1935aacd-2a74-4265-a044-5cf2736c56a3",
   "metadata": {},
   "outputs": [],
   "source": [
    "# Load personal data from a configs file (API key, local data path)\n",
    "with open('configs.yaml', 'r') as file:\n",
    "    CONFIGS = yaml.safe_load(file)"
   ]
  },
  {
   "cell_type": "code",
   "execution_count": null,
   "id": "f5effe94-f582-4b37-83f4-ddb2f0322d05",
   "metadata": {},
   "outputs": [],
   "source": [
    "# Load eviction data we used last week\n",
    "df = pd.read_csv('District_Court_of_Maryland_Eviction_Case_Data_MG_PG.csv')"
   ]
  },
  {
   "cell_type": "code",
   "execution_count": null,
   "id": "957b89ac-e22a-4168-8c6e-b7bffecaa0ee",
   "metadata": {},
   "outputs": [],
   "source": [
    "# Get rentcast market data for the 10 zipcodes that are most represented in the eviction case data\n",
    "zipcodes = df['Tenant ZIP Code'].value_counts().head(1).index.astype('Int64')\n",
    "for zipcode in zipcodes:\n",
    "    # Make GET request to rentcast API\n",
    "    url = f'https://api.rentcast.io/v1/markets?zipCode={zipcode}&dataType=All&historyRange=6'\n",
    "    headers = {\n",
    "        'X-Api-Key': CONFIGS['rentcast_api_key'],\n",
    "        'Accept': 'application/json', \n",
    "    }\n",
    "    response = requests.get(url, headers=headers)\n",
    "    data = response.json()\n",
    "    # Save to json\n",
    "    file_path = f'rentcast_{zipcode}.json')\n",
    "    with open(file_path, 'w') as file:\n",
    "        json.dump(data, file, indent=4)"
   ]
  },
  {
   "cell_type": "code",
   "execution_count": null,
   "id": "780de3d4-328f-44c7-8aa8-df59febf9f64",
   "metadata": {},
   "outputs": [],
   "source": [
    "# Preview the data\n",
    "data"
   ]
  },
  {
   "cell_type": "markdown",
   "id": "89acaf1a-a772-4f22-bdd7-06e765bd1bb5",
   "metadata": {},
   "source": [
    "## Debugging\n",
    "\n",
    "Errors are frustrating and inevitable. Even professional programmers probably spend most of their time debugging.\n",
    "\n",
    "Luckily, there are good tools and techniques for making debugging a little easier.\n",
    "\n",
    "An \"interactive debugger\" helps diagnose problems by stepping through the code one line at a time.\n",
    "\n",
    "The debugger provides tools for setting \"breakpoints\" where the code will stop running temporarily, a table that shows the values of variables at that time, and buttons to start, stop, and step through the code.\n",
    "\n",
    "https://jupyterlab.readthedocs.io/en/stable/user/debugger.html"
   ]
  },
  {
   "cell_type": "code",
   "execution_count": null,
   "id": "a8abf17d-39e7-4da1-8d0a-f55121ca8a57",
   "metadata": {},
   "outputs": [],
   "source": [
    "def check_adult(age, cutoff=18):\n",
    "    if age < cutoff:\n",
    "        adult = False\n",
    "    else:\n",
    "        adult = True\n",
    "    return adult\n",
    "\n",
    "check_adult(20)"
   ]
  },
  {
   "cell_type": "markdown",
   "id": "1c418985-eb94-45c3-8790-f992b7f9621f",
   "metadata": {},
   "source": [
    "## Style guidelines for Python\n",
    "- At the very least, do things consistently\n",
    "- One statement per line\n",
    "- Try to limit line length to 72 characters\n",
    "- Use four spaces to indent\n",
    "- Put spaces around operators (e.g., `1 + 1` or `day = 'Monday'`) (except in keyword function arguments)\n",
    "- Use blank lines intentionally and consistently\n",
    "- Use meaningful names\n",
    "- Name variables and functions with `lowercase_underscores`\n",
    "- Constants are often named in `ALL_CAPS_WITH_UNDERSCORES` (e.g., `C = 2.99792458e+8`)\n",
    "- Name custom classes with `CapWords`\n",
    "- In general, avoid spaces in folder and filenames used for programming\n",
    "\n",
    "See [Code Readability](https://github.com/ncsg/ursp688y_sp2024/blob/main/README.md#code-readability) on the syllabus. [CS61A](https://cs61a.org/articles/composition/) has an excellent composition guide. [PEP 8](https://peps.python.org/pep-0008/) is a standard Python style guide. [Google](https://google.github.io/styleguide/pyguide.html) publishes their internal Python style guide."
   ]
  }
 ],
 "metadata": {
  "kernelspec": {
   "display_name": "Python 3 (ipykernel)",
   "language": "python",
   "name": "python3"
  },
  "language_info": {
   "codemirror_mode": {
    "name": "ipython",
    "version": 3
   },
   "file_extension": ".py",
   "mimetype": "text/x-python",
   "name": "python",
   "nbconvert_exporter": "python",
   "pygments_lexer": "ipython3",
   "version": "3.12.8"
  }
 },
 "nbformat": 4,
 "nbformat_minor": 5
}
